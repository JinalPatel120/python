{
 "cells": [
  {
   "cell_type": "code",
   "execution_count": 1,
   "id": "274d7d13-381e-487a-abb8-1eeffd34452e",
   "metadata": {},
   "outputs": [
    {
     "name": "stdout",
     "output_type": "stream",
     "text": [
      "4\n"
     ]
    }
   ],
   "source": [
    "def func(a):  #positional parameters or required parameters\n",
    "    print(a)\n",
    "\n",
    "func(4)"
   ]
  },
  {
   "cell_type": "code",
   "execution_count": 4,
   "id": "da2c0575-f15e-46eb-9b9e-c7717f45b460",
   "metadata": {},
   "outputs": [
    {
     "name": "stdout",
     "output_type": "stream",
     "text": [
      "9\n"
     ]
    }
   ],
   "source": [
    "def func1(a,b=8): # in this argument a is required parameters whereas b is default parameters if not given then takes default value 8\n",
    "    print(a+b)\n",
    "\n",
    "func1(1)"
   ]
  },
  {
   "cell_type": "code",
   "execution_count": 5,
   "id": "ee6d3b93-45fa-45b1-9012-3abf1a894702",
   "metadata": {},
   "outputs": [
    {
     "name": "stdout",
     "output_type": "stream",
     "text": [
      "('jinal', 'dixit', 'hina')\n"
     ]
    }
   ],
   "source": [
    "#arbitray arguments list\n",
    "''' this paramaeters allow a function to accept arbitrary number of arguments'''\n",
    "\n",
    "def fun(*args):\n",
    "    print(args)\n",
    "\n",
    "fun('jinal', 'dixit', 'hina')\n"
   ]
  },
  {
   "cell_type": "code",
   "execution_count": 6,
   "id": "06da2bdf-73cc-463a-8d21-9915154f2567",
   "metadata": {},
   "outputs": [
    {
     "name": "stdout",
     "output_type": "stream",
     "text": [
      "{'name': 'jinal', 'age': 21, 'surname': 'lathiya'}\n"
     ]
    }
   ],
   "source": [
    "def fun1(**kwargs):\n",
    "    print(kwargs)\n",
    "\n",
    "fun1(name='jinal', age=21, surname='lathiya')"
   ]
  },
  {
   "cell_type": "code",
   "execution_count": 7,
   "id": "7eef11bf-30e6-4e9e-b944-ad4f2cf4332c",
   "metadata": {},
   "outputs": [
    {
     "name": "stdout",
     "output_type": "stream",
     "text": [
      "jinal\n"
     ]
    }
   ],
   "source": [
    "#positional-only parameters\n",
    "\n",
    "'''parameters that only be passed by position and cannot be passed by name.'''\n",
    "\n",
    "def fun2(arg,/):\n",
    "    print(arg)\n",
    "\n",
    "fun2('jinal')"
   ]
  },
  {
   "cell_type": "code",
   "execution_count": 25,
   "id": "8a55b68d-3774-4f7a-b80e-16219adfa003",
   "metadata": {},
   "outputs": [
    {
     "name": "stdout",
     "output_type": "stream",
     "text": [
      "\n",
      "* \n",
      "* * \n",
      "* * * \n",
      "* * * * \n",
      "* * * * * \n",
      "* * * * * * \n",
      "* * * * * * * \n",
      "* * * * * * * * \n"
     ]
    }
   ],
   "source": [
    "for i in range(1,10):\n",
    "    for k in range(1,i,-1):\n",
    "        print(end=' ')\n",
    "    for j in range(1,i):\n",
    "        print('*',end=' ')\n",
    "    print( )"
   ]
  },
  {
   "cell_type": "code",
   "execution_count": 31,
   "id": "3f87f4c1-e7e5-4719-838f-d92bf9c29434",
   "metadata": {},
   "outputs": [
    {
     "name": "stdout",
     "output_type": "stream",
     "text": [
      "\n",
      "1 \n",
      "1 2 \n",
      "1 2 3 \n",
      "1 2 3 4 \n",
      "1 2 3 4 5 \n"
     ]
    }
   ],
   "source": [
    "for i in range(1,7):\n",
    "    for j in range(1,i):\n",
    "        print(j, end=' ')\n",
    "    print( )"
   ]
  },
  {
   "cell_type": "code",
   "execution_count": 33,
   "id": "c68b824d-2f9a-4d22-8b02-b9604b22426a",
   "metadata": {},
   "outputs": [
    {
     "name": "stdout",
     "output_type": "stream",
     "text": [
      "* * * * * * * * * \n",
      "* * * * * * * * \n",
      "* * * * * * * \n",
      "* * * * * * \n",
      "* * * * * \n",
      "* * * * \n",
      "* * * \n",
      "* * \n",
      "* \n",
      "\n"
     ]
    }
   ],
   "source": [
    "for i in range(10,0,-1):\n",
    "    for j in range(1,i):\n",
    "        print('*', end=' ')\n",
    "    print( )"
   ]
  },
  {
   "cell_type": "code",
   "execution_count": 34,
   "id": "4538d3c2-15d7-45e7-933d-be81beaa13a0",
   "metadata": {},
   "outputs": [
    {
     "name": "stdout",
     "output_type": "stream",
     "text": [
      "1 2 3 4 5 6 7 8 9 \n",
      "1 2 3 4 5 6 7 8 \n",
      "1 2 3 4 5 6 7 \n",
      "1 2 3 4 5 6 \n",
      "1 2 3 4 5 \n",
      "1 2 3 4 \n",
      "1 2 3 \n",
      "1 2 \n",
      "1 \n",
      "\n"
     ]
    }
   ],
   "source": [
    "for i in range(10,0,-1):\n",
    "    for j in range(1,i):\n",
    "        print(j,end=' ')\n",
    "    print( )"
   ]
  },
  {
   "cell_type": "code",
   "execution_count": 38,
   "id": "5af56c2f-a6c3-47a8-93be-00336509ff2f",
   "metadata": {},
   "outputs": [
    {
     "name": "stdout",
     "output_type": "stream",
     "text": [
      "         \n",
      "        *  \n",
      "       *  *  \n",
      "      *  *  *  \n",
      "     *  *  *  *  \n",
      "    *  *  *  *  *  \n",
      "   *  *  *  *  *  *  \n",
      "  *  *  *  *  *  *  *  \n",
      " *  *  *  *  *  *  *  *  \n"
     ]
    }
   ],
   "source": [
    "for i in range(1,10):\n",
    "    for k in range(10,i,-1):\n",
    "        print(end=' ')\n",
    "    for j in range(1,i):\n",
    "        print('*', end='  ')\n",
    "    print( )"
   ]
  },
  {
   "cell_type": "code",
   "execution_count": 46,
   "id": "d72fa36c-40d1-4d06-848f-21e132ecd67d",
   "metadata": {},
   "outputs": [
    {
     "name": "stdout",
     "output_type": "stream",
     "text": [
      "         \n",
      "        1 \n",
      "       1 2 \n",
      "      1 2 3 \n",
      "     1 2 3 4 \n",
      "    1 2 3 4 5 \n",
      "   1 2 3 4 5 6 \n",
      "  1 2 3 4 5 6 7 \n",
      " 1 2 3 4 5 6 7 8 \n"
     ]
    }
   ],
   "source": [
    "for i in range(1,10):\n",
    "    for k in range(10,i,-1):\n",
    "        print(end=' ')\n",
    "    for j in range(1,i):\n",
    "        print(j, end=' ')\n",
    "    print( )"
   ]
  },
  {
   "cell_type": "code",
   "execution_count": 48,
   "id": "78671cc4-b109-403e-b28f-f1a86222497a",
   "metadata": {},
   "outputs": [
    {
     "name": "stdout",
     "output_type": "stream",
     "text": [
      "* * * * * * * * * \n",
      " * * * * * * * * \n",
      "  * * * * * * * \n",
      "   * * * * * * \n",
      "    * * * * * \n",
      "     * * * * \n",
      "      * * * \n",
      "       * * \n",
      "        * \n",
      "         \n"
     ]
    }
   ],
   "source": [
    "for i in range(10,0,-1):\n",
    "    for k in range(10,i,-1):\n",
    "        print(end=' ')\n",
    "    for j in range(1,i):\n",
    "        print('*', end=' ')\n",
    "    print( )"
   ]
  },
  {
   "cell_type": "code",
   "execution_count": 50,
   "id": "ace7b200-39a0-45c5-8394-2217b9e43f00",
   "metadata": {},
   "outputs": [
    {
     "name": "stdout",
     "output_type": "stream",
     "text": [
      "         \n",
      "        * \n",
      "       * * \n",
      "      * * * \n",
      "     * * * * \n",
      "    * * * * * \n",
      "   * * * * * * \n",
      "  * * * * * * * \n",
      " * * * * * * * * \n",
      "* * * * * * * * * \n",
      " * * * * * * * * \n",
      "  * * * * * * * \n",
      "   * * * * * * \n",
      "    * * * * * \n",
      "     * * * * \n",
      "      * * * \n",
      "       * * \n",
      "        * \n",
      "         \n"
     ]
    }
   ],
   "source": [
    "for i in range(1,10):\n",
    "    for k in range(10,i,-1):\n",
    "        print(end=' ')\n",
    "    for j in range(1,i):\n",
    "        print('*', end=' ')\n",
    "    print()\n",
    "for a in range(10,0,-1):\n",
    "    for k in range(10,a,-1):\n",
    "        print(end=' ')\n",
    "    for j in range(1,a):\n",
    "        print('*', end=' ')\n",
    "    print()"
   ]
  },
  {
   "cell_type": "code",
   "execution_count": 53,
   "id": "0239f8eb-dc19-4492-a031-390353bd84ed",
   "metadata": {},
   "outputs": [
    {
     "name": "stdout",
     "output_type": "stream",
     "text": [
      "* * * * * * * * * \n",
      " * * * * * * * * \n",
      "  * * * * * * * \n",
      "   * * * * * * \n",
      "    * * * * * \n",
      "     * * * * \n",
      "      * * * \n",
      "       * * \n",
      "        * \n",
      "        * \n",
      "       * * \n",
      "      * * * \n",
      "     * * * * \n",
      "    * * * * * \n",
      "   * * * * * * \n",
      "  * * * * * * * \n",
      " * * * * * * * * \n"
     ]
    }
   ],
   "source": [
    "for a in range(10,1,-1):\n",
    "    for k in range(10,a,-1):\n",
    "        print(end=' ')\n",
    "    for j in range(1,a):\n",
    "        print('*', end=' ')\n",
    "    print()\n",
    "for i in range(2,10):\n",
    "    for k in range(10,i,-1):\n",
    "        print(end=' ')\n",
    "    for j in range(1,i):\n",
    "        print('*', end=' ')\n",
    "    print()"
   ]
  },
  {
   "cell_type": "code",
   "execution_count": 54,
   "id": "2f93d6aa-9a2b-469e-a78d-c3d996d43dcb",
   "metadata": {},
   "outputs": [
    {
     "name": "stdout",
     "output_type": "stream",
     "text": [
      "15\n"
     ]
    }
   ],
   "source": [
    "#lambda function\n",
    "\n",
    "x= lambda  a : a+10\n",
    "print(x(5))"
   ]
  },
  {
   "cell_type": "code",
   "execution_count": 55,
   "id": "f1ad48c7-a663-4432-b1e0-b01d67afc03d",
   "metadata": {},
   "outputs": [
    {
     "name": "stdout",
     "output_type": "stream",
     "text": [
      "6\n"
     ]
    }
   ],
   "source": [
    "x= lambda a, b: a*b\n",
    "print(x(2,3))"
   ]
  },
  {
   "cell_type": "code",
   "execution_count": 56,
   "id": "08bb3766-b2f9-4c5a-8c23-eda04d296d9a",
   "metadata": {},
   "outputs": [
    {
     "name": "stdout",
     "output_type": "stream",
     "text": [
      "9\n"
     ]
    }
   ],
   "source": [
    "x= lambda a, b, c: a+b+c\n",
    "print(x(2,3,4))"
   ]
  },
  {
   "cell_type": "code",
   "execution_count": 58,
   "id": "16dcacce-1bd1-4b3a-a480-fc4171fed883",
   "metadata": {},
   "outputs": [
    {
     "name": "stdout",
     "output_type": "stream",
     "text": [
      "[4, 6, 8, 10, 12, 14]\n"
     ]
    }
   ],
   "source": [
    "n=[2,3,4,5,6,7]\n",
    "x= list(map(lambda a : a*2,n))\n",
    "print(x)"
   ]
  },
  {
   "cell_type": "code",
   "execution_count": 60,
   "id": "7fc2580e-331a-4318-9a9a-fa5418f199d8",
   "metadata": {},
   "outputs": [
    {
     "name": "stdout",
     "output_type": "stream",
     "text": [
      "[12, 34, 32, 2, 2]\n"
     ]
    }
   ],
   "source": [
    "n=[12,23,34,32,2,1,2,3,43]\n",
    "x= list(filter(lambda a : a%2==0 , n))\n",
    "print(x)"
   ]
  },
  {
   "cell_type": "code",
   "execution_count": 64,
   "id": "4d245efd-7838-4f77-b924-3a2090e2435e",
   "metadata": {},
   "outputs": [
    {
     "name": "stdout",
     "output_type": "stream",
     "text": [
      "sgdjgajh\n",
      "    shdjk\n",
      "    sdgahdb\n",
      "Help on function myfunc in module __main__:\n",
      "\n",
      "myfunc()\n",
      "    sgdjgajh\n",
      "    shdjk\n",
      "    sdgahdb\n",
      "\n"
     ]
    }
   ],
   "source": [
    "def myfunc():\n",
    "    '''sgdjgajh\n",
    "    shdjk\n",
    "    sdgahdb'''\n",
    "    pass\n",
    "\n",
    "print(myfunc.__doc__)\n",
    "help(myfunc)"
   ]
  },
  {
   "cell_type": "code",
   "execution_count": 67,
   "id": "2d7b7851-8afb-4e3f-a108-bd85d4d7f246",
   "metadata": {},
   "outputs": [
    {
     "name": "stdout",
     "output_type": "stream",
     "text": [
      "7\n"
     ]
    }
   ],
   "source": [
    "#functioon annotations\n",
    "def add(x:int , y:int) -> int:\n",
    "    return x+y\n",
    "\n",
    "print(add(3,4))"
   ]
  },
  {
   "cell_type": "code",
   "execution_count": 71,
   "id": "44e6eb2c-67e2-4126-96c5-97733e534679",
   "metadata": {},
   "outputs": [
    {
     "name": "stdout",
     "output_type": "stream",
     "text": [
      "[1, 2, 3, 4, 5, 6, 7, 8, 9, 10]\n"
     ]
    }
   ],
   "source": [
    "n=[1,2,3,4,5,6,7,8,9]\n",
    "n.append(10)\n",
    "print(n)"
   ]
  },
  {
   "cell_type": "code",
   "execution_count": 72,
   "id": "6fa8770c-d0bf-4b27-b1a7-9ef2b5768195",
   "metadata": {},
   "outputs": [
    {
     "name": "stdout",
     "output_type": "stream",
     "text": [
      "[1, 2, 3, 4, 5, 6, 7, 8, 9, 10, 21, 23, 43, 45, 65]\n"
     ]
    }
   ],
   "source": [
    "n1=[21,23,43,45,65]\n",
    "n.extend(n1)\n",
    "print(n)"
   ]
  },
  {
   "cell_type": "code",
   "execution_count": 73,
   "id": "3b7225a2-e9ac-45b4-9265-c59874cd157e",
   "metadata": {},
   "outputs": [
    {
     "name": "stdout",
     "output_type": "stream",
     "text": [
      "[1, 23, 2, 3, 4, 5, 6, 7, 8, 9, 10, 21, 23, 43, 45, 65]\n"
     ]
    }
   ],
   "source": [
    "n.insert(1,23)\n",
    "print(n)"
   ]
  },
  {
   "cell_type": "code",
   "execution_count": 74,
   "id": "3e8cab98-fa5e-462e-9b21-7e0466730da7",
   "metadata": {},
   "outputs": [
    {
     "name": "stdout",
     "output_type": "stream",
     "text": [
      "[1, 2, 3, 4, 5, 6, 7, 8, 9, 10, 21, 23, 43, 45, 65]\n"
     ]
    }
   ],
   "source": [
    "n.remove(23)\n",
    "print(n)"
   ]
  },
  {
   "cell_type": "code",
   "execution_count": 82,
   "id": "6919b903-f2a5-439a-9a0e-77fa3fd249f2",
   "metadata": {},
   "outputs": [
    {
     "name": "stdout",
     "output_type": "stream",
     "text": [
      "3\n"
     ]
    }
   ],
   "source": [
    "m=n.pop(1)\n",
    "print(m)"
   ]
  },
  {
   "cell_type": "code",
   "execution_count": 81,
   "id": "be58dfef-b1e7-452f-9ff8-f477710b1fa1",
   "metadata": {},
   "outputs": [
    {
     "name": "stdout",
     "output_type": "stream",
     "text": [
      "1\n"
     ]
    }
   ],
   "source": [
    "m=n.count(3)\n",
    "print(m)"
   ]
  },
  {
   "cell_type": "code",
   "execution_count": 84,
   "id": "6bdc1d63-b258-4144-bf17-4da8b5eb4b71",
   "metadata": {},
   "outputs": [
    {
     "name": "stdout",
     "output_type": "stream",
     "text": [
      "[1, 4, 5, 6, 7, 8, 9, 10, 21, 23, 43, 45, 65]\n"
     ]
    }
   ],
   "source": [
    "n.sort()\n",
    "print(n)"
   ]
  },
  {
   "cell_type": "code",
   "execution_count": 85,
   "id": "e5b8f11f-b3bf-4963-9612-8bf1126886b1",
   "metadata": {},
   "outputs": [
    {
     "name": "stdout",
     "output_type": "stream",
     "text": [
      "[65, 45, 43, 23, 21, 10, 9, 8, 7, 6, 5, 4, 1]\n"
     ]
    }
   ],
   "source": [
    "n.reverse()\n",
    "print(n)"
   ]
  },
  {
   "cell_type": "code",
   "execution_count": 86,
   "id": "1803cb90-8884-45b6-a659-43c3b3a24ffe",
   "metadata": {},
   "outputs": [
    {
     "name": "stdout",
     "output_type": "stream",
     "text": [
      "[65, 45, 43, 23, 21, 10, 9, 8, 7, 6, 5, 4, 1]\n"
     ]
    }
   ],
   "source": [
    "m=n.copy()\n",
    "print(m)"
   ]
  },
  {
   "cell_type": "code",
   "execution_count": 87,
   "id": "91995696-e1cf-4028-ad2c-39784a62c704",
   "metadata": {},
   "outputs": [
    {
     "name": "stdout",
     "output_type": "stream",
     "text": [
      "[65, 45, 43, 23, 21, 10, 9, 8, 7, 6, 5, 4, 1]\n"
     ]
    }
   ],
   "source": [
    "print(n)"
   ]
  },
  {
   "cell_type": "code",
   "execution_count": 89,
   "id": "89358ee4-1b1e-44d2-a097-275a59e8c69b",
   "metadata": {},
   "outputs": [
    {
     "name": "stdout",
     "output_type": "stream",
     "text": [
      "[]\n"
     ]
    }
   ],
   "source": [
    "n.clear()\n",
    "print(n)"
   ]
  },
  {
   "cell_type": "code",
   "execution_count": 90,
   "id": "501fe98f-2714-4a67-a6dd-e8416ba3ab67",
   "metadata": {},
   "outputs": [
    {
     "name": "stdout",
     "output_type": "stream",
     "text": [
      "[65, 45, 43, 23, 21, 10, 9, 8, 7, 6, 5, 4, 1]\n"
     ]
    }
   ],
   "source": [
    "print(m)"
   ]
  },
  {
   "cell_type": "code",
   "execution_count": 93,
   "id": "05e096be-3b97-4051-ab0b-bc4521536def",
   "metadata": {},
   "outputs": [
    {
     "name": "stdout",
     "output_type": "stream",
     "text": [
      "[1, 2, 3, 4]\n",
      "4\n",
      "[1, 2, 3]\n"
     ]
    }
   ],
   "source": [
    "#stacks  which follows last in first out principle\n",
    "\n",
    "stack=[]\n",
    "stack.append(1)\n",
    "stack.append(2)\n",
    "stack.append(3)\n",
    "stack.append(4)\n",
    "\n",
    "print(stack)\n",
    "\n",
    "t=stack.pop()\n",
    "print(t)\n",
    "print(stack)"
   ]
  },
  {
   "cell_type": "code",
   "execution_count": 94,
   "id": "0ae4f0ec-b416-4d20-a543-32e57f3f005f",
   "metadata": {},
   "outputs": [
    {
     "name": "stdout",
     "output_type": "stream",
     "text": [
      "(12321, 21212, 'hello')\n"
     ]
    }
   ],
   "source": [
    "t= 12321,21212,'hello'\n",
    "print(t)"
   ]
  },
  {
   "cell_type": "code",
   "execution_count": 95,
   "id": "8e2eb5d7-e423-47a5-8fff-a750eb55b8d6",
   "metadata": {},
   "outputs": [
    {
     "data": {
      "text/plain": [
       "12321"
      ]
     },
     "execution_count": 95,
     "metadata": {},
     "output_type": "execute_result"
    }
   ],
   "source": [
    "t[0]"
   ]
  },
  {
   "cell_type": "code",
   "execution_count": 96,
   "id": "98d23bbb-0914-4016-bac5-dc5a8b976103",
   "metadata": {},
   "outputs": [],
   "source": [
    "u= t, (32,43,231,1)"
   ]
  },
  {
   "cell_type": "code",
   "execution_count": 97,
   "id": "8e28b09e-72b0-46aa-a82e-62d2c65e8157",
   "metadata": {},
   "outputs": [
    {
     "data": {
      "text/plain": [
       "((12321, 21212, 'hello'), (32, 43, 231, 1))"
      ]
     },
     "execution_count": 97,
     "metadata": {},
     "output_type": "execute_result"
    }
   ],
   "source": [
    "u"
   ]
  },
  {
   "cell_type": "code",
   "execution_count": 98,
   "id": "253602b7-1fb5-4de4-b56e-7602ac7f4f55",
   "metadata": {},
   "outputs": [
    {
     "data": {
      "text/plain": [
       "(12321, 21212, 'hello')"
      ]
     },
     "execution_count": 98,
     "metadata": {},
     "output_type": "execute_result"
    }
   ],
   "source": [
    "u[0]"
   ]
  },
  {
   "cell_type": "code",
   "execution_count": 99,
   "id": "58b5ddce-d10f-40db-9b6a-7247739d7d77",
   "metadata": {},
   "outputs": [
    {
     "data": {
      "text/plain": [
       "(32, 43, 231, 1)"
      ]
     },
     "execution_count": 99,
     "metadata": {},
     "output_type": "execute_result"
    }
   ],
   "source": [
    "u[1]"
   ]
  },
  {
   "cell_type": "code",
   "execution_count": 100,
   "id": "8b5469da-ce19-4f10-920c-da1e5c031fc7",
   "metadata": {},
   "outputs": [
    {
     "data": {
      "text/plain": [
       "21212"
      ]
     },
     "execution_count": 100,
     "metadata": {},
     "output_type": "execute_result"
    }
   ],
   "source": [
    "u[0][1]"
   ]
  },
  {
   "cell_type": "code",
   "execution_count": 102,
   "id": "1b0df68a-7d6b-4ad8-a936-3b2cf09eb06d",
   "metadata": {},
   "outputs": [
    {
     "data": {
      "text/plain": [
       "231"
      ]
     },
     "execution_count": 102,
     "metadata": {},
     "output_type": "execute_result"
    }
   ],
   "source": [
    "u[1][2]"
   ]
  },
  {
   "cell_type": "code",
   "execution_count": 104,
   "id": "1ceedd13-947f-482b-bf7f-5e8033bec2c7",
   "metadata": {},
   "outputs": [
    {
     "data": {
      "text/plain": [
       "([1, 2, 3, 4, 5], [3, 2, 12, 1])"
      ]
     },
     "execution_count": 104,
     "metadata": {},
     "output_type": "execute_result"
    }
   ],
   "source": [
    "v=([1,2,3,4,5],[3,2,12,1])\n",
    "v"
   ]
  },
  {
   "cell_type": "code",
   "execution_count": 105,
   "id": "e7b77b27-f50d-47dd-955c-40e325d5bd84",
   "metadata": {},
   "outputs": [
    {
     "data": {
      "text/plain": [
       "()"
      ]
     },
     "execution_count": 105,
     "metadata": {},
     "output_type": "execute_result"
    }
   ],
   "source": [
    "empty=()\n",
    "empty"
   ]
  },
  {
   "cell_type": "code",
   "execution_count": 106,
   "id": "1875ea69-62f7-4a7f-89ca-1d63e3fcb3d9",
   "metadata": {},
   "outputs": [
    {
     "data": {
      "text/plain": [
       "12321"
      ]
     },
     "execution_count": 106,
     "metadata": {},
     "output_type": "execute_result"
    }
   ],
   "source": [
    "x,y,z=t\n",
    "x"
   ]
  },
  {
   "cell_type": "code",
   "execution_count": 107,
   "id": "470e3f5f-5497-49bb-b287-b7385019e239",
   "metadata": {},
   "outputs": [
    {
     "data": {
      "text/plain": [
       "21212"
      ]
     },
     "execution_count": 107,
     "metadata": {},
     "output_type": "execute_result"
    }
   ],
   "source": [
    "y"
   ]
  },
  {
   "cell_type": "code",
   "execution_count": 108,
   "id": "6be46898-a0ce-4bad-9173-90ed510a89b5",
   "metadata": {},
   "outputs": [
    {
     "data": {
      "text/plain": [
       "'hello'"
      ]
     },
     "execution_count": 108,
     "metadata": {},
     "output_type": "execute_result"
    }
   ],
   "source": [
    "z"
   ]
  },
  {
   "cell_type": "code",
   "execution_count": 109,
   "id": "896ae150-5abf-4f41-bea8-e24f87ac3d92",
   "metadata": {},
   "outputs": [
    {
     "data": {
      "text/plain": [
       "{'apple', 'banana', 'orange', 'pear'}"
      ]
     },
     "execution_count": 109,
     "metadata": {},
     "output_type": "execute_result"
    }
   ],
   "source": [
    "basket={'apple', 'orange', 'banana', 'pear', 'orange', 'banana'}\n",
    "basket"
   ]
  },
  {
   "cell_type": "code",
   "execution_count": 110,
   "id": "0dff631a-2760-4a83-b2ad-74786d0067cd",
   "metadata": {},
   "outputs": [
    {
     "name": "stdout",
     "output_type": "stream",
     "text": [
      "banana\n",
      "orange\n",
      "pear\n",
      "apple\n"
     ]
    }
   ],
   "source": [
    "for i in basket:\n",
    "    print(i)"
   ]
  },
  {
   "cell_type": "code",
   "execution_count": 111,
   "id": "30efdb66-875e-4152-91a0-d324eb286434",
   "metadata": {},
   "outputs": [
    {
     "name": "stdout",
     "output_type": "stream",
     "text": [
      "apple\n",
      "banana\n",
      "orange\n",
      "pear\n"
     ]
    }
   ],
   "source": [
    "for i in sorted(basket):\n",
    "    print(i)"
   ]
  },
  {
   "cell_type": "code",
   "execution_count": 112,
   "id": "0aff0873-bd2c-4ae2-8e53-ab043cae6d65",
   "metadata": {},
   "outputs": [
    {
     "name": "stdout",
     "output_type": "stream",
     "text": [
      "[2, 4, 6, 8, 10]\n"
     ]
    }
   ],
   "source": [
    "#Write a  Python program to filter a list of integers using Lambda.\n",
    "\n",
    "n=[1,2,3,4,5,6,7,8,9,10]\n",
    "\n",
    "x= list(filter(lambda x : x%2==0,n))\n",
    "print(x)"
   ]
  },
  {
   "cell_type": "code",
   "execution_count": 113,
   "id": "a96aaa62-b400-477d-b318-d6bc4dc31b9f",
   "metadata": {},
   "outputs": [
    {
     "name": "stdout",
     "output_type": "stream",
     "text": [
      "[1, 4, 9, 16, 25, 36, 49, 64, 81, 100]\n"
     ]
    }
   ],
   "source": [
    "n=[1,2,3,4,5,6,7,8,9,10]\n",
    "x= list(map(lambda x: x*x,n))\n",
    "print(x)"
   ]
  },
  {
   "cell_type": "code",
   "execution_count": 114,
   "id": "f83a2b53-01bb-4a03-a5ec-05bd87af71c2",
   "metadata": {},
   "outputs": [
    {
     "name": "stdout",
     "output_type": "stream",
     "text": [
      "[1, 8, 27, 64, 125, 216, 343, 512, 729, 1000]\n"
     ]
    }
   ],
   "source": [
    "n=[1,2,3,4,5,6,7,8,9,10]\n",
    "m=list(map(lambda x: x*x*x,n))\n",
    "print(m)"
   ]
  },
  {
   "cell_type": "code",
   "execution_count": 116,
   "id": "b72cf22e-b949-4005-a9eb-2460ca7dc21d",
   "metadata": {},
   "outputs": [
    {
     "name": "stdout",
     "output_type": "stream",
     "text": [
      "5\n"
     ]
    }
   ],
   "source": [
    "class myclass:\n",
    "    x=5\n",
    "\n",
    "m=myclass()\n",
    "\n",
    "print(m.x)"
   ]
  },
  {
   "cell_type": "code",
   "execution_count": 117,
   "id": "db06d3c7-b09f-4b27-94bb-9c9d2e39feea",
   "metadata": {},
   "outputs": [
    {
     "name": "stdout",
     "output_type": "stream",
     "text": [
      "jinal\n"
     ]
    }
   ],
   "source": [
    "class person:\n",
    "    def __init__(self,name, age):\n",
    "        self.name=name\n",
    "        self.age=age\n",
    "\n",
    "p1=person('jinal', 23)\n",
    "print(p1.name)"
   ]
  },
  {
   "cell_type": "code",
   "execution_count": 119,
   "id": "80ce5c26-8f9b-4912-b88e-d937c4417e7d",
   "metadata": {},
   "outputs": [
    {
     "data": {
      "text/plain": [
       "23"
      ]
     },
     "execution_count": 119,
     "metadata": {},
     "output_type": "execute_result"
    }
   ],
   "source": [
    "p1.age"
   ]
  },
  {
   "cell_type": "code",
   "execution_count": 121,
   "id": "315f1b0c-9513-488d-ae2d-6053b105090f",
   "metadata": {},
   "outputs": [
    {
     "name": "stdout",
     "output_type": "stream",
     "text": [
      "jinal and 20\n"
     ]
    }
   ],
   "source": [
    "class person:\n",
    "    def __init__(self, name, age):\n",
    "        self.name=name\n",
    "        self.age=age\n",
    "\n",
    "    def __str__(self):\n",
    "        return f'{self.name} and {self.age}'\n",
    "\n",
    "p1=person('jinal', 20)\n",
    "print(p1)"
   ]
  },
  {
   "cell_type": "code",
   "execution_count": 123,
   "id": "e1928d6a-2c0a-43cd-bedc-0bef5f68d725",
   "metadata": {},
   "outputs": [
    {
     "name": "stdout",
     "output_type": "stream",
     "text": [
      " heloo my name is jinal and my age is 22\n"
     ]
    }
   ],
   "source": [
    "class info:\n",
    "    def __init__(self, name, age):\n",
    "        self.name=name\n",
    "        self.age=age\n",
    "\n",
    "    def fun(self):\n",
    "        print(f' heloo my name is {self.name} and my age is {self.age}')\n",
    "\n",
    "i=info('jinal', 22)\n",
    "i.fun()"
   ]
  },
  {
   "cell_type": "code",
   "execution_count": 126,
   "id": "d37d307b-32d1-49ae-9d66-48839deb4ea4",
   "metadata": {},
   "outputs": [
    {
     "name": "stdout",
     "output_type": "stream",
     "text": [
      " your name is jinal and your age is 22\n"
     ]
    }
   ],
   "source": [
    "class person:\n",
    "    def __init__(self, name, age):\n",
    "        self.name=name\n",
    "        self.age=age\n",
    "\n",
    "    def info(self):\n",
    "        print(f' your name is {self.name} and your age is {self.age }')\n",
    "\n",
    "p=person('jinal', 22)\n",
    "p.info()"
   ]
  },
  {
   "cell_type": "code",
   "execution_count": 136,
   "id": "55d7c2c6-1e1d-47fd-a086-13205838fc28",
   "metadata": {},
   "outputs": [
    {
     "name": "stdout",
     "output_type": "stream",
     "text": [
      "[-1, 2, 2, 3, 4, 5, 6, 6, 7, 9, 9, 9, 21, 32, 43, 54, 3234]\n"
     ]
    }
   ],
   "source": [
    "\n",
    "\n",
    "def bubble(arr):\n",
    "    n=len(arr)\n",
    "    for i in range(n):\n",
    "         for j in range(0,n-i-1):\n",
    "             if arr[j]>arr[j+1]:\n",
    "                 arr[j],arr[j+1]=arr[j+1],arr[j]\n",
    "\n",
    "arr=[9,6,-1,3,4,6,2,9,7,5,2,43,21,3234,54,32,9]\n",
    "bubble(arr)\n",
    "print(arr)"
   ]
  },
  {
   "cell_type": "code",
   "execution_count": 140,
   "id": "408f3fd1-f7d5-48c0-a280-6acbc91727ff",
   "metadata": {},
   "outputs": [
    {
     "name": "stdout",
     "output_type": "stream",
     "text": [
      "[21, 32, 43, 43, 54, 54, 54, 76, 87, 423, 564, 4332]\n"
     ]
    }
   ],
   "source": [
    "arr=[54,4332,21,43,54,423,76,564,43,54,32,87]\n",
    "\n",
    "def bubble(arr):\n",
    "    n=len(arr)\n",
    "    for i in range(n):\n",
    "        for j in range(0,n-i-1):\n",
    "            if arr[j] > arr[j+1]:\n",
    "                arr[j],arr[j+1]=arr[j+1],arr[j]\n",
    "bubble(arr)\n",
    "print(arr)"
   ]
  },
  {
   "cell_type": "code",
   "execution_count": 138,
   "id": "d2d1852d-fe1d-4a68-be99-fcac8c90d449",
   "metadata": {},
   "outputs": [
    {
     "name": "stdout",
     "output_type": "stream",
     "text": [
      "(0, 'jinal')\n",
      "(1, 'dicit')\n",
      "(2, 'dishit')\n",
      "(3, 'jinixit')\n",
      "(4, 'hello')\n"
     ]
    }
   ],
   "source": [
    "basket=['jinal', 'dicit', 'dishit', 'jinixit', 'hello']\n",
    "for v in enumerate(basket):\n",
    "    print(v)"
   ]
  },
  {
   "cell_type": "code",
   "execution_count": 141,
   "id": "065fc16d-8c91-4937-9722-9638948a8a19",
   "metadata": {},
   "outputs": [
    {
     "name": "stdout",
     "output_type": "stream",
     "text": [
      "{'name': 'jinal', 'age': 22}\n"
     ]
    }
   ],
   "source": [
    "m= {'name' : 'jinal', 'age': 22}\n",
    "print(m)"
   ]
  },
  {
   "cell_type": "code",
   "execution_count": 142,
   "id": "f68d646d-191d-48e7-97d0-cbe41d0f89ae",
   "metadata": {},
   "outputs": [
    {
     "name": "stdout",
     "output_type": "stream",
     "text": [
      "{'name': 'dixit', 'age': 22}\n"
     ]
    }
   ],
   "source": [
    "m['name']='dixit'\n",
    "print(m)"
   ]
  },
  {
   "cell_type": "code",
   "execution_count": 143,
   "id": "35124a83-fc91-48a0-a38e-aefe5006f5f7",
   "metadata": {},
   "outputs": [
    {
     "name": "stdout",
     "output_type": "stream",
     "text": [
      "{'name': 'dixit', 'age': 22, 'surname': 'lathiya'}\n"
     ]
    }
   ],
   "source": [
    "m['surname']='lathiya'\n",
    "print(m)"
   ]
  },
  {
   "cell_type": "code",
   "execution_count": 147,
   "id": "990fc130-8931-4ed3-8940-be2729959d51",
   "metadata": {},
   "outputs": [
    {
     "name": "stdout",
     "output_type": "stream",
     "text": [
      "[2, 4, 6, 8]\n"
     ]
    }
   ],
   "source": [
    "n=[m for m in range(1,10)  if m%2==0]\n",
    "print(n)"
   ]
  },
  {
   "cell_type": "code",
   "execution_count": 148,
   "id": "a27e46f5-f30d-4cc8-baa5-e6cba782de97",
   "metadata": {},
   "outputs": [
    {
     "name": "stdout",
     "output_type": "stream",
     "text": [
      "[1, 3, 5, 7, 9, 11, 13, 15, 17, 19, 21, 23, 25, 27, 29, 31, 33, 35, 37, 39, 41, 43, 45, 47, 49]\n"
     ]
    }
   ],
   "source": [
    "n= [n for n in range(1,50) if n%2!=0]\n",
    "print(n)"
   ]
  },
  {
   "cell_type": "code",
   "execution_count": 149,
   "id": "04368ba6-a945-42e9-bca3-5338cc07b781",
   "metadata": {},
   "outputs": [
    {
     "name": "stdout",
     "output_type": "stream",
     "text": [
      "[1, 4, 9, 16, 25, 36, 49, 64, 81]\n"
     ]
    }
   ],
   "source": [
    "#Generate a list of squares of numbers from 1 to 10.\n",
    "\n",
    "\n",
    "n= [n*n for n in range(1,10)]\n",
    "print(n)\n",
    "\n"
   ]
  },
  {
   "cell_type": "code",
   "execution_count": 151,
   "id": "a84c3776-d6f0-4df0-a0f6-733d03b0dbe5",
   "metadata": {},
   "outputs": [
    {
     "name": "stdout",
     "output_type": "stream",
     "text": [
      "[2, 4, 6, 8, 10, 12, 14, 16, 18]\n"
     ]
    }
   ],
   "source": [
    "#Create a list of even numbers from 1 to 20.\n",
    "\n",
    "m=[n for n in range(1,20) if n%2==0]\n",
    "print(m)\n"
   ]
  },
  {
   "cell_type": "code",
   "execution_count": 152,
   "id": "75bbcc7c-e230-4e72-bf95-ac9abd56cd32",
   "metadata": {},
   "outputs": [
    {
     "name": "stdout",
     "output_type": "stream",
     "text": [
      "[(1, 1), (1, 2), (1, 3), (2, 1), (2, 2), (2, 3), (3, 1), (3, 2), (3, 3)]\n"
     ]
    }
   ],
   "source": [
    "#Generate a list of tuples (x, y) where x is from 1 to 3 and y is from 1 to 3.\n",
    "\n",
    "n= [(x,y) for x in range(1,4) for y in range(1,4)]\n",
    "print(n)\n"
   ]
  },
  {
   "cell_type": "code",
   "execution_count": 153,
   "id": "775ae415-78d6-421e-b48b-a380c1ebebf4",
   "metadata": {},
   "outputs": [
    {
     "name": "stdout",
     "output_type": "stream",
     "text": [
      "[5, 5, 8, 4, 4]\n"
     ]
    }
   ],
   "source": [
    "#Create a list containing the lengths of words from a given list of strings.\n",
    "\n",
    "n=['jinal', 'dixit', 'jinixit6', 'hina', 'ekta']\n",
    "\n",
    "m=[len(i) for i in n]\n",
    "print(m)"
   ]
  },
  {
   "cell_type": "code",
   "execution_count": 155,
   "id": "9340dde2-da08-4d1d-8f88-e25d4aeb840b",
   "metadata": {},
   "outputs": [
    {
     "name": "stdout",
     "output_type": "stream",
     "text": [
      "[3, 6, 9, 12, 21, 45, 12]\n"
     ]
    }
   ],
   "source": [
    "#Flatten a given list of lists and include only the numbers that are divisible by 3.\n",
    "\n",
    "\n",
    "a=[3,6,9,12,21,32,45,32,12]\n",
    "i=[n for n in a if n%3==0]\n",
    "print(i)\n"
   ]
  },
  {
   "cell_type": "code",
   "execution_count": 159,
   "id": "ca6f97b0-3501-4adf-85c9-3a62f15ddbf7",
   "metadata": {},
   "outputs": [
    {
     "name": "stdout",
     "output_type": "stream",
     "text": [
      "['odd', 'even', 'odd', 'even', 'odd', 'even', 'odd', 'even', 'odd', 'even']\n"
     ]
    }
   ],
   "source": [
    "#Replace each number in a given list with 'Even' if it's even and 'Odd' if it's odd.\n",
    "\n",
    "l=[1,2,3,4,5,6,7,8,9,10]\n",
    "m=['even' if n%2==0 else 'odd' for n in l  ]\n",
    "print(m)"
   ]
  },
  {
   "cell_type": "code",
   "execution_count": 161,
   "id": "405f8042-abce-4a52-b043-2522d144c50b",
   "metadata": {},
   "outputs": [
    {
     "name": "stdout",
     "output_type": "stream",
     "text": [
      "[1, 4, 9, 16, 25, 36, 49, 64, 81, 100]\n"
     ]
    }
   ],
   "source": [
    "#Generate a set of squares of numbers from a given list of integers.\n",
    "\n",
    "m=[1,2,3,4,5,6,7,8,9,10]\n",
    "i=[n*n for n in m]\n",
    "print(i)\n",
    "\n"
   ]
  },
  {
   "cell_type": "code",
   "execution_count": 163,
   "id": "7269b767-1c8a-43af-be32-d8c28092451c",
   "metadata": {},
   "outputs": [
    {
     "name": "stdout",
     "output_type": "stream",
     "text": [
      "3\n"
     ]
    }
   ],
   "source": [
    "#Write a lambda function that adds two numbers together.\n",
    "\n",
    "m= lambda a,b: a+b\n",
    "print(m(1,2))"
   ]
  },
  {
   "cell_type": "code",
   "execution_count": 164,
   "id": "b1c94d41-503b-4682-88da-313fa87e2622",
   "metadata": {},
   "outputs": [
    {
     "name": "stdout",
     "output_type": "stream",
     "text": [
      "[2, 32, 4, 32, 32, 12, 76, 54, 4, 0]\n"
     ]
    }
   ],
   "source": [
    "'''Use a lambda function with the filter() function to filter a list of numbers, keeping \n",
    "only the even numbers.'''\n",
    "\n",
    "m=[1,2,3,43,32,4,32,21,32,12,87,76,54,4,3,0]\n",
    "\n",
    "i=list(filter(lambda n: n%2==0,m))\n",
    "print(i)"
   ]
  },
  {
   "cell_type": "code",
   "execution_count": 165,
   "id": "c4c1c71f-fe7f-4eac-9e22-eef96b873c9c",
   "metadata": {},
   "outputs": [
    {
     "name": "stdout",
     "output_type": "stream",
     "text": [
      "[1, 4, 9, 16, 25, 36, 49, 64, 81, 100]\n"
     ]
    }
   ],
   "source": [
    "#Use a lambda function with the map() function to square each number in a list.\n",
    "\n",
    "m=[1,2,3,4,5,6,7,8,9,10]\n",
    "i=list(map(lambda n: n*n,m))\n",
    "print(i)\n",
    "\n"
   ]
  },
  {
   "cell_type": "code",
   "execution_count": 166,
   "id": "b7b44b7a-9d64-419a-b991-2c38d2be737e",
   "metadata": {},
   "outputs": [],
   "source": [
    "import pandas as pd"
   ]
  },
  {
   "cell_type": "code",
   "execution_count": 168,
   "id": "20681e9f-5bef-4aef-a295-1338bef61973",
   "metadata": {},
   "outputs": [],
   "source": [
    "df= pd.read_csv('Sales.csv')"
   ]
  },
  {
   "cell_type": "code",
   "execution_count": 169,
   "id": "dee8be6d-dfaf-48a3-988a-3f75bac6808c",
   "metadata": {},
   "outputs": [
    {
     "data": {
      "text/html": [
       "<div>\n",
       "<style scoped>\n",
       "    .dataframe tbody tr th:only-of-type {\n",
       "        vertical-align: middle;\n",
       "    }\n",
       "\n",
       "    .dataframe tbody tr th {\n",
       "        vertical-align: top;\n",
       "    }\n",
       "\n",
       "    .dataframe thead th {\n",
       "        text-align: right;\n",
       "    }\n",
       "</style>\n",
       "<table border=\"1\" class=\"dataframe\">\n",
       "  <thead>\n",
       "    <tr style=\"text-align: right;\">\n",
       "      <th></th>\n",
       "      <th>Date</th>\n",
       "      <th>SKU</th>\n",
       "      <th>Product Name</th>\n",
       "      <th>City</th>\n",
       "      <th>Sales</th>\n",
       "    </tr>\n",
       "  </thead>\n",
       "  <tbody>\n",
       "    <tr>\n",
       "      <th>0</th>\n",
       "      <td>2023-01-01 0:00:00</td>\n",
       "      <td>F001</td>\n",
       "      <td>Prateek England</td>\n",
       "      <td>Mumbai</td>\n",
       "      <td>93</td>\n",
       "    </tr>\n",
       "    <tr>\n",
       "      <th>1</th>\n",
       "      <td>2023-01-01 0:00:00</td>\n",
       "      <td>F002</td>\n",
       "      <td>Lucy Phillepe</td>\n",
       "      <td>Mumbai</td>\n",
       "      <td>36</td>\n",
       "    </tr>\n",
       "    <tr>\n",
       "      <th>2</th>\n",
       "      <td>2023-01-01 0:00:00</td>\n",
       "      <td>F003</td>\n",
       "      <td>Badlands</td>\n",
       "      <td>Mumbai</td>\n",
       "      <td>7</td>\n",
       "    </tr>\n",
       "    <tr>\n",
       "      <th>3</th>\n",
       "      <td>2023-01-01 0:00:00</td>\n",
       "      <td>F004</td>\n",
       "      <td>Allen Dolly</td>\n",
       "      <td>Mumbai</td>\n",
       "      <td>55</td>\n",
       "    </tr>\n",
       "    <tr>\n",
       "      <th>4</th>\n",
       "      <td>2023-01-01 0:00:00</td>\n",
       "      <td>F005</td>\n",
       "      <td>Bucchi</td>\n",
       "      <td>Mumbai</td>\n",
       "      <td>41</td>\n",
       "    </tr>\n",
       "  </tbody>\n",
       "</table>\n",
       "</div>"
      ],
      "text/plain": [
       "                 Date   SKU     Product Name    City  Sales\n",
       "0  2023-01-01 0:00:00  F001  Prateek England  Mumbai     93\n",
       "1  2023-01-01 0:00:00  F002    Lucy Phillepe  Mumbai     36\n",
       "2  2023-01-01 0:00:00  F003         Badlands  Mumbai      7\n",
       "3  2023-01-01 0:00:00  F004      Allen Dolly  Mumbai     55\n",
       "4  2023-01-01 0:00:00  F005           Bucchi  Mumbai     41"
      ]
     },
     "execution_count": 169,
     "metadata": {},
     "output_type": "execute_result"
    }
   ],
   "source": [
    "df.head()"
   ]
  },
  {
   "cell_type": "code",
   "execution_count": 170,
   "id": "dbc4f4d1-3527-48b9-bae5-496b9351ffa0",
   "metadata": {},
   "outputs": [
    {
     "data": {
      "text/html": [
       "<div>\n",
       "<style scoped>\n",
       "    .dataframe tbody tr th:only-of-type {\n",
       "        vertical-align: middle;\n",
       "    }\n",
       "\n",
       "    .dataframe tbody tr th {\n",
       "        vertical-align: top;\n",
       "    }\n",
       "\n",
       "    .dataframe thead th {\n",
       "        text-align: right;\n",
       "    }\n",
       "</style>\n",
       "<table border=\"1\" class=\"dataframe\">\n",
       "  <thead>\n",
       "    <tr style=\"text-align: right;\">\n",
       "      <th></th>\n",
       "      <th>Date</th>\n",
       "      <th>SKU</th>\n",
       "      <th>Product Name</th>\n",
       "      <th>City</th>\n",
       "      <th>Sales</th>\n",
       "    </tr>\n",
       "  </thead>\n",
       "  <tbody>\n",
       "    <tr>\n",
       "      <th>6195</th>\n",
       "      <td>2023-01-30 0:00:00</td>\n",
       "      <td>G001</td>\n",
       "      <td>Crafting Chandlar</td>\n",
       "      <td>Aurangabad</td>\n",
       "      <td>13</td>\n",
       "    </tr>\n",
       "    <tr>\n",
       "      <th>6196</th>\n",
       "      <td>2023-01-30 0:00:00</td>\n",
       "      <td>G002</td>\n",
       "      <td>Desi Kurti</td>\n",
       "      <td>Aurangabad</td>\n",
       "      <td>24</td>\n",
       "    </tr>\n",
       "    <tr>\n",
       "      <th>6197</th>\n",
       "      <td>2023-01-30 0:00:00</td>\n",
       "      <td>G003</td>\n",
       "      <td>Family Cake and Card Combo</td>\n",
       "      <td>Aurangabad</td>\n",
       "      <td>66</td>\n",
       "    </tr>\n",
       "    <tr>\n",
       "      <th>6198</th>\n",
       "      <td>2023-01-30 0:00:00</td>\n",
       "      <td>G004</td>\n",
       "      <td>Exact Flower Vase</td>\n",
       "      <td>Aurangabad</td>\n",
       "      <td>55</td>\n",
       "    </tr>\n",
       "    <tr>\n",
       "      <th>6199</th>\n",
       "      <td>2023-01-30 0:00:00</td>\n",
       "      <td>G005</td>\n",
       "      <td>Friends Dinner Set</td>\n",
       "      <td>Aurangabad</td>\n",
       "      <td>59</td>\n",
       "    </tr>\n",
       "  </tbody>\n",
       "</table>\n",
       "</div>"
      ],
      "text/plain": [
       "                    Date   SKU                Product Name        City  Sales\n",
       "6195  2023-01-30 0:00:00  G001           Crafting Chandlar  Aurangabad     13\n",
       "6196  2023-01-30 0:00:00  G002                  Desi Kurti  Aurangabad     24\n",
       "6197  2023-01-30 0:00:00  G003  Family Cake and Card Combo  Aurangabad     66\n",
       "6198  2023-01-30 0:00:00  G004           Exact Flower Vase  Aurangabad     55\n",
       "6199  2023-01-30 0:00:00  G005          Friends Dinner Set  Aurangabad     59"
      ]
     },
     "execution_count": 170,
     "metadata": {},
     "output_type": "execute_result"
    }
   ],
   "source": [
    "df.tail()"
   ]
  },
  {
   "cell_type": "code",
   "execution_count": 171,
   "id": "82e367d9-647a-4337-9ed1-a8aaa8db751b",
   "metadata": {},
   "outputs": [
    {
     "data": {
      "text/html": [
       "<div>\n",
       "<style scoped>\n",
       "    .dataframe tbody tr th:only-of-type {\n",
       "        vertical-align: middle;\n",
       "    }\n",
       "\n",
       "    .dataframe tbody tr th {\n",
       "        vertical-align: top;\n",
       "    }\n",
       "\n",
       "    .dataframe thead th {\n",
       "        text-align: right;\n",
       "    }\n",
       "</style>\n",
       "<table border=\"1\" class=\"dataframe\">\n",
       "  <thead>\n",
       "    <tr style=\"text-align: right;\">\n",
       "      <th></th>\n",
       "      <th>Date</th>\n",
       "      <th>SKU</th>\n",
       "      <th>Product Name</th>\n",
       "      <th>City</th>\n",
       "      <th>Sales</th>\n",
       "    </tr>\n",
       "  </thead>\n",
       "  <tbody>\n",
       "    <tr>\n",
       "      <th>0</th>\n",
       "      <td>2023-01-01 0:00:00</td>\n",
       "      <td>F001</td>\n",
       "      <td>Prateek England</td>\n",
       "      <td>Mumbai</td>\n",
       "      <td>93</td>\n",
       "    </tr>\n",
       "    <tr>\n",
       "      <th>1</th>\n",
       "      <td>2023-01-01 0:00:00</td>\n",
       "      <td>F002</td>\n",
       "      <td>Lucy Phillepe</td>\n",
       "      <td>Mumbai</td>\n",
       "      <td>36</td>\n",
       "    </tr>\n",
       "    <tr>\n",
       "      <th>2</th>\n",
       "      <td>2023-01-01 0:00:00</td>\n",
       "      <td>F003</td>\n",
       "      <td>Badlands</td>\n",
       "      <td>Mumbai</td>\n",
       "      <td>7</td>\n",
       "    </tr>\n",
       "    <tr>\n",
       "      <th>3</th>\n",
       "      <td>2023-01-01 0:00:00</td>\n",
       "      <td>F004</td>\n",
       "      <td>Allen Dolly</td>\n",
       "      <td>Mumbai</td>\n",
       "      <td>55</td>\n",
       "    </tr>\n",
       "    <tr>\n",
       "      <th>4</th>\n",
       "      <td>2023-01-01 0:00:00</td>\n",
       "      <td>F005</td>\n",
       "      <td>Bucchi</td>\n",
       "      <td>Mumbai</td>\n",
       "      <td>41</td>\n",
       "    </tr>\n",
       "    <tr>\n",
       "      <th>5</th>\n",
       "      <td>2023-01-01 0:00:00</td>\n",
       "      <td>M001</td>\n",
       "      <td>Jhaomi</td>\n",
       "      <td>Mumbai</td>\n",
       "      <td>0</td>\n",
       "    </tr>\n",
       "    <tr>\n",
       "      <th>6</th>\n",
       "      <td>2023-01-01 0:00:00</td>\n",
       "      <td>M002</td>\n",
       "      <td>Samson</td>\n",
       "      <td>Mumbai</td>\n",
       "      <td>17</td>\n",
       "    </tr>\n",
       "    <tr>\n",
       "      <th>7</th>\n",
       "      <td>2023-01-01 0:00:00</td>\n",
       "      <td>M003</td>\n",
       "      <td>Mokia</td>\n",
       "      <td>Mumbai</td>\n",
       "      <td>41</td>\n",
       "    </tr>\n",
       "    <tr>\n",
       "      <th>8</th>\n",
       "      <td>2023-01-01 0:00:00</td>\n",
       "      <td>M004</td>\n",
       "      <td>Hotorola</td>\n",
       "      <td>Mumbai</td>\n",
       "      <td>8</td>\n",
       "    </tr>\n",
       "    <tr>\n",
       "      <th>9</th>\n",
       "      <td>2023-01-01 0:00:00</td>\n",
       "      <td>M005</td>\n",
       "      <td>2plus</td>\n",
       "      <td>Mumbai</td>\n",
       "      <td>28</td>\n",
       "    </tr>\n",
       "    <tr>\n",
       "      <th>10</th>\n",
       "      <td>2023-01-01 0:00:00</td>\n",
       "      <td>B001</td>\n",
       "      <td>Harry putar</td>\n",
       "      <td>Mumbai</td>\n",
       "      <td>22</td>\n",
       "    </tr>\n",
       "    <tr>\n",
       "      <th>11</th>\n",
       "      <td>2023-01-01 0:00:00</td>\n",
       "      <td>B002</td>\n",
       "      <td>4 states</td>\n",
       "      <td>Mumbai</td>\n",
       "      <td>25</td>\n",
       "    </tr>\n",
       "    <tr>\n",
       "      <th>12</th>\n",
       "      <td>2023-01-01 0:00:00</td>\n",
       "      <td>B003</td>\n",
       "      <td>Shaktiman Returns</td>\n",
       "      <td>Mumbai</td>\n",
       "      <td>73</td>\n",
       "    </tr>\n",
       "    <tr>\n",
       "      <th>13</th>\n",
       "      <td>2023-01-01 0:00:00</td>\n",
       "      <td>B004</td>\n",
       "      <td>Goli's Travel</td>\n",
       "      <td>Mumbai</td>\n",
       "      <td>47</td>\n",
       "    </tr>\n",
       "    <tr>\n",
       "      <th>14</th>\n",
       "      <td>2023-01-01 0:00:00</td>\n",
       "      <td>B005</td>\n",
       "      <td>Story of Your Life</td>\n",
       "      <td>Mumbai</td>\n",
       "      <td>108</td>\n",
       "    </tr>\n",
       "    <tr>\n",
       "      <th>15</th>\n",
       "      <td>2023-01-01 0:00:00</td>\n",
       "      <td>V001</td>\n",
       "      <td>Prince of Dholakpur</td>\n",
       "      <td>Mumbai</td>\n",
       "      <td>12</td>\n",
       "    </tr>\n",
       "    <tr>\n",
       "      <th>16</th>\n",
       "      <td>2023-01-01 0:00:00</td>\n",
       "      <td>V002</td>\n",
       "      <td>Nario</td>\n",
       "      <td>Mumbai</td>\n",
       "      <td>117</td>\n",
       "    </tr>\n",
       "    <tr>\n",
       "      <th>17</th>\n",
       "      <td>2023-01-01 0:00:00</td>\n",
       "      <td>V003</td>\n",
       "      <td>Pacman</td>\n",
       "      <td>Mumbai</td>\n",
       "      <td>243</td>\n",
       "    </tr>\n",
       "    <tr>\n",
       "      <th>18</th>\n",
       "      <td>2023-01-01 0:00:00</td>\n",
       "      <td>V004</td>\n",
       "      <td>LTA Wise City</td>\n",
       "      <td>Mumbai</td>\n",
       "      <td>47</td>\n",
       "    </tr>\n",
       "    <tr>\n",
       "      <th>19</th>\n",
       "      <td>2023-01-01 0:00:00</td>\n",
       "      <td>V005</td>\n",
       "      <td>HIFA 2023</td>\n",
       "      <td>Mumbai</td>\n",
       "      <td>29</td>\n",
       "    </tr>\n",
       "    <tr>\n",
       "      <th>20</th>\n",
       "      <td>2023-01-01 0:00:00</td>\n",
       "      <td>S001</td>\n",
       "      <td>Abibas Football</td>\n",
       "      <td>Mumbai</td>\n",
       "      <td>7</td>\n",
       "    </tr>\n",
       "  </tbody>\n",
       "</table>\n",
       "</div>"
      ],
      "text/plain": [
       "                  Date   SKU         Product Name    City  Sales\n",
       "0   2023-01-01 0:00:00  F001      Prateek England  Mumbai     93\n",
       "1   2023-01-01 0:00:00  F002        Lucy Phillepe  Mumbai     36\n",
       "2   2023-01-01 0:00:00  F003             Badlands  Mumbai      7\n",
       "3   2023-01-01 0:00:00  F004          Allen Dolly  Mumbai     55\n",
       "4   2023-01-01 0:00:00  F005               Bucchi  Mumbai     41\n",
       "5   2023-01-01 0:00:00  M001               Jhaomi  Mumbai      0\n",
       "6   2023-01-01 0:00:00  M002               Samson  Mumbai     17\n",
       "7   2023-01-01 0:00:00  M003                Mokia  Mumbai     41\n",
       "8   2023-01-01 0:00:00  M004             Hotorola  Mumbai      8\n",
       "9   2023-01-01 0:00:00  M005                2plus  Mumbai     28\n",
       "10  2023-01-01 0:00:00  B001          Harry putar  Mumbai     22\n",
       "11  2023-01-01 0:00:00  B002             4 states  Mumbai     25\n",
       "12  2023-01-01 0:00:00  B003    Shaktiman Returns  Mumbai     73\n",
       "13  2023-01-01 0:00:00  B004        Goli's Travel  Mumbai     47\n",
       "14  2023-01-01 0:00:00  B005   Story of Your Life  Mumbai    108\n",
       "15  2023-01-01 0:00:00  V001  Prince of Dholakpur  Mumbai     12\n",
       "16  2023-01-01 0:00:00  V002                Nario  Mumbai    117\n",
       "17  2023-01-01 0:00:00  V003               Pacman  Mumbai    243\n",
       "18  2023-01-01 0:00:00  V004        LTA Wise City  Mumbai     47\n",
       "19  2023-01-01 0:00:00  V005            HIFA 2023  Mumbai     29\n",
       "20  2023-01-01 0:00:00  S001      Abibas Football  Mumbai      7"
      ]
     },
     "execution_count": 171,
     "metadata": {},
     "output_type": "execute_result"
    }
   ],
   "source": [
    "df.head(21)"
   ]
  },
  {
   "cell_type": "code",
   "execution_count": 172,
   "id": "fe613e67-69cb-4619-ae3b-50872cf33edf",
   "metadata": {},
   "outputs": [
    {
     "data": {
      "text/html": [
       "<div>\n",
       "<style scoped>\n",
       "    .dataframe tbody tr th:only-of-type {\n",
       "        vertical-align: middle;\n",
       "    }\n",
       "\n",
       "    .dataframe tbody tr th {\n",
       "        vertical-align: top;\n",
       "    }\n",
       "\n",
       "    .dataframe thead th {\n",
       "        text-align: right;\n",
       "    }\n",
       "</style>\n",
       "<table border=\"1\" class=\"dataframe\">\n",
       "  <thead>\n",
       "    <tr style=\"text-align: right;\">\n",
       "      <th></th>\n",
       "      <th>Date</th>\n",
       "      <th>SKU</th>\n",
       "      <th>Product Name</th>\n",
       "      <th>City</th>\n",
       "      <th>Sales</th>\n",
       "    </tr>\n",
       "  </thead>\n",
       "  <tbody>\n",
       "    <tr>\n",
       "      <th>6190</th>\n",
       "      <td>2023-01-30 0:00:00</td>\n",
       "      <td>P001</td>\n",
       "      <td>Podigree Dog Food</td>\n",
       "      <td>Aurangabad</td>\n",
       "      <td>27</td>\n",
       "    </tr>\n",
       "    <tr>\n",
       "      <th>6191</th>\n",
       "      <td>2023-01-30 0:00:00</td>\n",
       "      <td>P002</td>\n",
       "      <td>Matty Dog Bed</td>\n",
       "      <td>Aurangabad</td>\n",
       "      <td>38</td>\n",
       "    </tr>\n",
       "    <tr>\n",
       "      <th>6192</th>\n",
       "      <td>2023-01-30 0:00:00</td>\n",
       "      <td>P003</td>\n",
       "      <td>Park Range Pet Shampoo</td>\n",
       "      <td>Aurangabad</td>\n",
       "      <td>60</td>\n",
       "    </tr>\n",
       "    <tr>\n",
       "      <th>6193</th>\n",
       "      <td>2023-01-30 0:00:00</td>\n",
       "      <td>P004</td>\n",
       "      <td>Old Mint Pet Shampoos</td>\n",
       "      <td>Aurangabad</td>\n",
       "      <td>42</td>\n",
       "    </tr>\n",
       "    <tr>\n",
       "      <th>6194</th>\n",
       "      <td>2023-01-30 0:00:00</td>\n",
       "      <td>P005</td>\n",
       "      <td>Reflective Dog RainCoat</td>\n",
       "      <td>Aurangabad</td>\n",
       "      <td>5</td>\n",
       "    </tr>\n",
       "    <tr>\n",
       "      <th>6195</th>\n",
       "      <td>2023-01-30 0:00:00</td>\n",
       "      <td>G001</td>\n",
       "      <td>Crafting Chandlar</td>\n",
       "      <td>Aurangabad</td>\n",
       "      <td>13</td>\n",
       "    </tr>\n",
       "    <tr>\n",
       "      <th>6196</th>\n",
       "      <td>2023-01-30 0:00:00</td>\n",
       "      <td>G002</td>\n",
       "      <td>Desi Kurti</td>\n",
       "      <td>Aurangabad</td>\n",
       "      <td>24</td>\n",
       "    </tr>\n",
       "    <tr>\n",
       "      <th>6197</th>\n",
       "      <td>2023-01-30 0:00:00</td>\n",
       "      <td>G003</td>\n",
       "      <td>Family Cake and Card Combo</td>\n",
       "      <td>Aurangabad</td>\n",
       "      <td>66</td>\n",
       "    </tr>\n",
       "    <tr>\n",
       "      <th>6198</th>\n",
       "      <td>2023-01-30 0:00:00</td>\n",
       "      <td>G004</td>\n",
       "      <td>Exact Flower Vase</td>\n",
       "      <td>Aurangabad</td>\n",
       "      <td>55</td>\n",
       "    </tr>\n",
       "    <tr>\n",
       "      <th>6199</th>\n",
       "      <td>2023-01-30 0:00:00</td>\n",
       "      <td>G005</td>\n",
       "      <td>Friends Dinner Set</td>\n",
       "      <td>Aurangabad</td>\n",
       "      <td>59</td>\n",
       "    </tr>\n",
       "  </tbody>\n",
       "</table>\n",
       "</div>"
      ],
      "text/plain": [
       "                    Date   SKU                Product Name        City  Sales\n",
       "6190  2023-01-30 0:00:00  P001           Podigree Dog Food  Aurangabad     27\n",
       "6191  2023-01-30 0:00:00  P002               Matty Dog Bed  Aurangabad     38\n",
       "6192  2023-01-30 0:00:00  P003      Park Range Pet Shampoo  Aurangabad     60\n",
       "6193  2023-01-30 0:00:00  P004       Old Mint Pet Shampoos  Aurangabad     42\n",
       "6194  2023-01-30 0:00:00  P005     Reflective Dog RainCoat  Aurangabad      5\n",
       "6195  2023-01-30 0:00:00  G001           Crafting Chandlar  Aurangabad     13\n",
       "6196  2023-01-30 0:00:00  G002                  Desi Kurti  Aurangabad     24\n",
       "6197  2023-01-30 0:00:00  G003  Family Cake and Card Combo  Aurangabad     66\n",
       "6198  2023-01-30 0:00:00  G004           Exact Flower Vase  Aurangabad     55\n",
       "6199  2023-01-30 0:00:00  G005          Friends Dinner Set  Aurangabad     59"
      ]
     },
     "execution_count": 172,
     "metadata": {},
     "output_type": "execute_result"
    }
   ],
   "source": [
    "df.tail(10)"
   ]
  },
  {
   "cell_type": "code",
   "execution_count": null,
   "id": "1711379e-bb43-4983-84a6-9a5d38e06ccc",
   "metadata": {},
   "outputs": [],
   "source": []
  }
 ],
 "metadata": {
  "kernelspec": {
   "display_name": "Python 3 (ipykernel)",
   "language": "python",
   "name": "python3"
  },
  "language_info": {
   "codemirror_mode": {
    "name": "ipython",
    "version": 3
   },
   "file_extension": ".py",
   "mimetype": "text/x-python",
   "name": "python",
   "nbconvert_exporter": "python",
   "pygments_lexer": "ipython3",
   "version": "3.12.3"
  }
 },
 "nbformat": 4,
 "nbformat_minor": 5
}
