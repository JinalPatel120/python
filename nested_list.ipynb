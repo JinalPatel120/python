{
 "cells": [
  {
   "cell_type": "code",
   "execution_count": 1,
   "id": "1d72a5c0-f561-4b86-be39-37108da24819",
   "metadata": {},
   "outputs": [
    {
     "data": {
      "text/plain": [
       "[0, 1, 4, 9, 16, 25, 36, 49, 64, 81]"
      ]
     },
     "execution_count": 1,
     "metadata": {},
     "output_type": "execute_result"
    }
   ],
   "source": [
    "s=[]\n",
    "for x in range(10):\n",
    "    s.append(x**2)\n",
    "\n",
    "s"
   ]
  },
  {
   "cell_type": "code",
   "execution_count": 3,
   "id": "5c38d20f-f834-4332-bfe9-6239c799ab1a",
   "metadata": {},
   "outputs": [
    {
     "data": {
      "text/plain": [
       "[0, 1, 4, 9, 16, 25, 36, 49, 64, 81]"
      ]
     },
     "execution_count": 3,
     "metadata": {},
     "output_type": "execute_result"
    }
   ],
   "source": [
    "s= list(map(lambda x: x**2, range(10)))\n",
    "s"
   ]
  },
  {
   "cell_type": "code",
   "execution_count": 5,
   "id": "d75ae403-ad9b-45d9-9015-4d18b954d13b",
   "metadata": {},
   "outputs": [
    {
     "data": {
      "text/plain": [
       "[0, 1, 4, 9, 16, 25, 36, 49, 64, 81]"
      ]
     },
     "execution_count": 5,
     "metadata": {},
     "output_type": "execute_result"
    }
   ],
   "source": [
    "s=[x**2 for x in range(10)]\n",
    "s"
   ]
  },
  {
   "cell_type": "code",
   "execution_count": 6,
   "id": "47d2699b-c2cf-45b3-b7a5-a0580284dd7e",
   "metadata": {},
   "outputs": [
    {
     "data": {
      "text/plain": [
       "[(1, 3), (1, 4), (2, 3), (2, 1), (2, 4), (3, 1), (3, 4)]"
      ]
     },
     "execution_count": 6,
     "metadata": {},
     "output_type": "execute_result"
    }
   ],
   "source": [
    "l=[(x,y) for x in [1,2,3] for y in [3,1,4] if x!=y]\n",
    "l"
   ]
  },
  {
   "cell_type": "code",
   "execution_count": 7,
   "id": "cb3b6a0d-6f85-4a7d-b36b-1096219ab2c1",
   "metadata": {},
   "outputs": [
    {
     "name": "stdout",
     "output_type": "stream",
     "text": [
      "3.141592653589793\n"
     ]
    }
   ],
   "source": [
    "from math import pi\n",
    "print(pi)"
   ]
  },
  {
   "cell_type": "code",
   "execution_count": 8,
   "id": "34bcab35-7d72-4974-aab0-561141d1f37e",
   "metadata": {},
   "outputs": [],
   "source": [
    "m=pi*2"
   ]
  },
  {
   "cell_type": "markdown",
   "id": "d11a1729-fe27-4ebc-8d74-3749b7aeb5d6",
   "metadata": {},
   "source": []
  },
  {
   "cell_type": "code",
   "execution_count": 9,
   "id": "51756e10-f9c7-415e-9b94-a070896c9045",
   "metadata": {},
   "outputs": [
    {
     "name": "stdout",
     "output_type": "stream",
     "text": [
      "[[0, 1, 2, 3, 4], [0, 1, 2, 3, 4], [0, 1, 2, 3, 4], [0, 1, 2, 3, 4], [0, 1, 2, 3, 4]]\n"
     ]
    }
   ],
   "source": [
    "matrix=[]\n",
    "for i in range(5):\n",
    "    matrix.append([])\n",
    "    for j in range(5):\n",
    "        matrix[i].append(j)\n",
    "print(matrix)"
   ]
  },
  {
   "cell_type": "code",
   "execution_count": 13,
   "id": "b675d6ae-00ef-4bed-817d-0380702ca910",
   "metadata": {},
   "outputs": [
    {
     "name": "stdout",
     "output_type": "stream",
     "text": [
      "[[0, 1, 2, 3, 4], [0, 1, 2, 3, 4], [0, 1, 2, 3, 4], [0, 1, 2, 3, 4], [0, 1, 2, 3, 4]]\n"
     ]
    }
   ],
   "source": [
    "m=[[j for j in range(5)] for i in range(5)]\n",
    "print(m)"
   ]
  },
  {
   "cell_type": "code",
   "execution_count": 15,
   "id": "49d11cbf-958a-4d30-9033-2b9d7a213560",
   "metadata": {},
   "outputs": [
    {
     "name": "stdout",
     "output_type": "stream",
     "text": [
      "[1, 3, 5, 7, 9]\n"
     ]
    }
   ],
   "source": [
    "ma=[[1,2,3],[4,5,6],[7,8,9]]\n",
    "odd=[]\n",
    "for row in ma:\n",
    "    for element in row:\n",
    "        if element %2!=0:\n",
    "            odd.append(element)\n",
    "print(odd)"
   ]
  },
  {
   "cell_type": "code",
   "execution_count": 18,
   "id": "45009d82-b245-4c06-b271-f539c8e26e7c",
   "metadata": {},
   "outputs": [],
   "source": [
    "a=[-1,1,66,25, 333,1232,5,554,65,43]\n",
    "del a[2:3]"
   ]
  },
  {
   "cell_type": "code",
   "execution_count": 19,
   "id": "96886a43-7291-4946-b3f7-75eaa0d34f34",
   "metadata": {},
   "outputs": [
    {
     "data": {
      "text/plain": [
       "[-1, 1, 25, 333, 1232, 5, 554, 65, 43]"
      ]
     },
     "execution_count": 19,
     "metadata": {},
     "output_type": "execute_result"
    }
   ],
   "source": [
    "a"
   ]
  },
  {
   "cell_type": "code",
   "execution_count": 20,
   "id": "76c5e448-51e3-4a32-a7e8-443f503fb930",
   "metadata": {},
   "outputs": [],
   "source": [
    "del a [:]"
   ]
  },
  {
   "cell_type": "code",
   "execution_count": 21,
   "id": "a415fac0-164d-4ae1-81bb-9427e9efb666",
   "metadata": {},
   "outputs": [
    {
     "data": {
      "text/plain": [
       "[]"
      ]
     },
     "execution_count": 21,
     "metadata": {},
     "output_type": "execute_result"
    }
   ],
   "source": [
    "a"
   ]
  },
  {
   "cell_type": "code",
   "execution_count": 22,
   "id": "b1cfea06-a23c-412b-8205-fc2a1b0cbba3",
   "metadata": {},
   "outputs": [
    {
     "data": {
      "text/plain": [
       "12"
      ]
     },
     "execution_count": 22,
     "metadata": {},
     "output_type": "execute_result"
    }
   ],
   "source": [
    "t= 12,34,3,'hello',43.5,65\n",
    "t[0]"
   ]
  },
  {
   "cell_type": "code",
   "execution_count": 23,
   "id": "0dc136cc-d322-4a16-94d9-26586494131e",
   "metadata": {},
   "outputs": [
    {
     "data": {
      "text/plain": [
       "65"
      ]
     },
     "execution_count": 23,
     "metadata": {},
     "output_type": "execute_result"
    }
   ],
   "source": [
    "t[-1]"
   ]
  },
  {
   "cell_type": "code",
   "execution_count": 24,
   "id": "2ac8ef48-96a6-49be-a9f0-d4a513f65eab",
   "metadata": {},
   "outputs": [
    {
     "data": {
      "text/plain": [
       "(65, 43.5, 'hello', 3, 34, 12)"
      ]
     },
     "execution_count": 24,
     "metadata": {},
     "output_type": "execute_result"
    }
   ],
   "source": [
    "t[::-1]"
   ]
  },
  {
   "cell_type": "code",
   "execution_count": 25,
   "id": "48f0c7f3-67bd-4d49-8330-8082780f674c",
   "metadata": {},
   "outputs": [
    {
     "data": {
      "text/plain": [
       "()"
      ]
     },
     "execution_count": 25,
     "metadata": {},
     "output_type": "execute_result"
    }
   ],
   "source": [
    "t[-1:-4]"
   ]
  },
  {
   "cell_type": "code",
   "execution_count": 26,
   "id": "8e789f4a-513a-4c5f-9e58-72bb264fd138",
   "metadata": {},
   "outputs": [
    {
     "data": {
      "text/plain": [
       "3"
      ]
     },
     "execution_count": 26,
     "metadata": {},
     "output_type": "execute_result"
    }
   ],
   "source": [
    "t[-4]"
   ]
  },
  {
   "cell_type": "code",
   "execution_count": 28,
   "id": "802888cb-5c4a-45cd-8ab5-a7d590cc1047",
   "metadata": {},
   "outputs": [
    {
     "data": {
      "text/plain": [
       "((12, 34, 3, 'hello', 43.5, 65), (1, 2, 3, 4, 5, 67, 8, 9, 10))"
      ]
     },
     "execution_count": 28,
     "metadata": {},
     "output_type": "execute_result"
    }
   ],
   "source": [
    "u=t,(1,2,3,4,5,67,8,9,10)\n",
    "u"
   ]
  },
  {
   "cell_type": "code",
   "execution_count": 29,
   "id": "694e435a-59c9-4623-888d-15f7c4c8cb89",
   "metadata": {},
   "outputs": [
    {
     "data": {
      "text/plain": [
       "12"
      ]
     },
     "execution_count": 29,
     "metadata": {},
     "output_type": "execute_result"
    }
   ],
   "source": [
    "t[0]"
   ]
  },
  {
   "cell_type": "code",
   "execution_count": 30,
   "id": "15046042-71d1-4735-85a0-53479669e604",
   "metadata": {},
   "outputs": [
    {
     "data": {
      "text/plain": [
       "(12, 34, 3, 'hello', 43.5, 65)"
      ]
     },
     "execution_count": 30,
     "metadata": {},
     "output_type": "execute_result"
    }
   ],
   "source": [
    "u[0]"
   ]
  },
  {
   "cell_type": "code",
   "execution_count": 31,
   "id": "c6235952-ab3c-460f-9f4f-bde80b51fd6d",
   "metadata": {},
   "outputs": [
    {
     "data": {
      "text/plain": [
       "3"
      ]
     },
     "execution_count": 31,
     "metadata": {},
     "output_type": "execute_result"
    }
   ],
   "source": [
    "u[1][2]"
   ]
  },
  {
   "cell_type": "code",
   "execution_count": 32,
   "id": "f1632b22-dd51-4773-9284-8c241edf0da3",
   "metadata": {},
   "outputs": [
    {
     "data": {
      "text/plain": [
       "10"
      ]
     },
     "execution_count": 32,
     "metadata": {},
     "output_type": "execute_result"
    }
   ],
   "source": [
    "u[1][8]"
   ]
  },
  {
   "cell_type": "code",
   "execution_count": 37,
   "id": "a58008a6-2d6c-48e7-84dd-32bcdacfd5c2",
   "metadata": {},
   "outputs": [
    {
     "data": {
      "text/plain": [
       "{'apple', 'banana', 'orangek', 'orangenj'}"
      ]
     },
     "execution_count": 37,
     "metadata": {},
     "output_type": "execute_result"
    }
   ],
   "source": [
    "b={'apple', 'orangek', 'apple', 'orangenj', 'banana'}\n",
    "b"
   ]
  },
  {
   "cell_type": "code",
   "execution_count": 38,
   "id": "bb06c63b-7484-4890-962b-dd4800f66acb",
   "metadata": {},
   "outputs": [
    {
     "name": "stdout",
     "output_type": "stream",
     "text": [
      "False\n"
     ]
    }
   ],
   "source": [
    "if 'orange' in b:\n",
    "    print('True')\n",
    "else:\n",
    "    print ('False')\n",
    "    "
   ]
  },
  {
   "cell_type": "code",
   "execution_count": 39,
   "id": "8c4060f4-df54-4839-abe7-b3b0dd8e15ce",
   "metadata": {},
   "outputs": [
    {
     "data": {
      "text/plain": [
       "{'a', 'd', 'e', 'f', 'g', 'h', 'r', 'v', 'y'}"
      ]
     },
     "execution_count": 39,
     "metadata": {},
     "output_type": "execute_result"
    }
   ],
   "source": [
    "a=set('agvghdfegry')\n",
    "b=set('ahdsdgbhj')\n",
    "a"
   ]
  },
  {
   "cell_type": "code",
   "execution_count": 40,
   "id": "774248ad-ca53-45a8-8536-00733adbebd1",
   "metadata": {},
   "outputs": [
    {
     "data": {
      "text/plain": [
       "{'a', 'b', 'd', 'g', 'h', 'j', 's'}"
      ]
     },
     "execution_count": 40,
     "metadata": {},
     "output_type": "execute_result"
    }
   ],
   "source": [
    "b"
   ]
  },
  {
   "cell_type": "code",
   "execution_count": 41,
   "id": "702d1410-7e01-49d2-8261-5925fbdd642e",
   "metadata": {},
   "outputs": [
    {
     "data": {
      "text/plain": [
       "{'a', 'b', 'd', 'e', 'f', 'g', 'h', 'j', 'r', 's', 'v', 'y'}"
      ]
     },
     "execution_count": 41,
     "metadata": {},
     "output_type": "execute_result"
    }
   ],
   "source": [
    "a | b"
   ]
  },
  {
   "cell_type": "code",
   "execution_count": 42,
   "id": "54cda41d-e4bd-4aeb-b9ec-e02e1ca7d536",
   "metadata": {},
   "outputs": [
    {
     "data": {
      "text/plain": [
       "{'b', 'e', 'f', 'j', 'r', 's', 'v', 'y'}"
      ]
     },
     "execution_count": 42,
     "metadata": {},
     "output_type": "execute_result"
    }
   ],
   "source": [
    "a ^ b"
   ]
  },
  {
   "cell_type": "code",
   "execution_count": 43,
   "id": "1b529547-001a-49a2-8864-bd4557b22c91",
   "metadata": {},
   "outputs": [
    {
     "data": {
      "text/plain": [
       "{'a', 'd', 'g', 'h'}"
      ]
     },
     "execution_count": 43,
     "metadata": {},
     "output_type": "execute_result"
    }
   ],
   "source": [
    "a & b"
   ]
  },
  {
   "cell_type": "code",
   "execution_count": 44,
   "id": "1f10d62b-b343-4f9f-a290-7629de1bf9cf",
   "metadata": {},
   "outputs": [
    {
     "data": {
      "text/plain": [
       "{'name': 'jinal', 'age': 22, 'graduation': 'bca'}"
      ]
     },
     "execution_count": 44,
     "metadata": {},
     "output_type": "execute_result"
    }
   ],
   "source": [
    "m={'name':'jinal','age':22,'graduation':'bca'}\n",
    "m"
   ]
  },
  {
   "cell_type": "code",
   "execution_count": 45,
   "id": "231c457a-b05c-4e83-af9e-af971e35225b",
   "metadata": {},
   "outputs": [],
   "source": [
    "m['lname']='lathiya'"
   ]
  },
  {
   "cell_type": "code",
   "execution_count": 46,
   "id": "1d18efa7-e076-4997-b1f5-c7f51c189aba",
   "metadata": {},
   "outputs": [
    {
     "data": {
      "text/plain": [
       "{'name': 'jinal', 'age': 22, 'graduation': 'bca', 'lname': 'lathiya'}"
      ]
     },
     "execution_count": 46,
     "metadata": {},
     "output_type": "execute_result"
    }
   ],
   "source": [
    "m"
   ]
  },
  {
   "cell_type": "code",
   "execution_count": 49,
   "id": "6d478e2d-c2d4-4f1c-8d67-9f54f6aec285",
   "metadata": {},
   "outputs": [
    {
     "data": {
      "text/plain": [
       "'jinal'"
      ]
     },
     "execution_count": 49,
     "metadata": {},
     "output_type": "execute_result"
    }
   ],
   "source": [
    "m['name']"
   ]
  },
  {
   "cell_type": "code",
   "execution_count": 50,
   "id": "9ba5f843-1dbf-47fd-9301-8e97690d5665",
   "metadata": {},
   "outputs": [
    {
     "data": {
      "text/plain": [
       "'lathiya'"
      ]
     },
     "execution_count": 50,
     "metadata": {},
     "output_type": "execute_result"
    }
   ],
   "source": [
    "m['lname']"
   ]
  },
  {
   "cell_type": "code",
   "execution_count": 53,
   "id": "632ff42d-63ba-4ace-a570-fc2757512ec1",
   "metadata": {},
   "outputs": [
    {
     "data": {
      "text/plain": [
       "[[0, 0, 0, 0, 0],\n",
       " [1, 1, 1, 1, 1],\n",
       " [2, 2, 2, 2, 2],\n",
       " [3, 3, 3, 3, 3],\n",
       " [4, 4, 4, 4, 4]]"
      ]
     },
     "execution_count": 53,
     "metadata": {},
     "output_type": "execute_result"
    }
   ],
   "source": [
    "''' Nested List Comprehension:\n",
    "Write a nested list comprehension to create a list of tuples containing all pairs \n",
    "of numbers from two given lists.\n",
    "Given a list of lists representing a matrix, write a nested list comprehension to flatten\n",
    "the matrix into a single list.'''\n",
    "\n",
    "m=[[j for i in range(5)] for j in range(5)]\n",
    "\n",
    "m"
   ]
  },
  {
   "cell_type": "code",
   "execution_count": 54,
   "id": "a75560a7-a7d8-4838-94d1-27be8a5be539",
   "metadata": {},
   "outputs": [
    {
     "data": {
      "text/plain": [
       "[[0, 1, 2, 3, 4],\n",
       " [0, 1, 2, 3, 4],\n",
       " [0, 1, 2, 3, 4],\n",
       " [0, 1, 2, 3, 4],\n",
       " [0, 1, 2, 3, 4]]"
      ]
     },
     "execution_count": 54,
     "metadata": {},
     "output_type": "execute_result"
    }
   ],
   "source": [
    "m=[[i for i in range(5)] for j in range(5)]\n",
    "\n",
    "m"
   ]
  },
  {
   "cell_type": "code",
   "execution_count": null,
   "id": "b5084d06-da63-4b4c-82cc-ada41ca1d07e",
   "metadata": {},
   "outputs": [],
   "source": [
    "'''Create a list of numbers and delete the elements at even\n",
    "indices using the del statement.\n",
    "Given a dictionary representing student grades, delete the entry for a specific student \n",
    "using the del statement.'''"
   ]
  },
  {
   "cell_type": "code",
   "execution_count": 63,
   "id": "ee7e8324-4992-4fd9-b427-bc9ff9b3252d",
   "metadata": {},
   "outputs": [
    {
     "name": "stdout",
     "output_type": "stream",
     "text": [
      "[1, 3, 5, 7, 9]\n"
     ]
    }
   ],
   "source": [
    "n=[1,2,3,4,5,6,7,8,9,20]\n",
    "odd=[]\n",
    "for i in n:\n",
    "    if i%2!=0:\n",
    "        odd.append(i)\n",
    "print(odd)"
   ]
  },
  {
   "cell_type": "code",
   "execution_count": 58,
   "id": "1a55e965-114a-4e1b-be89-c50ec2217b3f",
   "metadata": {},
   "outputs": [
    {
     "data": {
      "text/plain": [
       "[1, 2, 3, 4, 5, 6, 7, 8, 9, 20]"
      ]
     },
     "execution_count": 58,
     "metadata": {},
     "output_type": "execute_result"
    }
   ],
   "source": [
    "n"
   ]
  },
  {
   "cell_type": "code",
   "execution_count": 67,
   "id": "e027366a-898d-4ac4-983e-abf4358041d7",
   "metadata": {},
   "outputs": [
    {
     "data": {
      "text/plain": [
       "{'dixit': 100, 'rutvik': 78, 'hina': 89}"
      ]
     },
     "execution_count": 67,
     "metadata": {},
     "output_type": "execute_result"
    }
   ],
   "source": [
    "m={'jinal':99,'dixit':100,'rutvik':78,'hina':89}\n",
    "\n",
    "del m['jinal']\n",
    "m"
   ]
  },
  {
   "cell_type": "code",
   "execution_count": 68,
   "id": "5a5a9a68-e1b6-414f-9671-7b68edc5c562",
   "metadata": {},
   "outputs": [
    {
     "data": {
      "text/plain": [
       "{'dixit': 100, 'rutvik': 78, 'hina': 89}"
      ]
     },
     "execution_count": 68,
     "metadata": {},
     "output_type": "execute_result"
    }
   ],
   "source": [
    "m"
   ]
  },
  {
   "cell_type": "code",
   "execution_count": 71,
   "id": "63d6305c-7673-42ae-9031-0f7aba68da19",
   "metadata": {},
   "outputs": [
    {
     "name": "stdin",
     "output_type": "stream",
     "text": [
      "enter any integer 12\n",
      "enter second integer 10\n"
     ]
    },
    {
     "name": "stdout",
     "output_type": "stream",
     "text": [
      "2\n"
     ]
    }
   ],
   "source": [
    "''' Write a function that takes two tuples representing coordinates and calculates the \n",
    "distance between them using the distance formula.\n",
    "Given a list of tuples containing student names and their corresponding ages, sort the list\n",
    "based on the students' ages.'''\n",
    "\n",
    "\n",
    "def func(n,n1):\n",
    "    return n - n1\n",
    "\n",
    "n=int(input('enter any integer'))\n",
    "n1=int(input('enter second integer'))\n",
    "\n",
    "k=func(n,n1)\n",
    "print(k)"
   ]
  },
  {
   "cell_type": "code",
   "execution_count": 79,
   "id": "bebcb62a-e094-4845-8890-4ba10a06ac4c",
   "metadata": {},
   "outputs": [],
   "source": [
    "x=[('jinal',22),('dixit',67), ('hina',8),('ekta',25)]\n",
    "\n",
    "m=sorted(x,key=lambda n: n[1])"
   ]
  },
  {
   "cell_type": "code",
   "execution_count": 80,
   "id": "87eb967c-e785-4367-9bcc-7f80a5079c9b",
   "metadata": {},
   "outputs": [
    {
     "data": {
      "text/plain": [
       "[('hina', 8), ('jinal', 22), ('ekta', 25), ('dixit', 67)]"
      ]
     },
     "execution_count": 80,
     "metadata": {},
     "output_type": "execute_result"
    }
   ],
   "source": [
    "m"
   ]
  },
  {
   "cell_type": "code",
   "execution_count": null,
   "id": "8f66121d-296b-4f98-b28f-54cab260ee36",
   "metadata": {},
   "outputs": [],
   "source": [
    "Write a function to remove duplicate elements from a given list using sets.\n",
    "Given two sets of integers, find the intersection and union of the sets.\n",
    "Dictionaries:\n",
    "Write a function that takes a list of strings and returns a dictionary where the keys are the strings and the values are their lengths.\n",
    "Given a dictionary representing the frequency of words in a text, find the most common word."
   ]
  },
  {
   "cell_type": "code",
   "execution_count": 82,
   "id": "aea36f0f-79ba-42e1-bde8-cc4e919cf68e",
   "metadata": {},
   "outputs": [
    {
     "name": "stdout",
     "output_type": "stream",
     "text": [
      "{2, 3, 4, 5, 6, 9, 78}\n"
     ]
    }
   ],
   "source": [
    "m={2,3,4,5,6,4,3,2,4,5,6,4,3,2,4,5,3,5,4,3,6,78,9}\n",
    "\n",
    "def duplicate_remove(n):\n",
    "    return set(n)\n",
    "\n",
    "k=duplicate_remove(m)\n",
    "print(k)"
   ]
  },
  {
   "cell_type": "code",
   "execution_count": 83,
   "id": "c043d31f-f075-41d2-9dd4-cf88ee553109",
   "metadata": {},
   "outputs": [
    {
     "data": {
      "text/plain": [
       "{2, 3, 4, 5, 6, 7, 8, 24, 32, 45, 54, 56, 57, 67, 345}"
      ]
     },
     "execution_count": 83,
     "metadata": {},
     "output_type": "execute_result"
    }
   ],
   "source": [
    "#Given two sets of integers, find the intersection and union of the sets.\n",
    "\n",
    "a={2,3,4,56,4,32,54,6,57,6,54,32,24,54,67,6,4}\n",
    "b={6,4,3,2,345,6,45,3,2,4,6,7,5,32,4,4,6,7,8}\n",
    "\n",
    "a | b"
   ]
  },
  {
   "cell_type": "code",
   "execution_count": 84,
   "id": "82e8977d-750f-4074-af17-657888cce2d7",
   "metadata": {},
   "outputs": [
    {
     "data": {
      "text/plain": [
       "{2, 3, 4, 6, 32}"
      ]
     },
     "execution_count": 84,
     "metadata": {},
     "output_type": "execute_result"
    }
   ],
   "source": [
    "a & b"
   ]
  },
  {
   "cell_type": "code",
   "execution_count": 85,
   "id": "dc293aab-9c25-4c0d-9aa9-7e1671fde014",
   "metadata": {},
   "outputs": [
    {
     "data": {
      "text/plain": [
       "{5, 7, 8, 24, 45, 54, 56, 57, 67, 345}"
      ]
     },
     "execution_count": 85,
     "metadata": {},
     "output_type": "execute_result"
    }
   ],
   "source": [
    "a ^ b"
   ]
  },
  {
   "cell_type": "code",
   "execution_count": 86,
   "id": "524df1cf-6da3-41d9-ba33-643f075ef2a4",
   "metadata": {},
   "outputs": [
    {
     "data": {
      "text/plain": [
       "{24, 54, 56, 57, 67}"
      ]
     },
     "execution_count": 86,
     "metadata": {},
     "output_type": "execute_result"
    }
   ],
   "source": [
    "a - b"
   ]
  },
  {
   "cell_type": "code",
   "execution_count": 93,
   "id": "0eeead94-91db-4d3f-8ad4-b50d963326c2",
   "metadata": {},
   "outputs": [
    {
     "name": "stdout",
     "output_type": "stream",
     "text": [
      "{'jinal': 5, 'hina': 4, 'ekta': 4, 'dixit': 5, 'rutvik': 6}\n"
     ]
    }
   ],
   "source": [
    "#Write a function that takes a list of strings and returns a dictionary where \n",
    "#the keys are the strings and the values are their lengths.\n",
    "\n",
    "\n",
    "def func(s):\n",
    "    d={}\n",
    "    for i in s:\n",
    "        d[i]=len(i)\n",
    "    return d\n",
    "        \n",
    "    \n",
    "\n",
    "n=['jinal', 'hina','ekta', 'dixit', 'rutvik']\n",
    "print(func(n))"
   ]
  },
  {
   "cell_type": "code",
   "execution_count": 97,
   "id": "dd291746-7e9b-4b96-a477-fe90715cfec3",
   "metadata": {},
   "outputs": [
    {
     "name": "stdout",
     "output_type": "stream",
     "text": [
      "{'jiasdhjs': 8, 'gdshagdh': 8, 'dghgvbxcv': 9, 'efgdhasvbh': 10, 'gyefyge': 7, 'aaaaaaaa': 8}\n"
     ]
    }
   ],
   "source": [
    "def func(string):\n",
    "    dict={}\n",
    "    for i in string:\n",
    "        dict[i]=len(i)\n",
    "    return dict\n",
    "\n",
    "s=['jiasdhjs','gdshagdh', 'dghgvbxcv', 'efgdhasvbh', 'gyefyge','aaaaaaaa']\n",
    "print(func(s))"
   ]
  },
  {
   "cell_type": "code",
   "execution_count": 98,
   "id": "86e5cd6f-a8fd-4c6a-9d58-c624395894ab",
   "metadata": {},
   "outputs": [
    {
     "data": {
      "text/plain": [
       "{'jinal': 5, 'dixit': 45, 'hin': 87, 'EKTA': 90, 'rutvik': 76}"
      ]
     },
     "execution_count": 98,
     "metadata": {},
     "output_type": "execute_result"
    }
   ],
   "source": [
    "#Given a dictionary representing the frequency of words in a text, find the most common\n",
    "#word.\n",
    "\n",
    "di={'jinal':5, 'dixit':45,'hin':87,'EKTA':90,'rutvik':76}\n",
    "di\n",
    "\n",
    "\n",
    "\n"
   ]
  },
  {
   "cell_type": "code",
   "execution_count": null,
   "id": "60d3ca68-d284-4bfa-a364-172618e22bdf",
   "metadata": {},
   "outputs": [],
   "source": []
  },
  {
   "cell_type": "code",
   "execution_count": 99,
   "id": "007d47f5-ed5c-4b6e-b9cb-307bec35180a",
   "metadata": {},
   "outputs": [
    {
     "name": "stdout",
     "output_type": "stream",
     "text": [
      "The most common word is: banana\n"
     ]
    }
   ],
   "source": [
    "def most_common_word(word_freq):\n",
    "    max_freq = 0\n",
    "    most_common = ''\n",
    "    for word, freq in word_freq.items():\n",
    "        if freq > max_freq:\n",
    "            max_freq = freq\n",
    "            most_common = word\n",
    "    return most_common\n",
    "\n",
    "# Example usage:\n",
    "word_freq = {\n",
    "    'apple': 3,\n",
    "    'banana': 5,\n",
    "    'orange': 2,\n",
    "    'grape': 5\n",
    "}\n",
    "\n",
    "most_common = most_common_word(word_freq)\n",
    "print(\"The most common word is:\", most_common)\n"
   ]
  },
  {
   "cell_type": "code",
   "execution_count": 100,
   "id": "34a7ba06-9118-4def-9dd7-44cd0f80a8ed",
   "metadata": {},
   "outputs": [
    {
     "name": "stdout",
     "output_type": "stream",
     "text": [
      "9\n",
      "7\n",
      "5\n",
      "3\n",
      "1\n"
     ]
    }
   ],
   "source": [
    "for i in reversed(range(1,10,2)):\n",
    "    print(i)\n",
    "    "
   ]
  },
  {
   "cell_type": "code",
   "execution_count": 102,
   "id": "21295364-8836-4920-8af2-bcea031fbcb7",
   "metadata": {},
   "outputs": [
    {
     "name": "stdout",
     "output_type": "stream",
     "text": [
      "BANANA\n",
      "apppple\n",
      "banane\n",
      "orange\n",
      "pear\n"
     ]
    }
   ],
   "source": [
    "basket=['banane','orange', 'apppple', 'pear', 'BANANA']\n",
    "for i in sorted(basket):\n",
    "    print(i)"
   ]
  },
  {
   "cell_type": "code",
   "execution_count": null,
   "id": "cabbc7e4-2151-4bf0-8ec6-68da3e04fac6",
   "metadata": {},
   "outputs": [],
   "source": [
    "in\n",
    "not are membership operators"
   ]
  },
  {
   "cell_type": "code",
   "execution_count": 104,
   "id": "0583cbdd-46f5-4ef1-8e26-ff73d00ee816",
   "metadata": {},
   "outputs": [
    {
     "name": "stdout",
     "output_type": "stream",
     "text": [
      "(0, 'jinal')\n",
      "(1, 'hina')\n",
      "(2, 'ekta')\n",
      "(3, 'hina')\n"
     ]
    }
   ],
   "source": [
    "for i in enumerate(['jinal', 'hina', 'ekta', 'hina']):\n",
    "    print(i)"
   ]
  },
  {
   "cell_type": "code",
   "execution_count": 107,
   "id": "21a0d757-d51e-4e45-b415-9621faee3b19",
   "metadata": {},
   "outputs": [
    {
     "name": "stdout",
     "output_type": "stream",
     "text": [
      "jinal 22\n",
      "ekta 30\n",
      "hina 25\n",
      "rutvik 20\n"
     ]
    }
   ],
   "source": [
    "names=['jinal','ekta', 'hina', 'rutvik']\n",
    "ages=[22,30,25,20]\n",
    "for name,age in zip(names,ages):\n",
    "    print(name,age)"
   ]
  },
  {
   "cell_type": "code",
   "execution_count": 110,
   "id": "bbc406d1-155f-4bd9-9f78-165ed55c4fd4",
   "metadata": {},
   "outputs": [
    {
     "ename": "ModuleNotFoundError",
     "evalue": "No module named 'fibo'",
     "output_type": "error",
     "traceback": [
      "\u001b[0;31m---------------------------------------------------------------------------\u001b[0m",
      "\u001b[0;31mModuleNotFoundError\u001b[0m                       Traceback (most recent call last)",
      "Cell \u001b[0;32mIn[110], line 1\u001b[0m\n\u001b[0;32m----> 1\u001b[0m \u001b[38;5;28;01mimport\u001b[39;00m \u001b[38;5;21;01mfibo\u001b[39;00m\n",
      "\u001b[0;31mModuleNotFoundError\u001b[0m: No module named 'fibo'"
     ]
    }
   ],
   "source": [
    "import fibo"
   ]
  },
  {
   "cell_type": "code",
   "execution_count": 109,
   "id": "0921b07b-653e-4d6d-9f82-98624adbba36",
   "metadata": {},
   "outputs": [
    {
     "name": "stdout",
     "output_type": "stream",
     "text": [
      "Collecting fibo\n",
      "  Downloading Fibo-1.0.0.tar.gz (855 bytes)\n",
      "  Preparing metadata (setup.py) ... \u001b[?25ldone\n",
      "\u001b[?25hBuilding wheels for collected packages: fibo\n",
      "  Building wheel for fibo (setup.py) ... \u001b[?25ldone\n",
      "\u001b[?25h  Created wheel for fibo: filename=Fibo-1.0.0-py3-none-any.whl size=1509 sha256=805fab29fce15a91e5b44027288aa13a7e246870ff48aceb527ee5eec4329118\n",
      "  Stored in directory: /home/synchronized/snap/jupyterlab-desktop/common/.cache/pip/wheels/c1/35/9d/e7b2ccf290eba66bb003126a86becb8f9f48aeaad1e7bb309f\n",
      "Successfully built fibo\n",
      "Installing collected packages: fibo\n",
      "Successfully installed fibo-1.0.0\n"
     ]
    }
   ],
   "source": [
    "!pip install fibo"
   ]
  },
  {
   "cell_type": "code",
   "execution_count": 112,
   "id": "7de25a27-a362-4ed7-b81e-e0b8133a0832",
   "metadata": {},
   "outputs": [
    {
     "ename": "SyntaxError",
     "evalue": "Missing parentheses in call to 'print'. Did you mean print(...)? (Fibo.py, line 10)",
     "output_type": "error",
     "traceback": [
      "Traceback \u001b[0;36m(most recent call last)\u001b[0m:\n",
      "\u001b[0m  File \u001b[1;32m~/.config/jupyterlab-desktop/jlab_server/lib/python3.12/site-packages/IPython/core/interactiveshell.py:3577\u001b[0m in \u001b[1;35mrun_code\u001b[0m\n    exec(code_obj, self.user_global_ns, self.user_ns)\u001b[0m\n",
      "\u001b[0;36m  Cell \u001b[0;32mIn[112], line 1\u001b[0;36m\n\u001b[0;31m    import Fibo\u001b[0;36m\n",
      "\u001b[0;36m  File \u001b[0;32m~/.config/jupyterlab-desktop/jlab_server/lib/python3.12/site-packages/Fibo.py:10\u001b[0;36m\u001b[0m\n\u001b[0;31m    print b\u001b[0m\n\u001b[0m    ^\u001b[0m\n\u001b[0;31mSyntaxError\u001b[0m\u001b[0;31m:\u001b[0m Missing parentheses in call to 'print'. Did you mean print(...)?\n"
     ]
    }
   ],
   "source": [
    "import Fibo"
   ]
  },
  {
   "cell_type": "code",
   "execution_count": 113,
   "id": "328942e7-4e9c-4e9d-a460-82c4765dcb5b",
   "metadata": {},
   "outputs": [],
   "source": [
    "import os"
   ]
  },
  {
   "cell_type": "code",
   "execution_count": 114,
   "id": "ae97c2f1-40dd-477c-8f54-6b8da7544d53",
   "metadata": {},
   "outputs": [
    {
     "name": "stdout",
     "output_type": "stream",
     "text": [
      "['1.py', 'Sales.csv', 'mysite', 'lists.ipynb', '.ipynb_checkpoints', 'myven', 'nested_list.ipynb', 'list compherension.ipynb', '.jupyter']\n"
     ]
    }
   ],
   "source": [
    "file= os.listdir('.')\n",
    "print(file)"
   ]
  },
  {
   "cell_type": "code",
   "execution_count": 115,
   "id": "93430b72-625a-4e7a-8bf3-e735e92d7085",
   "metadata": {},
   "outputs": [
    {
     "name": "stdout",
     "output_type": "stream",
     "text": [
      " 1.py       'list compherension.ipynb'   \u001b[0m\u001b[01;34mmysite\u001b[0m/   nested_list.ipynb\n",
      " Sales.csv   lists.ipynb                 \u001b[01;34mmyven\u001b[0m/\n"
     ]
    }
   ],
   "source": [
    "%ls"
   ]
  },
  {
   "cell_type": "code",
   "execution_count": 116,
   "id": "5332bf28-da94-4e95-9caf-124a52f00306",
   "metadata": {},
   "outputs": [
    {
     "name": "stdout",
     "output_type": "stream",
     "text": [
      "Welcome to Python 3.12's help utility! If this is your first time using\n",
      "Python, you should definitely check out the tutorial at\n",
      "https://docs.python.org/3.12/tutorial/.\n",
      "\n",
      "Enter the name of any module, keyword, or topic to get help on writing\n",
      "Python programs and using Python modules.  To get a list of available\n",
      "modules, keywords, symbols, or topics, enter \"modules\", \"keywords\",\n",
      "\"symbols\", or \"topics\".\n",
      "\n",
      "Each module also comes with a one-line summary of what it does; to list\n",
      "the modules whose name or summary contain a given string such as \"spam\",\n",
      "enter \"modules spam\".\n",
      "\n",
      "To quit this help utility and return to the interpreter,\n",
      "enter \"q\" or \"quit\".\n",
      "\n"
     ]
    },
    {
     "name": "stdin",
     "output_type": "stream",
     "text": [
      "help>  fibo\n"
     ]
    },
    {
     "name": "stdout",
     "output_type": "stream",
     "text": [
      "No Python documentation found for 'fibo'.\n",
      "Use help() to get the interactive help utility.\n",
      "Use help(str) for help on the str class.\n",
      "\n",
      "\n",
      "You are now leaving help and returning to the Python interpreter.\n",
      "If you want to ask for help on a particular object directly from the\n",
      "interpreter, you can type \"help(object)\".  Executing \"help('string')\"\n",
      "has the same effect as typing a particular string at the help> prompt.\n"
     ]
    }
   ],
   "source": [
    "help()"
   ]
  },
  {
   "cell_type": "code",
   "execution_count": 117,
   "id": "de34d9a3-f5e3-4bf1-8634-a33258e6df02",
   "metadata": {},
   "outputs": [
    {
     "name": "stdout",
     "output_type": "stream",
     "text": [
      "['/home/synchronized/.config/jupyterlab-desktop/jlab_server/lib/python312.zip', '/home/synchronized/.config/jupyterlab-desktop/jlab_server/lib/python3.12', '/home/synchronized/.config/jupyterlab-desktop/jlab_server/lib/python3.12/lib-dynload', '', '/home/synchronized/.config/jupyterlab-desktop/jlab_server/lib/python3.12/site-packages']\n"
     ]
    }
   ],
   "source": [
    "import sys\n",
    "print(sys.path)"
   ]
  },
  {
   "cell_type": "code",
   "execution_count": 118,
   "id": "5fb5db24-b32c-4e53-b673-3a654355c776",
   "metadata": {},
   "outputs": [
    {
     "name": "stdout",
     "output_type": "stream",
     "text": [
      "\n",
      "Please wait a moment while I gather a list of all available modules...\n",
      "\n"
     ]
    },
    {
     "name": "stderr",
     "output_type": "stream",
     "text": [
      "/home/synchronized/.config/jupyterlab-desktop/jlab_server/lib/python3.12/pkgutil.py:78: UserWarning: The numpy.array_api submodule is still experimental. See NEP 47.\n",
      "  __import__(info.name)\n"
     ]
    },
    {
     "name": "stdout",
     "output_type": "stream",
     "text": [
      "1                   asttokens           ipykernel_launcher  requests\n",
      "Fibo                async_lru           ipympl              resource\n",
      "IPython             asyncio             ipython_genutils    rfc3339_validator\n",
      "PIL                 atexit              ipywidgets          rfc3986_validator\n",
      "__future__          attr                isoduration         rlcompleter\n",
      "__hello__           attrs               itertools           rpds\n",
      "__phello__          audioop             jedi                runpy\n",
      "_abc                babel               jinja2              sched\n",
      "_aix_support        base64              json                scipy\n",
      "_argon2_cffi_bindings bdb                 json5               secrets\n",
      "_ast                binascii            jsonpatch           select\n",
      "_asyncio            bisect              jsonpointer         selectors\n",
      "_bisect             bleach              jsonschema          send2trash\n",
      "_blake2             boltons             jsonschema_specifications setuptools\n",
      "_brotli             brotli              jupyter             shelve\n",
      "_bz2                bs4                 jupyter_client      shlex\n",
      "_cffi_backend       builtins            jupyter_core        shutil\n",
      "_codecs             bz2                 jupyter_events      signal\n",
      "_codecs_cn          cProfile            jupyter_lsp         site\n",
      "_codecs_hk          cached_property     jupyter_server      six\n",
      "_codecs_iso2022     calendar            jupyter_server_terminals smtplib\n",
      "_codecs_jp          certifi             jupyterlab          sndhdr\n",
      "_codecs_kr          cffi                jupyterlab_pygments sniffio\n",
      "_codecs_tw          cgi                 jupyterlab_server   socket\n",
      "_collections        cgitb               jupyterlab_widgets  socketserver\n",
      "_collections_abc    charset_normalizer  keyword             socks\n",
      "_compat_pickle      chunk               kiwisolver          sockshandler\n",
      "_compression        cmath               lib2to3             soupsieve\n",
      "_contextvars        cmd                 libmambapy          spwd\n",
      "_crypt              code                linecache           sqlite3\n",
      "_csv                codecs              locale              sre_compile\n",
      "_ctypes             codeop              logging             sre_constants\n",
      "_ctypes_test        collections         lzma                sre_parse\n",
      "_curses             colorama            mailbox             ssl\n",
      "_curses_panel       colorsys            mailcap             stack_data\n",
      "_datetime           comm                markupsafe          stat\n",
      "_decimal            compileall          marshal             statistics\n",
      "_distutils_hack     concurrent          math                string\n",
      "_elementtree        conda               matplotlib          stringprep\n",
      "_functools          conda_env           matplotlib_inline   struct\n",
      "_hashlib            conda_libmamba_solver menuinst            subprocess\n",
      "_heapq              conda_package_handling mimetypes           sunau\n",
      "_imp                conda_package_streaming mistune             symtable\n",
      "_io                 configparser        mmap                sys\n",
      "_json               contextlib          modulefinder        sysconfig\n",
      "_locale             contextvars         multiprocessing     syslog\n",
      "_lsprof             contourpy           munkres             tabnanny\n",
      "_lzma               copy                nbclient            tarfile\n",
      "_markupbase         copyreg             nbconvert           telnetlib\n",
      "_md5                crypt               nbformat            tempfile\n",
      "_multibytecodec     csv                 nest_asyncio        terminado\n",
      "_multiprocessing    ctypes              netrc               termios\n",
      "_opcode             curses              nis                 test\n",
      "_operator           cycler              nntplib             test_pycosat\n",
      "_osx_support        dataclasses         notebook_shim       textwrap\n",
      "_pickle             datetime            ntpath              this\n",
      "_posixshmem         dateutil            nturl2path          threading\n",
      "_posixsubprocess    dbm                 numbers             time\n",
      "_py_abc             debugpy             numpy               timeit\n",
      "_pydatetime         decimal             opcode              tinycss2\n",
      "_pydecimal          decorator           operator            tkinter\n",
      "_pyio               defusedxml          optparse            token\n",
      "_pylong             difflib             os                  tokenize\n",
      "_queue              dis                 ossaudiodev         tomli\n",
      "_random             distro              overrides           tomllib\n",
      "_ruamel_yaml        doctest             packaging           tornado\n",
      "_sha1               email               pandas              tqdm\n",
      "_sha2               encodings           pandocfilters       trace\n",
      "_sha3               ensurepip           parso               traceback\n",
      "_signal             entrypoints         pathlib             tracemalloc\n",
      "_sitebuiltins       enum                pdb                 traitlets\n",
      "_socket             errno               pexpect             truststore\n",
      "_sqlite3            exceptiongroup      pickle              tty\n",
      "_sre                executing           pickleshare         turtle\n",
      "_ssl                fastjsonschema      pickletools         turtledemo\n",
      "_stat               faulthandler        pip                 types\n",
      "_statistics         fcntl               pipes               typing\n",
      "_string             filecmp             pkg_resources       typing_extensions\n",
      "_strptime           fileinput           pkgutil             typing_utils\n",
      "_struct             fnmatch             pkgutil_resolve_name tzdata\n",
      "_symtable           fontTools           platform            unicodedata\n",
      "_sysconfigdata__linux_x86_64-linux-gnu fqdn                platformdirs        unittest\n",
      "_sysconfigdata_x86_64_conda_cos6_linux_gnu fractions           plistlib            uri_template\n",
      "_sysconfigdata_x86_64_conda_linux_gnu ftplib              pluggy              urllib\n",
      "_testbuffer         functools           poplib              urllib3\n",
      "_testcapi           gc                  posix               uu\n",
      "_testclinic         genericpath         posixpath           uuid\n",
      "_testimportmultiple getopt              pprint              venv\n",
      "_testinternalcapi   getpass             profile             warnings\n",
      "_testmultiphase     gettext             prometheus_client   wave\n",
      "_testsinglephase    glob                prompt_toolkit      wcwidth\n",
      "_thread             graphlib            pstats              weakref\n",
      "_threading_local    grp                 psutil              webbrowser\n",
      "_tkinter            gzip                pty                 webcolors\n",
      "_tokenize           h11                 ptyprocess          webencodings\n",
      "_tracemalloc        h2                  pure_eval           websocket\n",
      "_typing             hashlib             pwd                 wheel\n",
      "_uuid               heapq               py_compile          widgetsnbextension\n",
      "_warnings           hmac                pyclbr              wsgiref\n",
      "_weakref            hpack               pycosat             xdrlib\n",
      "_weakrefset         html                pycparser           xml\n",
      "_xxinterpchannels   http                pydoc               xmlrpc\n",
      "_xxsubinterpreters  httpcore            pydoc_data          xxlimited\n",
      "_xxtestfuzz         httpx               pyexpat             xxlimited_35\n",
      "_yaml               hyperframe          pygments            xxsubtype\n",
      "_zoneinfo           idlelib             pylab               yaml\n",
      "abc                 idna                pyparsing           zipapp\n",
      "aifc                imaplib             pythonjsonlogger    zipfile\n",
      "antigravity         imghdr              pytz                zipimport\n",
      "anyio               importlib           queue               zipp\n",
      "archspec            importlib_metadata  quopri              zlib\n",
      "argon2              importlib_resources random              zmq\n",
      "argparse            inspect             re                  zoneinfo\n",
      "array               io                  readline            zstandard\n",
      "arrow               ipaddress           referencing         \n",
      "ast                 ipykernel           reprlib             \n",
      "\n",
      "Enter any module name to get more help.  Or, type \"modules spam\" to search\n",
      "for modules whose name or summary contain the string \"spam\".\n",
      "\n"
     ]
    }
   ],
   "source": [
    "help('modules')"
   ]
  },
  {
   "cell_type": "code",
   "execution_count": 119,
   "id": "ce012939-4b5e-4cf5-a8a2-a208ba54e34d",
   "metadata": {},
   "outputs": [
    {
     "name": "stdout",
     "output_type": "stream",
     "text": [
      "No Python documentation found for 'fibo'.\n",
      "Use help() to get the interactive help utility.\n",
      "Use help(str) for help on the str class.\n",
      "\n"
     ]
    }
   ],
   "source": [
    "help('fibo')"
   ]
  },
  {
   "cell_type": "code",
   "execution_count": 120,
   "id": "7d869552-f6fe-441d-a4bf-a123630bf2ce",
   "metadata": {},
   "outputs": [],
   "source": [
    "import mymodule"
   ]
  },
  {
   "cell_type": "code",
   "execution_count": 121,
   "id": "38ac5862-f58c-4948-9548-4019a5bb22bb",
   "metadata": {},
   "outputs": [
    {
     "name": "stdout",
     "output_type": "stream",
     "text": [
      "hellojinal\n"
     ]
    }
   ],
   "source": [
    "mymodule.greeting('jinal')"
   ]
  },
  {
   "cell_type": "code",
   "execution_count": null,
   "id": "18f75c7f-6801-471e-bd65-e6cc2f02bf19",
   "metadata": {},
   "outputs": [],
   "source": []
  },
  {
   "cell_type": "code",
   "execution_count": 126,
   "id": "6e2d74f1-118a-43ae-b9e2-9dba12b5ce2a",
   "metadata": {},
   "outputs": [
    {
     "name": "stdout",
     "output_type": "stream",
     "text": [
      "Collecting ipython-sql\n",
      "  Downloading ipython_sql-0.5.0-py3-none-any.whl.metadata (17 kB)\n",
      "Collecting prettytable (from ipython-sql)\n",
      "  Downloading prettytable-3.10.0-py3-none-any.whl.metadata (30 kB)\n",
      "Requirement already satisfied: ipython in /home/synchronized/.config/jupyterlab-desktop/jlab_server/lib/python3.12/site-packages (from ipython-sql) (8.22.2)\n",
      "Collecting sqlalchemy>=2.0 (from ipython-sql)\n",
      "  Downloading SQLAlchemy-2.0.30-cp312-cp312-manylinux_2_17_x86_64.manylinux2014_x86_64.whl.metadata (9.6 kB)\n",
      "Collecting sqlparse (from ipython-sql)\n",
      "  Downloading sqlparse-0.5.0-py3-none-any.whl.metadata (3.9 kB)\n",
      "Requirement already satisfied: six in /home/synchronized/.config/jupyterlab-desktop/jlab_server/lib/python3.12/site-packages (from ipython-sql) (1.16.0)\n",
      "Requirement already satisfied: ipython-genutils in /home/synchronized/.config/jupyterlab-desktop/jlab_server/lib/python3.12/site-packages (from ipython-sql) (0.2.0)\n",
      "Requirement already satisfied: typing-extensions>=4.6.0 in /home/synchronized/.config/jupyterlab-desktop/jlab_server/lib/python3.12/site-packages (from sqlalchemy>=2.0->ipython-sql) (4.11.0)\n",
      "Collecting greenlet!=0.4.17 (from sqlalchemy>=2.0->ipython-sql)\n",
      "  Downloading greenlet-3.0.3-cp312-cp312-manylinux_2_24_x86_64.manylinux_2_28_x86_64.whl.metadata (3.8 kB)\n",
      "Requirement already satisfied: decorator in /home/synchronized/.config/jupyterlab-desktop/jlab_server/lib/python3.12/site-packages (from ipython->ipython-sql) (5.1.1)\n",
      "Requirement already satisfied: jedi>=0.16 in /home/synchronized/.config/jupyterlab-desktop/jlab_server/lib/python3.12/site-packages (from ipython->ipython-sql) (0.19.1)\n",
      "Requirement already satisfied: matplotlib-inline in /home/synchronized/.config/jupyterlab-desktop/jlab_server/lib/python3.12/site-packages (from ipython->ipython-sql) (0.1.7)\n",
      "Requirement already satisfied: prompt-toolkit<3.1.0,>=3.0.41 in /home/synchronized/.config/jupyterlab-desktop/jlab_server/lib/python3.12/site-packages (from ipython->ipython-sql) (3.0.42)\n",
      "Requirement already satisfied: pygments>=2.4.0 in /home/synchronized/.config/jupyterlab-desktop/jlab_server/lib/python3.12/site-packages (from ipython->ipython-sql) (2.17.2)\n",
      "Requirement already satisfied: stack-data in /home/synchronized/.config/jupyterlab-desktop/jlab_server/lib/python3.12/site-packages (from ipython->ipython-sql) (0.6.2)\n",
      "Requirement already satisfied: traitlets>=5.13.0 in /home/synchronized/.config/jupyterlab-desktop/jlab_server/lib/python3.12/site-packages (from ipython->ipython-sql) (5.14.3)\n",
      "Requirement already satisfied: pexpect>4.3 in /home/synchronized/.config/jupyterlab-desktop/jlab_server/lib/python3.12/site-packages (from ipython->ipython-sql) (4.9.0)\n",
      "Requirement already satisfied: wcwidth in /home/synchronized/.config/jupyterlab-desktop/jlab_server/lib/python3.12/site-packages (from prettytable->ipython-sql) (0.2.13)\n",
      "Requirement already satisfied: parso<0.9.0,>=0.8.3 in /home/synchronized/.config/jupyterlab-desktop/jlab_server/lib/python3.12/site-packages (from jedi>=0.16->ipython->ipython-sql) (0.8.4)\n",
      "Requirement already satisfied: ptyprocess>=0.5 in /home/synchronized/.config/jupyterlab-desktop/jlab_server/lib/python3.12/site-packages (from pexpect>4.3->ipython->ipython-sql) (0.7.0)\n",
      "Requirement already satisfied: executing>=1.2.0 in /home/synchronized/.config/jupyterlab-desktop/jlab_server/lib/python3.12/site-packages (from stack-data->ipython->ipython-sql) (2.0.1)\n",
      "Requirement already satisfied: asttokens>=2.1.0 in /home/synchronized/.config/jupyterlab-desktop/jlab_server/lib/python3.12/site-packages (from stack-data->ipython->ipython-sql) (2.4.1)\n",
      "Requirement already satisfied: pure-eval in /home/synchronized/.config/jupyterlab-desktop/jlab_server/lib/python3.12/site-packages (from stack-data->ipython->ipython-sql) (0.2.2)\n",
      "Downloading ipython_sql-0.5.0-py3-none-any.whl (20 kB)\n",
      "Downloading SQLAlchemy-2.0.30-cp312-cp312-manylinux_2_17_x86_64.manylinux2014_x86_64.whl (3.2 MB)\n",
      "\u001b[2K   \u001b[90m━━━━━━━━━━━━━━━━━━━━━━━━━━━━━━━━━━━━━━━━\u001b[0m \u001b[32m3.2/3.2 MB\u001b[0m \u001b[31m17.5 MB/s\u001b[0m eta \u001b[36m0:00:00\u001b[0ma \u001b[36m0:00:01\u001b[0m\n",
      "\u001b[?25hDownloading prettytable-3.10.0-py3-none-any.whl (28 kB)\n",
      "Downloading sqlparse-0.5.0-py3-none-any.whl (43 kB)\n",
      "\u001b[2K   \u001b[90m━━━━━━━━━━━━━━━━━━━━━━━━━━━━━━━━━━━━━━━━\u001b[0m \u001b[32m44.0/44.0 kB\u001b[0m \u001b[31m6.9 MB/s\u001b[0m eta \u001b[36m0:00:00\u001b[0m\n",
      "\u001b[?25hDownloading greenlet-3.0.3-cp312-cp312-manylinux_2_24_x86_64.manylinux_2_28_x86_64.whl (625 kB)\n",
      "\u001b[2K   \u001b[90m━━━━━━━━━━━━━━━━━━━━━━━━━━━━━━━━━━━━━━━━\u001b[0m \u001b[32m625.7/625.7 kB\u001b[0m \u001b[31m30.5 MB/s\u001b[0m eta \u001b[36m0:00:00\u001b[0m\n",
      "\u001b[?25hInstalling collected packages: sqlparse, prettytable, greenlet, sqlalchemy, ipython-sql\n",
      "Successfully installed greenlet-3.0.3 ipython-sql-0.5.0 prettytable-3.10.0 sqlalchemy-2.0.30 sqlparse-0.5.0\n",
      "Note: you may need to restart the kernel to use updated packages.\n"
     ]
    }
   ],
   "source": [
    "pip install ipython-sql"
   ]
  },
  {
   "cell_type": "code",
   "execution_count": 128,
   "id": "8756867d-cd1c-4269-ba78-3f3d02640f38",
   "metadata": {},
   "outputs": [
    {
     "name": "stdout",
     "output_type": "stream",
     "text": [
      "Collecting mysql-connector-python\n",
      "  Downloading mysql_connector_python-8.4.0-cp312-cp312-manylinux_2_17_x86_64.whl.metadata (1.9 kB)\n",
      "Downloading mysql_connector_python-8.4.0-cp312-cp312-manylinux_2_17_x86_64.whl (19.5 MB)\n",
      "\u001b[2K   \u001b[90m━━━━━━━━━━━━━━━━━━━━━━━━━━━━━━━━━━━━━━━━\u001b[0m \u001b[32m19.5/19.5 MB\u001b[0m \u001b[31m8.5 MB/s\u001b[0m eta \u001b[36m0:00:00\u001b[0m00:01\u001b[0m00:01\u001b[0m\n",
      "\u001b[?25hInstalling collected packages: mysql-connector-python\n",
      "Successfully installed mysql-connector-python-8.4.0\n"
     ]
    }
   ],
   "source": [
    "!pip install mysql-connector-python\n"
   ]
  },
  {
   "cell_type": "code",
   "execution_count": 129,
   "id": "821e771b-738c-429b-8135-1461a8949364",
   "metadata": {},
   "outputs": [
    {
     "name": "stdout",
     "output_type": "stream",
     "text": [
      "usage: jupyter [-h] [--version] [--config-dir] [--data-dir] [--runtime-dir]\n",
      "               [--paths] [--json] [--debug]\n",
      "               [subcommand]\n",
      "\n",
      "Jupyter: Interactive Computing\n",
      "\n",
      "positional arguments:\n",
      "  subcommand     the subcommand to launch\n",
      "\n",
      "options:\n",
      "  -h, --help     show this help message and exit\n",
      "  --version      show the versions of core jupyter packages and exit\n",
      "  --config-dir   show Jupyter config dir\n",
      "  --data-dir     show Jupyter data dir\n",
      "  --runtime-dir  show Jupyter runtime dir\n",
      "  --paths        show all Jupyter paths. Add --json for machine-readable\n",
      "                 format.\n",
      "  --json         output paths as machine-readable json\n",
      "  --debug        output debug information about paths\n",
      "\n",
      "Available subcommands: dejavu events execute kernel kernelspec lab\n",
      "labextension labhub migrate nbconvert run server troubleshoot trust\n",
      "\n",
      "Jupyter command `jupyter-notebbok` not found.\n"
     ]
    }
   ],
   "source": [
    "!jupyter notebbok"
   ]
  },
  {
   "cell_type": "code",
   "execution_count": 130,
   "id": "c14ab663-dc5e-47dd-9f0a-e672c0532071",
   "metadata": {},
   "outputs": [],
   "source": [
    "import mysql.connector"
   ]
  },
  {
   "cell_type": "code",
   "execution_count": 131,
   "id": "e4eda9ac-5895-4ea0-8f08-d59170862320",
   "metadata": {},
   "outputs": [
    {
     "ename": "ProgrammingError",
     "evalue": "1045 (28000): Access denied for user 'jinal'@'localhost' (using password: YES)",
     "output_type": "error",
     "traceback": [
      "\u001b[0;31m---------------------------------------------------------------------------\u001b[0m",
      "\u001b[0;31mMySQLInterfaceError\u001b[0m                       Traceback (most recent call last)",
      "File \u001b[0;32m~/.config/jupyterlab-desktop/jlab_server/lib/python3.12/site-packages/mysql/connector/connection_cext.py:327\u001b[0m, in \u001b[0;36mCMySQLConnection._open_connection\u001b[0;34m(self)\u001b[0m\n\u001b[1;32m    326\u001b[0m \u001b[38;5;28;01mtry\u001b[39;00m:\n\u001b[0;32m--> 327\u001b[0m     \u001b[38;5;28;43mself\u001b[39;49m\u001b[38;5;241;43m.\u001b[39;49m\u001b[43m_cmysql\u001b[49m\u001b[38;5;241;43m.\u001b[39;49m\u001b[43mconnect\u001b[49m\u001b[43m(\u001b[49m\u001b[38;5;241;43m*\u001b[39;49m\u001b[38;5;241;43m*\u001b[39;49m\u001b[43mcnx_kwargs\u001b[49m\u001b[43m)\u001b[49m\n\u001b[1;32m    328\u001b[0m     \u001b[38;5;28mself\u001b[39m\u001b[38;5;241m.\u001b[39m_cmysql\u001b[38;5;241m.\u001b[39mconverter_str_fallback \u001b[38;5;241m=\u001b[39m \u001b[38;5;28mself\u001b[39m\u001b[38;5;241m.\u001b[39m_converter_str_fallback\n",
      "\u001b[0;31mMySQLInterfaceError\u001b[0m: Access denied for user 'jinal'@'localhost' (using password: YES)",
      "\nThe above exception was the direct cause of the following exception:\n",
      "\u001b[0;31mProgrammingError\u001b[0m                          Traceback (most recent call last)",
      "Cell \u001b[0;32mIn[131], line 1\u001b[0m\n\u001b[0;32m----> 1\u001b[0m mydb\u001b[38;5;241m=\u001b[39m \u001b[43mmysql\u001b[49m\u001b[38;5;241;43m.\u001b[39;49m\u001b[43mconnector\u001b[49m\u001b[38;5;241;43m.\u001b[39;49m\u001b[43mconnect\u001b[49m\u001b[43m(\u001b[49m\n\u001b[1;32m      2\u001b[0m \u001b[43m    \u001b[49m\u001b[43mhost\u001b[49m\u001b[38;5;241;43m=\u001b[39;49m\u001b[38;5;124;43m'\u001b[39;49m\u001b[38;5;124;43mlocalhost\u001b[39;49m\u001b[38;5;124;43m'\u001b[39;49m\u001b[43m,\u001b[49m\n\u001b[1;32m      3\u001b[0m \u001b[43m    \u001b[49m\u001b[43muser\u001b[49m\u001b[38;5;241;43m=\u001b[39;49m\u001b[38;5;124;43m'\u001b[39;49m\u001b[38;5;124;43mjinal\u001b[39;49m\u001b[38;5;124;43m'\u001b[39;49m\u001b[43m,\u001b[49m\n\u001b[1;32m      4\u001b[0m \u001b[43m    \u001b[49m\u001b[43mpassword\u001b[49m\u001b[38;5;241;43m=\u001b[39;49m\u001b[38;5;124;43m'\u001b[39;49m\u001b[38;5;124;43mjinal\u001b[39;49m\u001b[38;5;124;43m'\u001b[39;49m\n\u001b[1;32m      5\u001b[0m \u001b[43m)\u001b[49m\n",
      "File \u001b[0;32m~/.config/jupyterlab-desktop/jlab_server/lib/python3.12/site-packages/mysql/connector/pooling.py:322\u001b[0m, in \u001b[0;36mconnect\u001b[0;34m(*args, **kwargs)\u001b[0m\n\u001b[1;32m    319\u001b[0m         \u001b[38;5;28;01mraise\u001b[39;00m \u001b[38;5;167;01mImportError\u001b[39;00m(ERROR_NO_CEXT)\n\u001b[1;32m    321\u001b[0m \u001b[38;5;28;01mif\u001b[39;00m CMySQLConnection \u001b[38;5;129;01mand\u001b[39;00m \u001b[38;5;129;01mnot\u001b[39;00m use_pure:\n\u001b[0;32m--> 322\u001b[0m     \u001b[38;5;28;01mreturn\u001b[39;00m \u001b[43mCMySQLConnection\u001b[49m\u001b[43m(\u001b[49m\u001b[38;5;241;43m*\u001b[39;49m\u001b[43margs\u001b[49m\u001b[43m,\u001b[49m\u001b[43m \u001b[49m\u001b[38;5;241;43m*\u001b[39;49m\u001b[38;5;241;43m*\u001b[39;49m\u001b[43mkwargs\u001b[49m\u001b[43m)\u001b[49m\n\u001b[1;32m    323\u001b[0m \u001b[38;5;28;01mreturn\u001b[39;00m MySQLConnection(\u001b[38;5;241m*\u001b[39margs, \u001b[38;5;241m*\u001b[39m\u001b[38;5;241m*\u001b[39mkwargs)\n",
      "File \u001b[0;32m~/.config/jupyterlab-desktop/jlab_server/lib/python3.12/site-packages/mysql/connector/connection_cext.py:144\u001b[0m, in \u001b[0;36mCMySQLConnection.__init__\u001b[0;34m(self, **kwargs)\u001b[0m\n\u001b[1;32m    142\u001b[0m \u001b[38;5;28;01mif\u001b[39;00m kwargs:\n\u001b[1;32m    143\u001b[0m     \u001b[38;5;28;01mtry\u001b[39;00m:\n\u001b[0;32m--> 144\u001b[0m         \u001b[38;5;28;43mself\u001b[39;49m\u001b[38;5;241;43m.\u001b[39;49m\u001b[43mconnect\u001b[49m\u001b[43m(\u001b[49m\u001b[38;5;241;43m*\u001b[39;49m\u001b[38;5;241;43m*\u001b[39;49m\u001b[43mkwargs\u001b[49m\u001b[43m)\u001b[49m\n\u001b[1;32m    145\u001b[0m     \u001b[38;5;28;01mexcept\u001b[39;00m \u001b[38;5;167;01mException\u001b[39;00m:\n\u001b[1;32m    146\u001b[0m         \u001b[38;5;28mself\u001b[39m\u001b[38;5;241m.\u001b[39mclose()\n",
      "File \u001b[0;32m~/.config/jupyterlab-desktop/jlab_server/lib/python3.12/site-packages/mysql/connector/abstracts.py:1360\u001b[0m, in \u001b[0;36mMySQLConnectionAbstract.connect\u001b[0;34m(self, **kwargs)\u001b[0m\n\u001b[1;32m   1357\u001b[0m     \u001b[38;5;28mself\u001b[39m\u001b[38;5;241m.\u001b[39mconfig(\u001b[38;5;241m*\u001b[39m\u001b[38;5;241m*\u001b[39mkwargs)\n\u001b[1;32m   1359\u001b[0m \u001b[38;5;28mself\u001b[39m\u001b[38;5;241m.\u001b[39mdisconnect()\n\u001b[0;32m-> 1360\u001b[0m \u001b[38;5;28;43mself\u001b[39;49m\u001b[38;5;241;43m.\u001b[39;49m\u001b[43m_open_connection\u001b[49m\u001b[43m(\u001b[49m\u001b[43m)\u001b[49m\n\u001b[1;32m   1362\u001b[0m charset, collation \u001b[38;5;241m=\u001b[39m (\n\u001b[1;32m   1363\u001b[0m     kwargs\u001b[38;5;241m.\u001b[39mpop(\u001b[38;5;124m\"\u001b[39m\u001b[38;5;124mcharset\u001b[39m\u001b[38;5;124m\"\u001b[39m, \u001b[38;5;28;01mNone\u001b[39;00m),\n\u001b[1;32m   1364\u001b[0m     kwargs\u001b[38;5;241m.\u001b[39mpop(\u001b[38;5;124m\"\u001b[39m\u001b[38;5;124mcollation\u001b[39m\u001b[38;5;124m\"\u001b[39m, \u001b[38;5;28;01mNone\u001b[39;00m),\n\u001b[1;32m   1365\u001b[0m )\n\u001b[1;32m   1366\u001b[0m \u001b[38;5;28;01mif\u001b[39;00m charset \u001b[38;5;129;01mor\u001b[39;00m collation:\n",
      "File \u001b[0;32m~/.config/jupyterlab-desktop/jlab_server/lib/python3.12/site-packages/mysql/connector/connection_cext.py:332\u001b[0m, in \u001b[0;36mCMySQLConnection._open_connection\u001b[0;34m(self)\u001b[0m\n\u001b[1;32m    330\u001b[0m         \u001b[38;5;28mself\u001b[39m\u001b[38;5;241m.\u001b[39mconverter\u001b[38;5;241m.\u001b[39mstr_fallback \u001b[38;5;241m=\u001b[39m \u001b[38;5;28mself\u001b[39m\u001b[38;5;241m.\u001b[39m_converter_str_fallback\n\u001b[1;32m    331\u001b[0m \u001b[38;5;28;01mexcept\u001b[39;00m MySQLInterfaceError \u001b[38;5;28;01mas\u001b[39;00m err:\n\u001b[0;32m--> 332\u001b[0m     \u001b[38;5;28;01mraise\u001b[39;00m get_mysql_exception(\n\u001b[1;32m    333\u001b[0m         msg\u001b[38;5;241m=\u001b[39merr\u001b[38;5;241m.\u001b[39mmsg, errno\u001b[38;5;241m=\u001b[39merr\u001b[38;5;241m.\u001b[39merrno, sqlstate\u001b[38;5;241m=\u001b[39merr\u001b[38;5;241m.\u001b[39msqlstate\n\u001b[1;32m    334\u001b[0m     ) \u001b[38;5;28;01mfrom\u001b[39;00m \u001b[38;5;21;01merr\u001b[39;00m\n\u001b[1;32m    336\u001b[0m \u001b[38;5;28mself\u001b[39m\u001b[38;5;241m.\u001b[39m_do_handshake()\n\u001b[1;32m    338\u001b[0m \u001b[38;5;28;01mif\u001b[39;00m (\n\u001b[1;32m    339\u001b[0m     \u001b[38;5;129;01mnot\u001b[39;00m \u001b[38;5;28mself\u001b[39m\u001b[38;5;241m.\u001b[39m_ssl_disabled\n\u001b[1;32m    340\u001b[0m     \u001b[38;5;129;01mand\u001b[39;00m \u001b[38;5;28mhasattr\u001b[39m(\u001b[38;5;28mself\u001b[39m\u001b[38;5;241m.\u001b[39m_cmysql, \u001b[38;5;124m\"\u001b[39m\u001b[38;5;124mget_ssl_cipher\u001b[39m\u001b[38;5;124m\"\u001b[39m)\n\u001b[0;32m   (...)\u001b[0m\n\u001b[1;32m    345\u001b[0m \n\u001b[1;32m    346\u001b[0m     \u001b[38;5;66;03m# `get_ssl_cipher()` returns the name of the cipher being used.\u001b[39;00m\n",
      "\u001b[0;31mProgrammingError\u001b[0m: 1045 (28000): Access denied for user 'jinal'@'localhost' (using password: YES)"
     ]
    }
   ],
   "source": [
    "mydb= mysql.connector.connect(\n",
    "    host='localhost',\n",
    "    user='jinal',\n",
    "    password='jinal'\n",
    ")"
   ]
  },
  {
   "cell_type": "code",
   "execution_count": 135,
   "id": "1162575e-b83d-445d-a465-107efec113b3",
   "metadata": {},
   "outputs": [
    {
     "name": "stdout",
     "output_type": "stream",
     "text": [
      "/bin/bash: line 1: SHOW: command not found\n"
     ]
    }
   ],
   "source": [
    "!SHOW GRANTS FOR 'root'@'localhost';\n"
   ]
  },
  {
   "cell_type": "code",
   "execution_count": null,
   "id": "5d2e2d30-f093-460e-acb5-208815e04aa5",
   "metadata": {},
   "outputs": [],
   "source": [
    "sudo service mysql restart\n"
   ]
  },
  {
   "cell_type": "code",
   "execution_count": null,
   "id": "252a05ea-cde3-48e0-bb89-fddca111ccf3",
   "metadata": {},
   "outputs": [],
   "source": [
    "def nameage(name, age):\n",
    "    print('hi i am', name)\n",
    "    print('my age is ', age)\n",
    "\n",
    "nameage(name='jinal)"
   ]
  }
 ],
 "metadata": {
  "kernelspec": {
   "display_name": "Python 3 (ipykernel)",
   "language": "python",
   "name": "python3"
  },
  "language_info": {
   "codemirror_mode": {
    "name": "ipython",
    "version": 3
   },
   "file_extension": ".py",
   "mimetype": "text/x-python",
   "name": "python",
   "nbconvert_exporter": "python",
   "pygments_lexer": "ipython3",
   "version": "3.12.3"
  }
 },
 "nbformat": 4,
 "nbformat_minor": 5
}
