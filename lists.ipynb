{
 "cells": [
  {
   "cell_type": "code",
   "execution_count": 4,
   "id": "ccc0dac4-7aab-4822-9517-10299dee833b",
   "metadata": {},
   "outputs": [
    {
     "data": {
      "text/plain": [
       "[1, 4, 9, 16, 25]"
      ]
     },
     "execution_count": 4,
     "metadata": {},
     "output_type": "execute_result"
    }
   ],
   "source": [
    "s= [1,4,9,16,25]\n",
    "s"
   ]
  },
  {
   "cell_type": "code",
   "execution_count": null,
   "id": "90311d10-5bf8-4ded-9b40-8168c3f92434",
   "metadata": {},
   "outputs": [],
   "source": []
  },
  {
   "cell_type": "code",
   "execution_count": 5,
   "id": "a9266cea-cde4-491a-ad2a-103cffcf6913",
   "metadata": {},
   "outputs": [
    {
     "data": {
      "text/plain": [
       "1"
      ]
     },
     "execution_count": 5,
     "metadata": {},
     "output_type": "execute_result"
    }
   ],
   "source": [
    "s[0]\n"
   ]
  },
  {
   "cell_type": "code",
   "execution_count": 6,
   "id": "4149147d-f6dd-4a58-81bc-be00948dd078",
   "metadata": {},
   "outputs": [
    {
     "data": {
      "text/plain": [
       "25"
      ]
     },
     "execution_count": 6,
     "metadata": {},
     "output_type": "execute_result"
    }
   ],
   "source": [
    "s[-1]"
   ]
  },
  {
   "cell_type": "code",
   "execution_count": 7,
   "id": "c007a2ba-2440-41c6-99ca-8acc42a939d5",
   "metadata": {},
   "outputs": [
    {
     "data": {
      "text/plain": [
       "[9, 16, 25]"
      ]
     },
     "execution_count": 7,
     "metadata": {},
     "output_type": "execute_result"
    }
   ],
   "source": [
    "s[-3:]"
   ]
  },
  {
   "cell_type": "code",
   "execution_count": 8,
   "id": "901672c6-acdf-4212-8c9e-1ae836146ebb",
   "metadata": {},
   "outputs": [
    {
     "data": {
      "text/plain": [
       "[1, 4, 9, 16, 25, 32, 65, 87, 645, 43, 32, 21]"
      ]
     },
     "execution_count": 8,
     "metadata": {},
     "output_type": "execute_result"
    }
   ],
   "source": [
    "s + [32,65,87,645,43,32,21]"
   ]
  },
  {
   "cell_type": "code",
   "execution_count": 9,
   "id": "2fecf8bf-7d13-495c-8e02-4a305a7e9950",
   "metadata": {},
   "outputs": [],
   "source": [
    "cubes=[1,8,27,65,125]"
   ]
  },
  {
   "cell_type": "code",
   "execution_count": 10,
   "id": "1a9e7dab-6f0a-4496-8eac-8e311cfe1376",
   "metadata": {},
   "outputs": [],
   "source": [
    "cubes[3]=64"
   ]
  },
  {
   "cell_type": "code",
   "execution_count": 11,
   "id": "0eddec53-4496-403d-b6bf-46a344e91fda",
   "metadata": {},
   "outputs": [
    {
     "data": {
      "text/plain": [
       "[1, 8, 27, 64, 125]"
      ]
     },
     "execution_count": 11,
     "metadata": {},
     "output_type": "execute_result"
    }
   ],
   "source": [
    "cubes"
   ]
  },
  {
   "cell_type": "code",
   "execution_count": 12,
   "id": "cf0e1a67-2884-44d4-a467-2abe21a48505",
   "metadata": {},
   "outputs": [],
   "source": [
    "cubes.append(216)"
   ]
  },
  {
   "cell_type": "code",
   "execution_count": 14,
   "id": "e5e18b39-90e5-42cd-8ff1-999bce19fac2",
   "metadata": {},
   "outputs": [],
   "source": [
    "cubes.append(7**3)"
   ]
  },
  {
   "cell_type": "code",
   "execution_count": 15,
   "id": "51afb273-be6a-4069-8e63-e2d0aaa10c53",
   "metadata": {},
   "outputs": [
    {
     "data": {
      "text/plain": [
       "[1, 8, 27, 64, 125, 216, 343]"
      ]
     },
     "execution_count": 15,
     "metadata": {},
     "output_type": "execute_result"
    }
   ],
   "source": [
    "cubes"
   ]
  },
  {
   "cell_type": "code",
   "execution_count": 16,
   "id": "9f9b6405-4f0c-4966-abe1-ac8917c09d6f",
   "metadata": {},
   "outputs": [
    {
     "data": {
      "text/plain": [
       "True"
      ]
     },
     "execution_count": 16,
     "metadata": {},
     "output_type": "execute_result"
    }
   ],
   "source": [
    "rgb=['red' , 'green', 'blue']\n",
    "rgba=rgb\n",
    "id(rgb)==id(rgba)"
   ]
  },
  {
   "cell_type": "code",
   "execution_count": 17,
   "id": "6b3f24d4-381d-43d8-9f9c-f8a69e5b62b4",
   "metadata": {},
   "outputs": [],
   "source": [
    "rgba.append('aplha')"
   ]
  },
  {
   "cell_type": "code",
   "execution_count": 18,
   "id": "59f7ffe5-9eea-4c08-a0f6-1ff49af8458f",
   "metadata": {},
   "outputs": [
    {
     "data": {
      "text/plain": [
       "['red', 'green', 'blue', 'aplha']"
      ]
     },
     "execution_count": 18,
     "metadata": {},
     "output_type": "execute_result"
    }
   ],
   "source": [
    "rgba"
   ]
  },
  {
   "cell_type": "code",
   "execution_count": 19,
   "id": "f1a6d5df-66c1-499c-8bbc-4e59f6fa82c4",
   "metadata": {},
   "outputs": [
    {
     "data": {
      "text/plain": [
       "['red', 'green', 'blue', 'aplha']"
      ]
     },
     "execution_count": 19,
     "metadata": {},
     "output_type": "execute_result"
    }
   ],
   "source": [
    "rgb"
   ]
  },
  {
   "cell_type": "code",
   "execution_count": 20,
   "id": "f6dba839-a812-4ba5-9171-7cdaefce8750",
   "metadata": {},
   "outputs": [
    {
     "data": {
      "text/plain": [
       "['red', 'green', 'blue', 'aplha']"
      ]
     },
     "execution_count": 20,
     "metadata": {},
     "output_type": "execute_result"
    }
   ],
   "source": [
    "rgba[:]"
   ]
  },
  {
   "cell_type": "code",
   "execution_count": 21,
   "id": "2139f94a-5bc8-4650-8418-b252fc5cc29b",
   "metadata": {},
   "outputs": [
    {
     "data": {
      "text/plain": [
       "['green', 'blue', 'aplha']"
      ]
     },
     "execution_count": 21,
     "metadata": {},
     "output_type": "execute_result"
    }
   ],
   "source": [
    "rgba[1:]"
   ]
  },
  {
   "cell_type": "code",
   "execution_count": 26,
   "id": "bdddd095-bd68-45ed-b6d1-a038e2e62ba6",
   "metadata": {},
   "outputs": [
    {
     "data": {
      "text/plain": [
       "['aplha', 'green']"
      ]
     },
     "execution_count": 26,
     "metadata": {},
     "output_type": "execute_result"
    }
   ],
   "source": [
    "rgba[::-2]"
   ]
  },
  {
   "cell_type": "code",
   "execution_count": 27,
   "id": "9ac3cf78-1057-4969-914c-e3e9a24e2549",
   "metadata": {},
   "outputs": [
    {
     "data": {
      "text/plain": [
       "['a', 'b', 'c', 'd', 'e', 'f', 'g', 'h']"
      ]
     },
     "execution_count": 27,
     "metadata": {},
     "output_type": "execute_result"
    }
   ],
   "source": [
    "letters=['a', 'b', 'c', 'd', 'e', 'f', 'g', 'h']\n",
    "letters"
   ]
  },
  {
   "cell_type": "code",
   "execution_count": 28,
   "id": "a6c7a25a-f0cd-42a0-b595-eeccf2a14fb4",
   "metadata": {},
   "outputs": [
    {
     "data": {
      "text/plain": [
       "['c', 'd', 'e']"
      ]
     },
     "execution_count": 28,
     "metadata": {},
     "output_type": "execute_result"
    }
   ],
   "source": [
    "letters[2:5]"
   ]
  },
  {
   "cell_type": "code",
   "execution_count": 29,
   "id": "f0518620-1ea9-46c4-b8e5-ce40a54ba6ba",
   "metadata": {},
   "outputs": [],
   "source": [
    "letters[2:5]=['C', 'D', 'E']"
   ]
  },
  {
   "cell_type": "code",
   "execution_count": 30,
   "id": "8c66ca9b-048f-4556-8838-072d534bbaa4",
   "metadata": {},
   "outputs": [
    {
     "data": {
      "text/plain": [
       "['a', 'b', 'C', 'D', 'E', 'f', 'g', 'h']"
      ]
     },
     "execution_count": 30,
     "metadata": {},
     "output_type": "execute_result"
    }
   ],
   "source": [
    "letters"
   ]
  },
  {
   "cell_type": "code",
   "execution_count": 31,
   "id": "c81fc288-ee60-4d2c-8d33-2a7b3eec115d",
   "metadata": {},
   "outputs": [],
   "source": [
    "letters[2:5]=[]"
   ]
  },
  {
   "cell_type": "code",
   "execution_count": 32,
   "id": "ceaa2b8f-b455-4733-9969-7738551d1425",
   "metadata": {},
   "outputs": [
    {
     "data": {
      "text/plain": [
       "['a', 'b', 'f', 'g', 'h']"
      ]
     },
     "execution_count": 32,
     "metadata": {},
     "output_type": "execute_result"
    }
   ],
   "source": [
    "letters"
   ]
  },
  {
   "cell_type": "code",
   "execution_count": 33,
   "id": "cd0618d5-a1ee-4daa-a43d-3291cebffe69",
   "metadata": {},
   "outputs": [
    {
     "data": {
      "text/plain": [
       "['a', 'b', 'f', 'g', 'h']"
      ]
     },
     "execution_count": 33,
     "metadata": {},
     "output_type": "execute_result"
    }
   ],
   "source": [
    "letters[:]"
   ]
  },
  {
   "cell_type": "code",
   "execution_count": 34,
   "id": "9f66a2e8-5391-4f9c-a831-d7ceba4b90e5",
   "metadata": {},
   "outputs": [],
   "source": [
    "letters[:]=[]"
   ]
  },
  {
   "cell_type": "code",
   "execution_count": 35,
   "id": "23834c99-36e9-4c95-87e0-07c174090d87",
   "metadata": {},
   "outputs": [
    {
     "data": {
      "text/plain": [
       "[]"
      ]
     },
     "execution_count": 35,
     "metadata": {},
     "output_type": "execute_result"
    }
   ],
   "source": [
    "letters"
   ]
  },
  {
   "cell_type": "code",
   "execution_count": 37,
   "id": "f9abff0f-2989-424c-bd67-2b1a66d5baa7",
   "metadata": {},
   "outputs": [
    {
     "data": {
      "text/plain": [
       "4"
      ]
     },
     "execution_count": 37,
     "metadata": {},
     "output_type": "execute_result"
    }
   ],
   "source": [
    "letters=['a', 'b','c','d']\n",
    "len(letters)"
   ]
  },
  {
   "cell_type": "code",
   "execution_count": 38,
   "id": "eb21357b-39d5-4700-a842-123f5561acff",
   "metadata": {},
   "outputs": [],
   "source": [
    "a=['a', 'b', 'c']\n",
    "n=[1,2,3]\n",
    "x=[a,n]"
   ]
  },
  {
   "cell_type": "code",
   "execution_count": 39,
   "id": "55d40997-5b8f-45e5-8f99-ee31205c466a",
   "metadata": {},
   "outputs": [
    {
     "data": {
      "text/plain": [
       "[['a', 'b', 'c'], [1, 2, 3]]"
      ]
     },
     "execution_count": 39,
     "metadata": {},
     "output_type": "execute_result"
    }
   ],
   "source": [
    "x"
   ]
  },
  {
   "cell_type": "code",
   "execution_count": 40,
   "id": "b2e3162b-4678-42f4-9114-580d6d66a000",
   "metadata": {},
   "outputs": [
    {
     "data": {
      "text/plain": [
       "['a', 'b', 'c']"
      ]
     },
     "execution_count": 40,
     "metadata": {},
     "output_type": "execute_result"
    }
   ],
   "source": [
    "x[0]"
   ]
  },
  {
   "cell_type": "code",
   "execution_count": 41,
   "id": "aed9ce62-1dc2-4a65-ab8a-5c73de6fed9a",
   "metadata": {},
   "outputs": [
    {
     "data": {
      "text/plain": [
       "[1, 2, 3]"
      ]
     },
     "execution_count": 41,
     "metadata": {},
     "output_type": "execute_result"
    }
   ],
   "source": [
    "x[1]"
   ]
  },
  {
   "cell_type": "code",
   "execution_count": 42,
   "id": "01cde0b6-79ea-4b5d-a8e7-a0ada371d976",
   "metadata": {},
   "outputs": [
    {
     "data": {
      "text/plain": [
       "'b'"
      ]
     },
     "execution_count": 42,
     "metadata": {},
     "output_type": "execute_result"
    }
   ],
   "source": [
    "x[0][1]"
   ]
  },
  {
   "cell_type": "code",
   "execution_count": 43,
   "id": "155326b0-a53c-46cd-86f3-cd7bec12bfd6",
   "metadata": {},
   "outputs": [
    {
     "data": {
      "text/plain": [
       "2"
      ]
     },
     "execution_count": 43,
     "metadata": {},
     "output_type": "execute_result"
    }
   ],
   "source": [
    "x[1][1]"
   ]
  },
  {
   "cell_type": "code",
   "execution_count": 44,
   "id": "9a909adc-6b32-40c3-ab2c-8656b1d56485",
   "metadata": {},
   "outputs": [
    {
     "data": {
      "text/plain": [
       "'c'"
      ]
     },
     "execution_count": 44,
     "metadata": {},
     "output_type": "execute_result"
    }
   ],
   "source": [
    "x[0][2]"
   ]
  },
  {
   "cell_type": "code",
   "execution_count": 55,
   "id": "b90c4dcf-ec7a-4c3a-ad44-9e8a37b8ab52",
   "metadata": {},
   "outputs": [
    {
     "data": {
      "text/plain": [
       "['a', 'b', 'c', 'd']"
      ]
     },
     "execution_count": 55,
     "metadata": {},
     "output_type": "execute_result"
    }
   ],
   "source": [
    "letters[:]"
   ]
  },
  {
   "cell_type": "code",
   "execution_count": 51,
   "id": "2e9162fd-9298-46c0-b896-827d22f2bbf6",
   "metadata": {},
   "outputs": [
    {
     "data": {
      "text/plain": [
       "['a', 'b', 'c']"
      ]
     },
     "execution_count": 51,
     "metadata": {},
     "output_type": "execute_result"
    }
   ],
   "source": [
    "letters[-4:-1]"
   ]
  },
  {
   "cell_type": "code",
   "execution_count": 52,
   "id": "631b5a52-a0a0-4d44-902c-ca18c2134c9b",
   "metadata": {},
   "outputs": [
    {
     "data": {
      "text/plain": [
       "['b', 'c']"
      ]
     },
     "execution_count": 52,
     "metadata": {},
     "output_type": "execute_result"
    }
   ],
   "source": [
    "letters[-3:-1]"
   ]
  },
  {
   "cell_type": "code",
   "execution_count": 53,
   "id": "45abcfa5-48bc-4147-ae6a-9c435c3ba9a5",
   "metadata": {},
   "outputs": [
    {
     "data": {
      "text/plain": [
       "['d', 'c', 'b', 'a']"
      ]
     },
     "execution_count": 53,
     "metadata": {},
     "output_type": "execute_result"
    }
   ],
   "source": [
    "letters[::-1]"
   ]
  },
  {
   "cell_type": "code",
   "execution_count": 54,
   "id": "d0aa2aef-345e-4d57-9072-c33e7d33d382",
   "metadata": {},
   "outputs": [
    {
     "data": {
      "text/plain": [
       "['d']"
      ]
     },
     "execution_count": 54,
     "metadata": {},
     "output_type": "execute_result"
    }
   ],
   "source": [
    "letters[-1:]"
   ]
  },
  {
   "cell_type": "code",
   "execution_count": 56,
   "id": "734922fb-ca9d-42b5-8af8-e463bedb572e",
   "metadata": {},
   "outputs": [
    {
     "data": {
      "text/plain": [
       "['a', 'b', 'c']"
      ]
     },
     "execution_count": 56,
     "metadata": {},
     "output_type": "execute_result"
    }
   ],
   "source": [
    "letters[:-1]"
   ]
  },
  {
   "cell_type": "code",
   "execution_count": 58,
   "id": "8d434293-cc7b-48bd-a701-c7eb03294163",
   "metadata": {},
   "outputs": [
    {
     "name": "stdout",
     "output_type": "stream",
     "text": [
      "yes,it is\n"
     ]
    }
   ],
   "source": [
    "lt=['apple', 'banana', 'pineapple', 'grapes']\n",
    "if 'apple' in lt:\n",
    "    print('yes,it is')"
   ]
  },
  {
   "cell_type": "code",
   "execution_count": 59,
   "id": "b1d57a56-5e34-4da3-a105-0e3d730d9ac1",
   "metadata": {},
   "outputs": [
    {
     "data": {
      "text/plain": [
       "['apple', 'banana', 'pineapple', 'grapes']"
      ]
     },
     "execution_count": 59,
     "metadata": {},
     "output_type": "execute_result"
    }
   ],
   "source": [
    "lt"
   ]
  },
  {
   "cell_type": "code",
   "execution_count": 60,
   "id": "477d3e56-cd5a-41e6-b8a9-b1ddfd98626a",
   "metadata": {},
   "outputs": [],
   "source": [
    "lt[1:3]=['blackcurrent', 'orange']"
   ]
  },
  {
   "cell_type": "code",
   "execution_count": 61,
   "id": "8a754fce-f396-4596-bdb8-0ac8fa0a4f31",
   "metadata": {},
   "outputs": [
    {
     "data": {
      "text/plain": [
       "['apple', 'blackcurrent', 'orange', 'grapes']"
      ]
     },
     "execution_count": 61,
     "metadata": {},
     "output_type": "execute_result"
    }
   ],
   "source": [
    "lt"
   ]
  },
  {
   "cell_type": "code",
   "execution_count": 62,
   "id": "976484e9-0f07-4765-9a00-7b0e200ed28a",
   "metadata": {},
   "outputs": [
    {
     "data": {
      "text/plain": [
       "['apple', 'hello', 'dixit', 'orange', 'grapes']"
      ]
     },
     "execution_count": 62,
     "metadata": {},
     "output_type": "execute_result"
    }
   ],
   "source": [
    "lt[1:2]=['hello', 'dixit']\n",
    "lt"
   ]
  },
  {
   "cell_type": "code",
   "execution_count": 63,
   "id": "12efbfbb-aed2-42f5-92b6-458d9fe817b6",
   "metadata": {},
   "outputs": [
    {
     "data": {
      "text/plain": [
       "['apple', 'jinixit', 'orange', 'grapes']"
      ]
     },
     "execution_count": 63,
     "metadata": {},
     "output_type": "execute_result"
    }
   ],
   "source": [
    "lt[1:3]=['jinixit']\n",
    "lt"
   ]
  },
  {
   "cell_type": "code",
   "execution_count": 64,
   "id": "f86c1e59-1689-4762-bb55-475aca010e0e",
   "metadata": {},
   "outputs": [
    {
     "data": {
      "text/plain": [
       "['apple', 'jinixit', 'orange', 'grapes', 'jinal']"
      ]
     },
     "execution_count": 64,
     "metadata": {},
     "output_type": "execute_result"
    }
   ],
   "source": [
    "lt.append('jinal')\n",
    "lt"
   ]
  },
  {
   "cell_type": "code",
   "execution_count": 65,
   "id": "ace1112d-c239-4b57-8a92-497274aec683",
   "metadata": {},
   "outputs": [],
   "source": [
    "lt.insert(2,66)"
   ]
  },
  {
   "cell_type": "code",
   "execution_count": 66,
   "id": "8fc80740-4254-434a-bf94-92f7b4abbf13",
   "metadata": {},
   "outputs": [
    {
     "data": {
      "text/plain": [
       "['apple', 'jinixit', 66, 'orange', 'grapes', 'jinal']"
      ]
     },
     "execution_count": 66,
     "metadata": {},
     "output_type": "execute_result"
    }
   ],
   "source": [
    "lt"
   ]
  },
  {
   "cell_type": "code",
   "execution_count": 67,
   "id": "5e3192c0-ed66-4125-853f-5d0b59f44c60",
   "metadata": {},
   "outputs": [],
   "source": [
    "mn=[12,23,34]\n",
    "lt.extend(mn)"
   ]
  },
  {
   "cell_type": "code",
   "execution_count": 69,
   "id": "9da09dd7-63b7-4183-930d-03188a59faf0",
   "metadata": {},
   "outputs": [
    {
     "data": {
      "text/plain": [
       "['apple', 'jinixit', 66, 'orange', 'grapes', 'jinal', 12, 23, 34]"
      ]
     },
     "execution_count": 69,
     "metadata": {},
     "output_type": "execute_result"
    }
   ],
   "source": [
    "lt"
   ]
  },
  {
   "cell_type": "code",
   "execution_count": 71,
   "id": "3649da6f-b873-492f-9434-543d42ad373b",
   "metadata": {},
   "outputs": [],
   "source": [
    "lt.remove(66)"
   ]
  },
  {
   "cell_type": "code",
   "execution_count": 72,
   "id": "c6fbcc1e-ad0c-4269-ae77-9d3cfb1046a4",
   "metadata": {},
   "outputs": [
    {
     "data": {
      "text/plain": [
       "['apple', 'jinixit', 'orange', 'grapes', 'jinal', 12, 23, 34]"
      ]
     },
     "execution_count": 72,
     "metadata": {},
     "output_type": "execute_result"
    }
   ],
   "source": [
    "lt"
   ]
  },
  {
   "cell_type": "code",
   "execution_count": 73,
   "id": "feb62cd1-8dfb-48c0-8d1c-59805d7f1a83",
   "metadata": {},
   "outputs": [
    {
     "data": {
      "text/plain": [
       "'jinixit'"
      ]
     },
     "execution_count": 73,
     "metadata": {},
     "output_type": "execute_result"
    }
   ],
   "source": [
    "lt.pop(1)"
   ]
  },
  {
   "cell_type": "code",
   "execution_count": 74,
   "id": "c2532998-c19d-42e7-85ca-c8794f1e4012",
   "metadata": {},
   "outputs": [
    {
     "data": {
      "text/plain": [
       "['apple', 'orange', 'grapes', 'jinal', 12, 23, 34]"
      ]
     },
     "execution_count": 74,
     "metadata": {},
     "output_type": "execute_result"
    }
   ],
   "source": [
    "lt"
   ]
  },
  {
   "cell_type": "code",
   "execution_count": 75,
   "id": "b5153633-602c-4c7e-bffb-079704e3c20a",
   "metadata": {},
   "outputs": [
    {
     "data": {
      "text/plain": [
       "34"
      ]
     },
     "execution_count": 75,
     "metadata": {},
     "output_type": "execute_result"
    }
   ],
   "source": [
    "lt.pop()"
   ]
  },
  {
   "cell_type": "code",
   "execution_count": 77,
   "id": "82b44460-4f92-48f9-a94e-4cb65be9916b",
   "metadata": {},
   "outputs": [
    {
     "data": {
      "text/plain": [
       "['apple', 'orange', 'grapes', 'jinal', 12, 23]"
      ]
     },
     "execution_count": 77,
     "metadata": {},
     "output_type": "execute_result"
    }
   ],
   "source": [
    "lt"
   ]
  },
  {
   "cell_type": "code",
   "execution_count": 78,
   "id": "fcb54937-fb42-43f8-a803-7b71da08cd3a",
   "metadata": {},
   "outputs": [],
   "source": [
    "del lt[4]"
   ]
  },
  {
   "cell_type": "code",
   "execution_count": 79,
   "id": "edec3174-e960-44f6-9bfc-666a784de5a4",
   "metadata": {},
   "outputs": [
    {
     "data": {
      "text/plain": [
       "['apple', 'orange', 'grapes', 'jinal', 23]"
      ]
     },
     "execution_count": 79,
     "metadata": {},
     "output_type": "execute_result"
    }
   ],
   "source": [
    "lt"
   ]
  },
  {
   "cell_type": "code",
   "execution_count": 80,
   "id": "486874d8-c454-4e6e-bc31-4454f55a8f58",
   "metadata": {},
   "outputs": [],
   "source": [
    "del  lt"
   ]
  },
  {
   "cell_type": "code",
   "execution_count": 82,
   "id": "4691cb40-1c45-45c8-bb2a-d9381fc039e1",
   "metadata": {},
   "outputs": [],
   "source": [
    "lt=[1,2,3,4,5]"
   ]
  },
  {
   "cell_type": "code",
   "execution_count": 83,
   "id": "f778a3d7-55c8-49bc-8350-b938995f2dd9",
   "metadata": {},
   "outputs": [
    {
     "data": {
      "text/plain": [
       "[1, 2, 3, 4, 5]"
      ]
     },
     "execution_count": 83,
     "metadata": {},
     "output_type": "execute_result"
    }
   ],
   "source": [
    "lt"
   ]
  },
  {
   "cell_type": "code",
   "execution_count": 84,
   "id": "00da0d5d-b735-4abc-bb0a-aab3b91c7689",
   "metadata": {},
   "outputs": [],
   "source": [
    "lt.clear()"
   ]
  },
  {
   "cell_type": "code",
   "execution_count": 85,
   "id": "352fe1fc-f65c-4666-93e4-b078eabc6875",
   "metadata": {},
   "outputs": [
    {
     "data": {
      "text/plain": [
       "[]"
      ]
     },
     "execution_count": 85,
     "metadata": {},
     "output_type": "execute_result"
    }
   ],
   "source": [
    "lt"
   ]
  },
  {
   "cell_type": "code",
   "execution_count": 87,
   "id": "6d9264b9-8ef5-41f7-9d9b-c6cce5557d17",
   "metadata": {},
   "outputs": [
    {
     "name": "stdout",
     "output_type": "stream",
     "text": [
      "jinal\n",
      "ekta\n",
      "hina\n",
      "rutvik\n",
      "dixit\n"
     ]
    }
   ],
   "source": [
    "lt=['jinal', 'ekta', 'hina', 'rutvik', 'dixit']\n",
    "for x in lt:\n",
    "    print(x)"
   ]
  },
  {
   "cell_type": "code",
   "execution_count": 88,
   "id": "b181b805-62cb-45a5-b8bc-c8956105bac4",
   "metadata": {},
   "outputs": [
    {
     "data": {
      "text/plain": [
       "['jinal', 'ekta', 'hina', 'rutvik', 'dixit']"
      ]
     },
     "execution_count": 88,
     "metadata": {},
     "output_type": "execute_result"
    }
   ],
   "source": [
    "lt"
   ]
  },
  {
   "cell_type": "code",
   "execution_count": 89,
   "id": "54a8b0b2-cff7-44d4-a3c8-0b94bbceee38",
   "metadata": {},
   "outputs": [
    {
     "name": "stdout",
     "output_type": "stream",
     "text": [
      "jinal\n",
      "ekta\n",
      "hina\n",
      "rutvik\n",
      "dixit\n"
     ]
    }
   ],
   "source": [
    "for i in range(len(lt)):\n",
    "    print(lt[i])"
   ]
  },
  {
   "cell_type": "code",
   "execution_count": 90,
   "id": "14f61bce-a377-4047-8661-95f0d15fef6a",
   "metadata": {},
   "outputs": [
    {
     "data": {
      "text/plain": [
       "['jinal', 'ekta', 'hina', 'rutvik', 'dixit']"
      ]
     },
     "execution_count": 90,
     "metadata": {},
     "output_type": "execute_result"
    }
   ],
   "source": [
    "lt"
   ]
  },
  {
   "cell_type": "code",
   "execution_count": 91,
   "id": "d357a6c8-15b4-46aa-96df-26bb0f791c77",
   "metadata": {},
   "outputs": [
    {
     "name": "stdout",
     "output_type": "stream",
     "text": [
      "jinal\n",
      "ekta\n",
      "hina\n",
      "rutvik\n",
      "dixit\n"
     ]
    }
   ],
   "source": [
    "m=[print(x) for x in lt]"
   ]
  },
  {
   "cell_type": "code",
   "execution_count": 93,
   "id": "1e15d356-b33c-4c84-83d7-f02832d0e4ab",
   "metadata": {},
   "outputs": [
    {
     "name": "stdout",
     "output_type": "stream",
     "text": [
      "j\n",
      "e\n",
      "h\n",
      "r\n",
      "d\n"
     ]
    }
   ],
   "source": [
    "m=[print(x[0]) for x in lt]"
   ]
  },
  {
   "cell_type": "code",
   "execution_count": 97,
   "id": "e7b412e2-3244-4c7d-9371-1c2894df9bfe",
   "metadata": {},
   "outputs": [
    {
     "name": "stdin",
     "output_type": "stream",
     "text": [
      "enter any integer 20\n"
     ]
    }
   ],
   "source": [
    "n=int(input('enter any integer'))\n",
    "m=[n,'is','even' if n%2==0  else 'oddd' ]"
   ]
  },
  {
   "cell_type": "code",
   "execution_count": 98,
   "id": "dcdbd92f-1ad5-4eb9-b96f-fda78d717e57",
   "metadata": {},
   "outputs": [
    {
     "name": "stdout",
     "output_type": "stream",
     "text": [
      "1\n",
      "2\n",
      "3\n",
      "4\n",
      "5\n",
      "6\n",
      "7\n",
      "8\n",
      "9\n"
     ]
    }
   ],
   "source": [
    "for i in range(1,10):\n",
    "    print(i)"
   ]
  },
  {
   "cell_type": "code",
   "execution_count": 100,
   "id": "fc5bb1ec-26f0-4448-8e26-de215e0d3137",
   "metadata": {},
   "outputs": [
    {
     "name": "stdout",
     "output_type": "stream",
     "text": [
      "2\n",
      "4\n",
      "6\n",
      "8\n",
      "10\n"
     ]
    }
   ],
   "source": [
    "for i in range(1,11):\n",
    "    if i%2==0:\n",
    "        print(i)\n",
    "        continue"
   ]
  },
  {
   "cell_type": "code",
   "execution_count": 102,
   "id": "7cef300a-1107-485e-bbe6-472c4bf2741e",
   "metadata": {},
   "outputs": [
    {
     "name": "stdout",
     "output_type": "stream",
     "text": [
      "1\n",
      "3\n",
      "5\n",
      "7\n",
      "9\n"
     ]
    }
   ],
   "source": [
    "for i in range(1,11):\n",
    "    if i%2!=0:\n",
    "        print(i)\n",
    "        continue"
   ]
  },
  {
   "cell_type": "code",
   "execution_count": 111,
   "id": "3858b479-9a5c-49ca-8217-44efda24adb1",
   "metadata": {},
   "outputs": [
    {
     "name": "stdout",
     "output_type": "stream",
     "text": [
      "1\n",
      "2\n",
      "3\n",
      "4\n",
      "5\n",
      "6\n",
      "7\n",
      "8\n"
     ]
    }
   ],
   "source": [
    "for i in range(1,15):\n",
    "    if i==9:\n",
    "        break\n",
    "    print(i)"
   ]
  },
  {
   "cell_type": "code",
   "execution_count": 112,
   "id": "9760f430-f734-4894-a945-5b11e3ae9fd1",
   "metadata": {},
   "outputs": [
    {
     "name": "stdout",
     "output_type": "stream",
     "text": [
      "['banana', 'apple', 'mango']\n"
     ]
    }
   ],
   "source": [
    "fruits=['banana', 'apple', 'cherry', 'kiwi', 'mango']\n",
    "newlist=[]\n",
    "\n",
    "for x in fruits:\n",
    "    if 'a' in x:\n",
    "        newlist.append(x)\n",
    "\n",
    "print(newlist)"
   ]
  },
  {
   "cell_type": "code",
   "execution_count": 113,
   "id": "cd2921f4-7a57-4958-bb65-676c541eb868",
   "metadata": {},
   "outputs": [
    {
     "data": {
      "text/plain": [
       "['banana', 'apple', 'cherry', 'kiwi', 'mango']"
      ]
     },
     "execution_count": 113,
     "metadata": {},
     "output_type": "execute_result"
    }
   ],
   "source": [
    "fruits"
   ]
  },
  {
   "cell_type": "code",
   "execution_count": 116,
   "id": "2ef0a91a-0ac9-4613-8d07-0d117755d37e",
   "metadata": {},
   "outputs": [
    {
     "name": "stdout",
     "output_type": "stream",
     "text": [
      "['apple', 'cherry']\n"
     ]
    }
   ],
   "source": [
    "newlist=[x for x in fruits if 'e' in x]\n",
    "print(newlist)"
   ]
  },
  {
   "cell_type": "code",
   "execution_count": 117,
   "id": "b3e26143-6e67-4bf6-9705-a35a1b2d84c8",
   "metadata": {},
   "outputs": [
    {
     "data": {
      "text/plain": [
       "[5, 6, 7, 8, 9]"
      ]
     },
     "execution_count": 117,
     "metadata": {},
     "output_type": "execute_result"
    }
   ],
   "source": [
    "list(range(5,10))"
   ]
  },
  {
   "cell_type": "code",
   "execution_count": 118,
   "id": "bba5862f-8f70-42ac-acaa-4ff883ab49fa",
   "metadata": {},
   "outputs": [
    {
     "data": {
      "text/plain": [
       "[0, 3, 6, 9]"
      ]
     },
     "execution_count": 118,
     "metadata": {},
     "output_type": "execute_result"
    }
   ],
   "source": [
    "list(range(0,10,3))"
   ]
  },
  {
   "cell_type": "code",
   "execution_count": 119,
   "id": "a7b941c1-097d-400e-a588-7a20103b553c",
   "metadata": {},
   "outputs": [
    {
     "data": {
      "text/plain": [
       "[-10, -40, -70]"
      ]
     },
     "execution_count": 119,
     "metadata": {},
     "output_type": "execute_result"
    }
   ],
   "source": [
    "list(range(-10,-100,-30))"
   ]
  },
  {
   "cell_type": "code",
   "execution_count": 120,
   "id": "f6d52e8b-92d6-41c8-b782-7682b786d7c1",
   "metadata": {},
   "outputs": [
    {
     "data": {
      "text/plain": [
       "['banana', 'apple', 'cherry', 'kiwi', 'mango']"
      ]
     },
     "execution_count": 120,
     "metadata": {},
     "output_type": "execute_result"
    }
   ],
   "source": [
    "fruits"
   ]
  },
  {
   "cell_type": "code",
   "execution_count": 125,
   "id": "e7b5709b-ca56-4928-aa07-b1f183fd0271",
   "metadata": {},
   "outputs": [
    {
     "name": "stdout",
     "output_type": "stream",
     "text": [
      "0 banana\n",
      "1 apple\n",
      "2 cherry\n",
      "3 kiwi\n",
      "4 mango\n"
     ]
    }
   ],
   "source": [
    "for i in range(len(fruits)):\n",
    "    print(i,fruits[i])"
   ]
  },
  {
   "cell_type": "code",
   "execution_count": 128,
   "id": "5feb8c30-3f49-4c26-a3f1-f490d65cf46f",
   "metadata": {},
   "outputs": [
    {
     "name": "stdout",
     "output_type": "stream",
     "text": [
      "2 even number\n",
      "3 odd number\n",
      "4 even number\n",
      "5 odd number\n",
      "6 even number\n",
      "7 odd number\n",
      "8 even number\n",
      "9 odd number\n",
      "10 even number\n",
      "11 odd number\n",
      "12 even number\n",
      "13 odd number\n",
      "14 even number\n",
      "15 odd number\n",
      "16 even number\n",
      "17 odd number\n",
      "18 even number\n",
      "19 odd number\n",
      "20 even number\n",
      "21 odd number\n",
      "22 even number\n",
      "23 odd number\n",
      "24 even number\n",
      "25 odd number\n",
      "26 even number\n",
      "27 odd number\n",
      "28 even number\n",
      "29 odd number\n",
      "30 even number\n",
      "31 odd number\n",
      "32 even number\n",
      "33 odd number\n",
      "34 even number\n",
      "35 odd number\n",
      "36 even number\n",
      "37 odd number\n",
      "38 even number\n",
      "39 odd number\n",
      "40 even number\n",
      "41 odd number\n",
      "42 even number\n",
      "43 odd number\n",
      "44 even number\n",
      "45 odd number\n",
      "46 even number\n",
      "47 odd number\n",
      "48 even number\n",
      "49 odd number\n"
     ]
    }
   ],
   "source": [
    "for num in range(2,50):\n",
    "    if num %2==0:\n",
    "        print(num, 'even number')\n",
    "        continue\n",
    "    print(num,'odd number')"
   ]
  },
  {
   "cell_type": "code",
   "execution_count": 129,
   "id": "b1a00a38-fe65-4755-9b52-8fea0d7c1f39",
   "metadata": {},
   "outputs": [
    {
     "name": "stdout",
     "output_type": "stream",
     "text": [
      "[24, 35, 9, 56, 12]\n"
     ]
    }
   ],
   "source": [
    "#python program to interchange first elementrs and last elements\n",
    "\n",
    "\n",
    "n=[12,35,9,56,24]\n",
    "\n",
    "def swaplist(n):\n",
    "    temp=n[0]\n",
    "    n[0]=n[-1]\n",
    "    n[-1]=temp\n",
    "\n",
    "    return n\n",
    "\n",
    "\n",
    "print(swaplist(n))\n"
   ]
  },
  {
   "cell_type": "code",
   "execution_count": 131,
   "id": "3d865524-e5ab-4f43-974c-69e176398e07",
   "metadata": {},
   "outputs": [
    {
     "name": "stdout",
     "output_type": "stream",
     "text": [
      "[23, 12, 45, 567, 678]\n"
     ]
    }
   ],
   "source": [
    "#Python program to swap two elements in a list\n",
    "\n",
    "\n",
    "n=[12,23,45,567,678]\n",
    "\n",
    "def swap(n):\n",
    "    n[0],n[1]=n[1],n[0]\n",
    "    return n\n",
    "\n",
    "print(swap(n))\n",
    "\n",
    "\n",
    "\n"
   ]
  },
  {
   "cell_type": "code",
   "execution_count": 133,
   "id": "e7dfba8c-a4ba-4ba5-b181-c8c076aaa9b1",
   "metadata": {},
   "outputs": [
    {
     "name": "stdout",
     "output_type": "stream",
     "text": [
      "8\n"
     ]
    }
   ],
   "source": [
    "# python| ways to find length of list\n",
    "\n",
    "n=[23,43,54,65,64,34,32,32]\n",
    "\n",
    "print(len(n))\n"
   ]
  },
  {
   "cell_type": "code",
   "execution_count": 134,
   "id": "f9ea63f1-8e5b-4690-a6fc-55c6e69e7d1e",
   "metadata": {},
   "outputs": [
    {
     "name": "stdout",
     "output_type": "stream",
     "text": [
      "90\n"
     ]
    }
   ],
   "source": [
    "#Python program to find the\n",
    "# maximum of two numbers\n",
    "\n",
    "\n",
    "def max_number(a,b):\n",
    "    if a>b:\n",
    "        return a\n",
    "    else:\n",
    "        return b\n",
    "\n",
    "a=9\n",
    "b=90\n",
    "print(max_number(a,b))"
   ]
  },
  {
   "cell_type": "code",
   "execution_count": 135,
   "id": "01a1aa90-3095-4bdc-971d-17df63b939c8",
   "metadata": {},
   "outputs": [
    {
     "name": "stdout",
     "output_type": "stream",
     "text": [
      "43\n"
     ]
    }
   ],
   "source": [
    "n=max(23,43)\n",
    "print(n)"
   ]
  },
  {
   "cell_type": "code",
   "execution_count": 139,
   "id": "21c187a1-fb70-4a33-9f4c-cfb05d7f6e09",
   "metadata": {},
   "outputs": [
    {
     "name": "stdout",
     "output_type": "stream",
     "text": [
      "[78]\n"
     ]
    }
   ],
   "source": [
    "a=78\n",
    "b=70\n",
    "\n",
    "n=[ a if a>b else b]\n",
    "print(n)"
   ]
  },
  {
   "cell_type": "code",
   "execution_count": 141,
   "id": "bdf868b0-4ece-49b2-b758-301e64d81f72",
   "metadata": {},
   "outputs": [
    {
     "data": {
      "text/plain": [
       "[23, 43]"
      ]
     },
     "execution_count": 141,
     "metadata": {},
     "output_type": "execute_result"
    }
   ],
   "source": [
    "x=[23,43]\n",
    "x.sort()\n",
    "x"
   ]
  },
  {
   "cell_type": "code",
   "execution_count": 142,
   "id": "eab74ba2-ded9-4445-be32-f8ddb4c090f6",
   "metadata": {},
   "outputs": [
    {
     "data": {
      "text/plain": [
       "43"
      ]
     },
     "execution_count": 142,
     "metadata": {},
     "output_type": "execute_result"
    }
   ],
   "source": [
    "x[-1]"
   ]
  },
  {
   "cell_type": "code",
   "execution_count": 146,
   "id": "46d66b33-a17a-4d4a-a3aa-6d40d1127367",
   "metadata": {},
   "outputs": [],
   "source": [
    "import datetime\n",
    "\n",
    "n=datetime.datetime.now()"
   ]
  },
  {
   "cell_type": "code",
   "execution_count": 147,
   "id": "6a1ea45e-ca47-4c77-ad67-a504383f80d5",
   "metadata": {},
   "outputs": [
    {
     "name": "stdout",
     "output_type": "stream",
     "text": [
      "2024-05-02 12:22:22.973650\n"
     ]
    }
   ],
   "source": [
    "print(n)"
   ]
  },
  {
   "cell_type": "code",
   "execution_count": 149,
   "id": "eb1cbd90-5aed-41ee-81f6-d52a233d8999",
   "metadata": {},
   "outputs": [
    {
     "name": "stdin",
     "output_type": "stream",
     "text": [
      "enter radius of circle :  21\n"
     ]
    },
    {
     "name": "stdout",
     "output_type": "stream",
     "text": [
      "1385.4423602331901\n"
     ]
    }
   ],
   "source": [
    "r=int(input('enter radius of circle : '))\n",
    "\n",
    "def area_circle(r):\n",
    "    area= 3.14159265359 * r *r\n",
    "    return area\n",
    "\n",
    "print(area_circle(r))"
   ]
  },
  {
   "cell_type": "code",
   "execution_count": 150,
   "id": "fe113e48-4c75-440a-b1bc-9fa0b860e684",
   "metadata": {},
   "outputs": [
    {
     "name": "stdin",
     "output_type": "stream",
     "text": [
      "enter your first name :  jinal\n",
      "enter your last name :  lathiya\n"
     ]
    },
    {
     "name": "stdout",
     "output_type": "stream",
     "text": [
      "lathiya jinal\n"
     ]
    }
   ],
   "source": [
    "#Write a Python program that accepts the user's first and last name and prints them in reverse order with a space between them.\n",
    "\n",
    "\n",
    "\n",
    "first=input('enter your first name : ')\n",
    "last=input('enter your last name : ')\n",
    "\n",
    "name= last + ' ' + first\n",
    "print(name)"
   ]
  },
  {
   "cell_type": "code",
   "execution_count": 154,
   "id": "2bbcdf04-bb2c-4900-aab2-0c56cce5c691",
   "metadata": {},
   "outputs": [
    {
     "name": "stdout",
     "output_type": "stream",
     "text": [
      "('Red', 'Black')\n"
     ]
    }
   ],
   "source": [
    "#Write a Python program to display the first and last colors from the following list.\n",
    "color_list = [\"Red\",\"Green\",\"White\" ,\"Black\"]\n",
    "\n",
    "m=color_list[0],color_list[-1]\n",
    "print(m)"
   ]
  },
  {
   "cell_type": "code",
   "execution_count": 160,
   "id": "f5236996-3e36-456b-98d0-eee752dcb59f",
   "metadata": {},
   "outputs": [
    {
     "name": "stdout",
     "output_type": "stream",
     "text": [
      "hello world\n"
     ]
    }
   ],
   "source": [
    "def func():\n",
    "    print('hello world')\n",
    "\n",
    "func()"
   ]
  },
  {
   "cell_type": "code",
   "execution_count": 161,
   "id": "15380f5c-8615-42a4-94cc-dccccaacf289",
   "metadata": {},
   "outputs": [
    {
     "name": "stdout",
     "output_type": "stream",
     "text": [
      "5\n"
     ]
    }
   ],
   "source": [
    "def fun1(num1,num2):\n",
    "    print(num1 + num2)\n",
    "\n",
    "fun1(2,3)"
   ]
  },
  {
   "cell_type": "code",
   "execution_count": 168,
   "id": "4123cef3-a255-4fd8-b7f2-689a8b396f07",
   "metadata": {},
   "outputs": [
    {
     "name": "stdin",
     "output_type": "stream",
     "text": [
      "enter any string or integer 121\n"
     ]
    },
    {
     "name": "stdout",
     "output_type": "stream",
     "text": [
      "121 it is plaindrome\n"
     ]
    }
   ],
   "source": [
    "def palindrome(n):\n",
    "    return n==n[::-1]\n",
    "\n",
    "n=input('enter any string or integer')\n",
    "\n",
    "if palindrome(n):\n",
    "    print(f'{n} it is plaindrome')\n",
    "else:\n",
    "    print(f'{n} its not plaindrome')"
   ]
  },
  {
   "cell_type": "code",
   "execution_count": 174,
   "id": "6a7e8134-935e-44e4-8fca-e200f6a53c50",
   "metadata": {},
   "outputs": [
    {
     "name": "stdin",
     "output_type": "stream",
     "text": [
      "enter any integer 2\n"
     ]
    },
    {
     "name": "stdout",
     "output_type": "stream",
     "text": [
      "it is prime number\n"
     ]
    }
   ],
   "source": [
    "def primenumber(n):\n",
    "    if n>1:\n",
    "        for i in range(2,(n//2)+1):\n",
    "            if n%i==0:\n",
    "                print('not prime number')\n",
    "                break\n",
    "        else:\n",
    "            print('it is prime number')\n",
    "    else:\n",
    "        print('its not prime number')\n",
    "\n",
    "n=int(input('enter any integer'))\n",
    "primenumber(n)"
   ]
  },
  {
   "cell_type": "code",
   "execution_count": 194,
   "id": "047181f6-586a-485d-a093-f51deeaa4f5d",
   "metadata": {},
   "outputs": [
    {
     "name": "stdout",
     "output_type": "stream",
     "text": [
      "2002 ,2009 ,2016 ,2023 ,2037 ,2044 ,2051 ,2058 ,2072 ,2079 ,2086 ,2093 ,2107 ,2114 ,2121 ,2128 ,2142 ,2149 ,2156 ,2163 ,2177 ,2184 ,2191 ,2198 ,2212 ,2219 ,2226 ,2233 ,2247 ,2254 ,2261 ,2268 ,2282 ,2289 ,2296 ,2303 ,2317 ,2324 ,2331 ,2338 ,2352 ,2359 ,2366 ,2373 ,2387 ,2394 ,2401 ,2408 ,2422 ,2429 ,2436 ,2443 ,2457 ,2464 ,2471 ,2478 ,2492 ,2499 ,2506 ,2513 ,2527 ,2534 ,2541 ,2548 ,2562 ,2569 ,2576 ,2583 ,2597 ,2604 ,2611 ,2618 ,2632 ,2639 ,2646 ,2653 ,2667 ,2674 ,2681 ,2688 ,2702 ,2709 ,2716 ,2723 ,2737 ,2744 ,2751 ,2758 ,2772 ,2779 ,2786 ,2793 ,2807 ,2814 ,2821 ,2828 ,2842 ,2849 ,2856 ,2863 ,2877 ,2884 ,2891 ,2898 ,2912 ,2919 ,2926 ,2933 ,2947 ,2954 ,2961 ,2968 ,2982 ,2989 ,2996 ,3003 ,3017 ,3024 ,3031 ,3038 ,3052 ,3059 ,3066 ,3073 ,3087 ,3094 ,3101 ,3108 ,3122 ,3129 ,3136 ,3143 ,3157 ,3164 ,3171 ,3178 ,3192 ,3199 ,"
     ]
    }
   ],
   "source": [
    "'''Write a program which will find all such numbers which are divisible by 7 but are not a multiple of 5,\n",
    "between 2000 and 3200 (both included).\n",
    "The numbers obtained should be printed in a comma-separated sequence on a single line.'''\n",
    "\n",
    "\n",
    "for i  in range(2000,3200):\n",
    "    if i%7==0 and i%5!=0:\n",
    "        print(i, end= ' ,')"
   ]
  },
  {
   "cell_type": "code",
   "execution_count": 191,
   "id": "a23b955e-9be9-462a-9256-d665e205a8d8",
   "metadata": {},
   "outputs": [
    {
     "name": "stdin",
     "output_type": "stream",
     "text": [
      "enter any integer to know the factorial 9\n"
     ]
    },
    {
     "data": {
      "text/plain": [
       "362880"
      ]
     },
     "execution_count": 191,
     "metadata": {},
     "output_type": "execute_result"
    }
   ],
   "source": [
    "'''Write a program which can compute the factorial of a given numbers.\n",
    "The results should be printed in a comma-separated sequence on a single line.\n",
    "Suppose the following input is supplied to the program:\n",
    "8\n",
    "Then, the output should be:\n",
    "40320'''\n",
    "\n",
    "\n",
    "n=int(input('enter any integer to know the factorial'))\n",
    "\n",
    "def factorial(n):\n",
    "    fact=1\n",
    "    for i in range(1,n+1):\n",
    "        fact*=i\n",
    "    return fact\n",
    "\n",
    "factorial(n)\n",
    "\n"
   ]
  },
  {
   "cell_type": "code",
   "execution_count": 200,
   "id": "0c38ac63-9f28-4f1a-a70b-0b36cf4c9060",
   "metadata": {},
   "outputs": [
    {
     "name": "stdout",
     "output_type": "stream",
     "text": [
      "('cat', 'dog')\n"
     ]
    }
   ],
   "source": [
    "animals=('cat', 'dog', 'elephant', 'goat', 'donkey')\n",
    "print(animals[:2])"
   ]
  },
  {
   "cell_type": "code",
   "execution_count": 201,
   "id": "2dd21760-fd35-4b56-baf7-16b26ce46980",
   "metadata": {},
   "outputs": [
    {
     "name": "stdout",
     "output_type": "stream",
     "text": [
      "('cat', 'elephant', 'donkey')\n"
     ]
    }
   ],
   "source": [
    "print(animals[::2])"
   ]
  },
  {
   "cell_type": "code",
   "execution_count": 203,
   "id": "b714ffb6-1e1a-46f4-bed8-e36efaaf4a25",
   "metadata": {},
   "outputs": [],
   "source": [
    "country=('india', 'italy', 'spain', 'china')\n",
    "l=list(country)\n",
    "l.append('jinal')"
   ]
  },
  {
   "cell_type": "code",
   "execution_count": 204,
   "id": "df1c831c-7547-4c74-8617-00b2feff58a2",
   "metadata": {},
   "outputs": [
    {
     "data": {
      "text/plain": [
       "['india', 'italy', 'spain', 'china', 'jinal']"
      ]
     },
     "execution_count": 204,
     "metadata": {},
     "output_type": "execute_result"
    }
   ],
   "source": [
    "l"
   ]
  },
  {
   "cell_type": "code",
   "execution_count": 205,
   "id": "f092ecc0-49c7-40cb-9d38-5db233bc5614",
   "metadata": {},
   "outputs": [],
   "source": [
    "countries=tuple(l)"
   ]
  },
  {
   "cell_type": "code",
   "execution_count": 206,
   "id": "cca7e559-0c36-44da-bd48-ece0aff5621d",
   "metadata": {},
   "outputs": [
    {
     "data": {
      "text/plain": [
       "('india', 'italy', 'spain', 'china', 'jinal')"
      ]
     },
     "execution_count": 206,
     "metadata": {},
     "output_type": "execute_result"
    }
   ],
   "source": [
    "countries"
   ]
  },
  {
   "cell_type": "code",
   "execution_count": 208,
   "id": "a33d0d9d-c782-4d49-9ff7-7be7646fe105",
   "metadata": {},
   "outputs": [
    {
     "data": {
      "text/plain": [
       "{12, 32, 4.5, '89h', 'jinal'}"
      ]
     },
     "execution_count": 208,
     "metadata": {},
     "output_type": "execute_result"
    }
   ],
   "source": [
    "info={12,'jinal', '89h', 4.5,12, 32}\n",
    "info"
   ]
  },
  {
   "cell_type": "code",
   "execution_count": 209,
   "id": "a9d86d19-04a3-402b-81d1-95c6a2af27ee",
   "metadata": {},
   "outputs": [
    {
     "name": "stdout",
     "output_type": "stream",
     "text": [
      "32\n",
      "4.5\n",
      "89h\n",
      "jinal\n",
      "12\n"
     ]
    }
   ],
   "source": [
    "for i in info:\n",
    "    print(i)"
   ]
  },
  {
   "cell_type": "code",
   "execution_count": 210,
   "id": "369f8b08-5014-468c-816f-689206125c20",
   "metadata": {},
   "outputs": [
    {
     "data": {
      "text/plain": [
       "{'ahemedabad', 'berlin', 'bhavnagar', 'surat', 'tokyo'}"
      ]
     },
     "execution_count": 210,
     "metadata": {},
     "output_type": "execute_result"
    }
   ],
   "source": [
    "city={'bhavnagar', 'ahemedabad', 'berlin', 'tokyo'}\n",
    "city.add('surat')\n",
    "city"
   ]
  },
  {
   "cell_type": "code",
   "execution_count": 211,
   "id": "5380fa91-15de-4938-9fa0-26e7207cf46a",
   "metadata": {},
   "outputs": [],
   "source": [
    "cities={'delhi', 'rajkot', 'baroda'}\n",
    "city.update(cities)"
   ]
  },
  {
   "cell_type": "code",
   "execution_count": 212,
   "id": "e7a13e4b-2080-4b4c-8620-5fdf4b237d01",
   "metadata": {},
   "outputs": [
    {
     "data": {
      "text/plain": [
       "{'ahemedabad',\n",
       " 'baroda',\n",
       " 'berlin',\n",
       " 'bhavnagar',\n",
       " 'delhi',\n",
       " 'rajkot',\n",
       " 'surat',\n",
       " 'tokyo'}"
      ]
     },
     "execution_count": 212,
     "metadata": {},
     "output_type": "execute_result"
    }
   ],
   "source": [
    "city"
   ]
  },
  {
   "cell_type": "code",
   "execution_count": 213,
   "id": "95282fa6-3268-48fc-83a3-cf10e5498bc2",
   "metadata": {},
   "outputs": [
    {
     "data": {
      "text/plain": [
       "{'ahemedabad', 'baroda', 'berlin', 'bhavnagar', 'delhi', 'rajkot', 'surat'}"
      ]
     },
     "execution_count": 213,
     "metadata": {},
     "output_type": "execute_result"
    }
   ],
   "source": [
    "city.remove('tokyo')\n",
    "city"
   ]
  },
  {
   "cell_type": "code",
   "execution_count": 214,
   "id": "881d55c6-f1d2-4d5c-a481-c7036e637cb2",
   "metadata": {},
   "outputs": [],
   "source": [
    "city.remove('surat')"
   ]
  },
  {
   "cell_type": "code",
   "execution_count": 215,
   "id": "73e611e8-1ca7-4288-9622-511691bf8d59",
   "metadata": {},
   "outputs": [
    {
     "ename": "KeyError",
     "evalue": "'surat'",
     "output_type": "error",
     "traceback": [
      "\u001b[0;31m---------------------------------------------------------------------------\u001b[0m",
      "\u001b[0;31mKeyError\u001b[0m                                  Traceback (most recent call last)",
      "Cell \u001b[0;32mIn[215], line 1\u001b[0m\n\u001b[0;32m----> 1\u001b[0m \u001b[43mcity\u001b[49m\u001b[38;5;241;43m.\u001b[39;49m\u001b[43mremove\u001b[49m\u001b[43m(\u001b[49m\u001b[38;5;124;43m'\u001b[39;49m\u001b[38;5;124;43msurat\u001b[39;49m\u001b[38;5;124;43m'\u001b[39;49m\u001b[43m)\u001b[49m\n",
      "\u001b[0;31mKeyError\u001b[0m: 'surat'"
     ]
    }
   ],
   "source": [
    "city.remove('surat')"
   ]
  },
  {
   "cell_type": "code",
   "execution_count": 216,
   "id": "db54b7bc-0dc2-455a-9ad0-56ee993c7cf1",
   "metadata": {},
   "outputs": [],
   "source": [
    "city.discard('surat')"
   ]
  },
  {
   "cell_type": "code",
   "execution_count": 217,
   "id": "e88613ec-0b21-494c-bf4a-3812eed8376e",
   "metadata": {},
   "outputs": [
    {
     "data": {
      "text/plain": [
       "{'ahemedabad', 'baroda', 'berlin', 'bhavnagar', 'delhi', 'rajkot'}"
      ]
     },
     "execution_count": 217,
     "metadata": {},
     "output_type": "execute_result"
    }
   ],
   "source": [
    "city"
   ]
  },
  {
   "cell_type": "code",
   "execution_count": 218,
   "id": "dc7db800-0171-4635-bb55-6c24a5c4a85d",
   "metadata": {},
   "outputs": [],
   "source": [
    "del city"
   ]
  },
  {
   "cell_type": "code",
   "execution_count": 220,
   "id": "59139176-3a44-4c95-93c3-4708bc1d91c9",
   "metadata": {},
   "outputs": [
    {
     "data": {
      "text/plain": [
       "{'baroda', 'delhi', 'rajkot'}"
      ]
     },
     "execution_count": 220,
     "metadata": {},
     "output_type": "execute_result"
    }
   ],
   "source": [
    "cities"
   ]
  },
  {
   "cell_type": "code",
   "execution_count": 221,
   "id": "3fcd4c67-878c-48c1-9ddc-4b25147d2745",
   "metadata": {},
   "outputs": [
    {
     "name": "stdout",
     "output_type": "stream",
     "text": [
      "{'madrid', 'kabul', 'tkoyo', 'madris', 'berlin', 'ahemdabad', 'rajokot', 'surat', 'delhi'}\n"
     ]
    }
   ],
   "source": [
    "c={'tkoyo','berlin', 'madris', 'delhi', 'ahemdabad'}\n",
    "c1={'surat','rajokot', 'kabul', 'madrid'}\n",
    "c3=c.union(c1)\n",
    "print(c3)"
   ]
  },
  {
   "cell_type": "code",
   "execution_count": 222,
   "id": "ec6ef08e-241e-4e0f-a575-af32151af090",
   "metadata": {},
   "outputs": [],
   "source": [
    "c.update(c1)"
   ]
  },
  {
   "cell_type": "code",
   "execution_count": 223,
   "id": "d8567a14-068b-4cbe-b656-982c0388b8a4",
   "metadata": {},
   "outputs": [
    {
     "data": {
      "text/plain": [
       "{'ahemdabad',\n",
       " 'berlin',\n",
       " 'delhi',\n",
       " 'kabul',\n",
       " 'madrid',\n",
       " 'madris',\n",
       " 'rajokot',\n",
       " 'surat',\n",
       " 'tkoyo'}"
      ]
     },
     "execution_count": 223,
     "metadata": {},
     "output_type": "execute_result"
    }
   ],
   "source": [
    "c"
   ]
  },
  {
   "cell_type": "code",
   "execution_count": 225,
   "id": "f1a504a3-7054-4021-b9a5-e65199962e74",
   "metadata": {},
   "outputs": [],
   "source": [
    "c3= c.intersection(c1)"
   ]
  },
  {
   "cell_type": "code",
   "execution_count": 226,
   "id": "e371ddf7-31de-4c68-b607-d2aa3cc74286",
   "metadata": {},
   "outputs": [
    {
     "data": {
      "text/plain": [
       "{'kabul', 'madrid', 'rajokot', 'surat'}"
      ]
     },
     "execution_count": 226,
     "metadata": {},
     "output_type": "execute_result"
    }
   ],
   "source": [
    "c3"
   ]
  },
  {
   "cell_type": "code",
   "execution_count": 227,
   "id": "ac3df237-6c20-4026-9e81-b258cf5cbaf9",
   "metadata": {},
   "outputs": [],
   "source": [
    "import pandas as pd"
   ]
  },
  {
   "cell_type": "code",
   "execution_count": 232,
   "id": "3f5dfe38-f110-458d-999b-eb38de70f4e7",
   "metadata": {},
   "outputs": [],
   "source": [
    "df=pd.read_csv('//home//synchronized//Downloads//Sales.csv')\n",
    "\n"
   ]
  },
  {
   "cell_type": "code",
   "execution_count": 233,
   "id": "55ad174d-e0f4-4318-8c8a-4fde76d27966",
   "metadata": {},
   "outputs": [
    {
     "data": {
      "text/html": [
       "<div>\n",
       "<style scoped>\n",
       "    .dataframe tbody tr th:only-of-type {\n",
       "        vertical-align: middle;\n",
       "    }\n",
       "\n",
       "    .dataframe tbody tr th {\n",
       "        vertical-align: top;\n",
       "    }\n",
       "\n",
       "    .dataframe thead th {\n",
       "        text-align: right;\n",
       "    }\n",
       "</style>\n",
       "<table border=\"1\" class=\"dataframe\">\n",
       "  <thead>\n",
       "    <tr style=\"text-align: right;\">\n",
       "      <th></th>\n",
       "      <th>Date</th>\n",
       "      <th>SKU</th>\n",
       "      <th>Product Name</th>\n",
       "      <th>City</th>\n",
       "      <th>Sales</th>\n",
       "    </tr>\n",
       "  </thead>\n",
       "  <tbody>\n",
       "    <tr>\n",
       "      <th>0</th>\n",
       "      <td>2023-01-01 0:00:00</td>\n",
       "      <td>F001</td>\n",
       "      <td>Prateek England</td>\n",
       "      <td>Mumbai</td>\n",
       "      <td>93</td>\n",
       "    </tr>\n",
       "    <tr>\n",
       "      <th>1</th>\n",
       "      <td>2023-01-01 0:00:00</td>\n",
       "      <td>F002</td>\n",
       "      <td>Lucy Phillepe</td>\n",
       "      <td>Mumbai</td>\n",
       "      <td>36</td>\n",
       "    </tr>\n",
       "    <tr>\n",
       "      <th>2</th>\n",
       "      <td>2023-01-01 0:00:00</td>\n",
       "      <td>F003</td>\n",
       "      <td>Badlands</td>\n",
       "      <td>Mumbai</td>\n",
       "      <td>7</td>\n",
       "    </tr>\n",
       "    <tr>\n",
       "      <th>3</th>\n",
       "      <td>2023-01-01 0:00:00</td>\n",
       "      <td>F004</td>\n",
       "      <td>Allen Dolly</td>\n",
       "      <td>Mumbai</td>\n",
       "      <td>55</td>\n",
       "    </tr>\n",
       "    <tr>\n",
       "      <th>4</th>\n",
       "      <td>2023-01-01 0:00:00</td>\n",
       "      <td>F005</td>\n",
       "      <td>Bucchi</td>\n",
       "      <td>Mumbai</td>\n",
       "      <td>41</td>\n",
       "    </tr>\n",
       "  </tbody>\n",
       "</table>\n",
       "</div>"
      ],
      "text/plain": [
       "                 Date   SKU     Product Name    City  Sales\n",
       "0  2023-01-01 0:00:00  F001  Prateek England  Mumbai     93\n",
       "1  2023-01-01 0:00:00  F002    Lucy Phillepe  Mumbai     36\n",
       "2  2023-01-01 0:00:00  F003         Badlands  Mumbai      7\n",
       "3  2023-01-01 0:00:00  F004      Allen Dolly  Mumbai     55\n",
       "4  2023-01-01 0:00:00  F005           Bucchi  Mumbai     41"
      ]
     },
     "execution_count": 233,
     "metadata": {},
     "output_type": "execute_result"
    }
   ],
   "source": [
    "df.head()"
   ]
  },
  {
   "cell_type": "code",
   "execution_count": 234,
   "id": "84ffb118-9f6c-4eca-a06f-908bbedf16b1",
   "metadata": {},
   "outputs": [
    {
     "data": {
      "text/html": [
       "<div>\n",
       "<style scoped>\n",
       "    .dataframe tbody tr th:only-of-type {\n",
       "        vertical-align: middle;\n",
       "    }\n",
       "\n",
       "    .dataframe tbody tr th {\n",
       "        vertical-align: top;\n",
       "    }\n",
       "\n",
       "    .dataframe thead th {\n",
       "        text-align: right;\n",
       "    }\n",
       "</style>\n",
       "<table border=\"1\" class=\"dataframe\">\n",
       "  <thead>\n",
       "    <tr style=\"text-align: right;\">\n",
       "      <th></th>\n",
       "      <th>Date</th>\n",
       "      <th>SKU</th>\n",
       "      <th>Product Name</th>\n",
       "      <th>City</th>\n",
       "      <th>Sales</th>\n",
       "    </tr>\n",
       "  </thead>\n",
       "  <tbody>\n",
       "    <tr>\n",
       "      <th>0</th>\n",
       "      <td>2023-01-01 0:00:00</td>\n",
       "      <td>F001</td>\n",
       "      <td>Prateek England</td>\n",
       "      <td>Mumbai</td>\n",
       "      <td>93</td>\n",
       "    </tr>\n",
       "    <tr>\n",
       "      <th>1</th>\n",
       "      <td>2023-01-01 0:00:00</td>\n",
       "      <td>F002</td>\n",
       "      <td>Lucy Phillepe</td>\n",
       "      <td>Mumbai</td>\n",
       "      <td>36</td>\n",
       "    </tr>\n",
       "    <tr>\n",
       "      <th>2</th>\n",
       "      <td>2023-01-01 0:00:00</td>\n",
       "      <td>F003</td>\n",
       "      <td>Badlands</td>\n",
       "      <td>Mumbai</td>\n",
       "      <td>7</td>\n",
       "    </tr>\n",
       "    <tr>\n",
       "      <th>3</th>\n",
       "      <td>2023-01-01 0:00:00</td>\n",
       "      <td>F004</td>\n",
       "      <td>Allen Dolly</td>\n",
       "      <td>Mumbai</td>\n",
       "      <td>55</td>\n",
       "    </tr>\n",
       "    <tr>\n",
       "      <th>4</th>\n",
       "      <td>2023-01-01 0:00:00</td>\n",
       "      <td>F005</td>\n",
       "      <td>Bucchi</td>\n",
       "      <td>Mumbai</td>\n",
       "      <td>41</td>\n",
       "    </tr>\n",
       "    <tr>\n",
       "      <th>5</th>\n",
       "      <td>2023-01-01 0:00:00</td>\n",
       "      <td>M001</td>\n",
       "      <td>Jhaomi</td>\n",
       "      <td>Mumbai</td>\n",
       "      <td>0</td>\n",
       "    </tr>\n",
       "    <tr>\n",
       "      <th>6</th>\n",
       "      <td>2023-01-01 0:00:00</td>\n",
       "      <td>M002</td>\n",
       "      <td>Samson</td>\n",
       "      <td>Mumbai</td>\n",
       "      <td>17</td>\n",
       "    </tr>\n",
       "    <tr>\n",
       "      <th>7</th>\n",
       "      <td>2023-01-01 0:00:00</td>\n",
       "      <td>M003</td>\n",
       "      <td>Mokia</td>\n",
       "      <td>Mumbai</td>\n",
       "      <td>41</td>\n",
       "    </tr>\n",
       "    <tr>\n",
       "      <th>8</th>\n",
       "      <td>2023-01-01 0:00:00</td>\n",
       "      <td>M004</td>\n",
       "      <td>Hotorola</td>\n",
       "      <td>Mumbai</td>\n",
       "      <td>8</td>\n",
       "    </tr>\n",
       "    <tr>\n",
       "      <th>9</th>\n",
       "      <td>2023-01-01 0:00:00</td>\n",
       "      <td>M005</td>\n",
       "      <td>2plus</td>\n",
       "      <td>Mumbai</td>\n",
       "      <td>28</td>\n",
       "    </tr>\n",
       "    <tr>\n",
       "      <th>10</th>\n",
       "      <td>2023-01-01 0:00:00</td>\n",
       "      <td>B001</td>\n",
       "      <td>Harry putar</td>\n",
       "      <td>Mumbai</td>\n",
       "      <td>22</td>\n",
       "    </tr>\n",
       "    <tr>\n",
       "      <th>11</th>\n",
       "      <td>2023-01-01 0:00:00</td>\n",
       "      <td>B002</td>\n",
       "      <td>4 states</td>\n",
       "      <td>Mumbai</td>\n",
       "      <td>25</td>\n",
       "    </tr>\n",
       "    <tr>\n",
       "      <th>12</th>\n",
       "      <td>2023-01-01 0:00:00</td>\n",
       "      <td>B003</td>\n",
       "      <td>Shaktiman Returns</td>\n",
       "      <td>Mumbai</td>\n",
       "      <td>73</td>\n",
       "    </tr>\n",
       "    <tr>\n",
       "      <th>13</th>\n",
       "      <td>2023-01-01 0:00:00</td>\n",
       "      <td>B004</td>\n",
       "      <td>Goli's Travel</td>\n",
       "      <td>Mumbai</td>\n",
       "      <td>47</td>\n",
       "    </tr>\n",
       "    <tr>\n",
       "      <th>14</th>\n",
       "      <td>2023-01-01 0:00:00</td>\n",
       "      <td>B005</td>\n",
       "      <td>Story of Your Life</td>\n",
       "      <td>Mumbai</td>\n",
       "      <td>108</td>\n",
       "    </tr>\n",
       "    <tr>\n",
       "      <th>15</th>\n",
       "      <td>2023-01-01 0:00:00</td>\n",
       "      <td>V001</td>\n",
       "      <td>Prince of Dholakpur</td>\n",
       "      <td>Mumbai</td>\n",
       "      <td>12</td>\n",
       "    </tr>\n",
       "    <tr>\n",
       "      <th>16</th>\n",
       "      <td>2023-01-01 0:00:00</td>\n",
       "      <td>V002</td>\n",
       "      <td>Nario</td>\n",
       "      <td>Mumbai</td>\n",
       "      <td>117</td>\n",
       "    </tr>\n",
       "    <tr>\n",
       "      <th>17</th>\n",
       "      <td>2023-01-01 0:00:00</td>\n",
       "      <td>V003</td>\n",
       "      <td>Pacman</td>\n",
       "      <td>Mumbai</td>\n",
       "      <td>243</td>\n",
       "    </tr>\n",
       "    <tr>\n",
       "      <th>18</th>\n",
       "      <td>2023-01-01 0:00:00</td>\n",
       "      <td>V004</td>\n",
       "      <td>LTA Wise City</td>\n",
       "      <td>Mumbai</td>\n",
       "      <td>47</td>\n",
       "    </tr>\n",
       "    <tr>\n",
       "      <th>19</th>\n",
       "      <td>2023-01-01 0:00:00</td>\n",
       "      <td>V005</td>\n",
       "      <td>HIFA 2023</td>\n",
       "      <td>Mumbai</td>\n",
       "      <td>29</td>\n",
       "    </tr>\n",
       "  </tbody>\n",
       "</table>\n",
       "</div>"
      ],
      "text/plain": [
       "                  Date   SKU         Product Name    City  Sales\n",
       "0   2023-01-01 0:00:00  F001      Prateek England  Mumbai     93\n",
       "1   2023-01-01 0:00:00  F002        Lucy Phillepe  Mumbai     36\n",
       "2   2023-01-01 0:00:00  F003             Badlands  Mumbai      7\n",
       "3   2023-01-01 0:00:00  F004          Allen Dolly  Mumbai     55\n",
       "4   2023-01-01 0:00:00  F005               Bucchi  Mumbai     41\n",
       "5   2023-01-01 0:00:00  M001               Jhaomi  Mumbai      0\n",
       "6   2023-01-01 0:00:00  M002               Samson  Mumbai     17\n",
       "7   2023-01-01 0:00:00  M003                Mokia  Mumbai     41\n",
       "8   2023-01-01 0:00:00  M004             Hotorola  Mumbai      8\n",
       "9   2023-01-01 0:00:00  M005                2plus  Mumbai     28\n",
       "10  2023-01-01 0:00:00  B001          Harry putar  Mumbai     22\n",
       "11  2023-01-01 0:00:00  B002             4 states  Mumbai     25\n",
       "12  2023-01-01 0:00:00  B003    Shaktiman Returns  Mumbai     73\n",
       "13  2023-01-01 0:00:00  B004        Goli's Travel  Mumbai     47\n",
       "14  2023-01-01 0:00:00  B005   Story of Your Life  Mumbai    108\n",
       "15  2023-01-01 0:00:00  V001  Prince of Dholakpur  Mumbai     12\n",
       "16  2023-01-01 0:00:00  V002                Nario  Mumbai    117\n",
       "17  2023-01-01 0:00:00  V003               Pacman  Mumbai    243\n",
       "18  2023-01-01 0:00:00  V004        LTA Wise City  Mumbai     47\n",
       "19  2023-01-01 0:00:00  V005            HIFA 2023  Mumbai     29"
      ]
     },
     "execution_count": 234,
     "metadata": {},
     "output_type": "execute_result"
    }
   ],
   "source": [
    "df.head(20)"
   ]
  },
  {
   "cell_type": "code",
   "execution_count": 235,
   "id": "34619d9a-7c35-410a-ac6b-3c5339776437",
   "metadata": {},
   "outputs": [
    {
     "data": {
      "text/html": [
       "<div>\n",
       "<style scoped>\n",
       "    .dataframe tbody tr th:only-of-type {\n",
       "        vertical-align: middle;\n",
       "    }\n",
       "\n",
       "    .dataframe tbody tr th {\n",
       "        vertical-align: top;\n",
       "    }\n",
       "\n",
       "    .dataframe thead th {\n",
       "        text-align: right;\n",
       "    }\n",
       "</style>\n",
       "<table border=\"1\" class=\"dataframe\">\n",
       "  <thead>\n",
       "    <tr style=\"text-align: right;\">\n",
       "      <th></th>\n",
       "      <th>Date</th>\n",
       "      <th>SKU</th>\n",
       "      <th>Product Name</th>\n",
       "      <th>City</th>\n",
       "      <th>Sales</th>\n",
       "    </tr>\n",
       "  </thead>\n",
       "  <tbody>\n",
       "    <tr>\n",
       "      <th>6195</th>\n",
       "      <td>2023-01-30 0:00:00</td>\n",
       "      <td>G001</td>\n",
       "      <td>Crafting Chandlar</td>\n",
       "      <td>Aurangabad</td>\n",
       "      <td>13</td>\n",
       "    </tr>\n",
       "    <tr>\n",
       "      <th>6196</th>\n",
       "      <td>2023-01-30 0:00:00</td>\n",
       "      <td>G002</td>\n",
       "      <td>Desi Kurti</td>\n",
       "      <td>Aurangabad</td>\n",
       "      <td>24</td>\n",
       "    </tr>\n",
       "    <tr>\n",
       "      <th>6197</th>\n",
       "      <td>2023-01-30 0:00:00</td>\n",
       "      <td>G003</td>\n",
       "      <td>Family Cake and Card Combo</td>\n",
       "      <td>Aurangabad</td>\n",
       "      <td>66</td>\n",
       "    </tr>\n",
       "    <tr>\n",
       "      <th>6198</th>\n",
       "      <td>2023-01-30 0:00:00</td>\n",
       "      <td>G004</td>\n",
       "      <td>Exact Flower Vase</td>\n",
       "      <td>Aurangabad</td>\n",
       "      <td>55</td>\n",
       "    </tr>\n",
       "    <tr>\n",
       "      <th>6199</th>\n",
       "      <td>2023-01-30 0:00:00</td>\n",
       "      <td>G005</td>\n",
       "      <td>Friends Dinner Set</td>\n",
       "      <td>Aurangabad</td>\n",
       "      <td>59</td>\n",
       "    </tr>\n",
       "  </tbody>\n",
       "</table>\n",
       "</div>"
      ],
      "text/plain": [
       "                    Date   SKU                Product Name        City  Sales\n",
       "6195  2023-01-30 0:00:00  G001           Crafting Chandlar  Aurangabad     13\n",
       "6196  2023-01-30 0:00:00  G002                  Desi Kurti  Aurangabad     24\n",
       "6197  2023-01-30 0:00:00  G003  Family Cake and Card Combo  Aurangabad     66\n",
       "6198  2023-01-30 0:00:00  G004           Exact Flower Vase  Aurangabad     55\n",
       "6199  2023-01-30 0:00:00  G005          Friends Dinner Set  Aurangabad     59"
      ]
     },
     "execution_count": 235,
     "metadata": {},
     "output_type": "execute_result"
    }
   ],
   "source": [
    "df.tail()"
   ]
  },
  {
   "cell_type": "code",
   "execution_count": 237,
   "id": "c7633bff-5aa4-43fe-add6-3382b5e58a8a",
   "metadata": {},
   "outputs": [],
   "source": [
    "import matplotlib.pyplot as plt"
   ]
  },
  {
   "cell_type": "code",
   "execution_count": 238,
   "id": "bc9142e8-0e75-41ad-9acd-754bdd89f500",
   "metadata": {},
   "outputs": [],
   "source": [
    "import numpy as np"
   ]
  },
  {
   "cell_type": "code",
   "execution_count": 239,
   "id": "00e306ce-f6ad-46c6-b4c9-868f040dc3ad",
   "metadata": {},
   "outputs": [
    {
     "data": {
      "image/png": "[encoded data removed]",
      "text/plain": [
       "<Figure size 640x480 with 1 Axes>"
      ]
     },
     "metadata": {},
     "output_type": "display_data"
    }
   ],
   "source": [
    "x=np.array([0,6])\n",
    "y=np.array([1,100])\n",
    "plt.plot(x,y)\n",
    "plt.show()"
   ]
  },
  {
   "cell_type": "code",
   "execution_count": 241,
   "id": "5bd15038-197b-4b1e-a29b-9923c7772364",
   "metadata": {},
   "outputs": [
    {
     "data": {
      "image/png": "[encoded data removed]",
      "text/plain": [
       "<Figure size 640x480 with 1 Axes>"
      ]
     },
     "metadata": {},
     "output_type": "display_data"
    }
   ],
   "source": [
    "plt.bar(x,y)\n",
    "plt.show()"
   ]
  },
  {
   "cell_type": "code",
   "execution_count": 244,
   "id": "a9e785e5-7c3b-449c-9ab4-5b13100e4a25",
   "metadata": {},
   "outputs": [
    {
     "data": {
      "image/png": "[encoded data removed]",
      "text/plain": [
       "<Figure size 640x480 with 1 Axes>"
      ]
     },
     "metadata": {},
     "output_type": "display_data"
    }
   ],
   "source": [
    "plt.pie(y)\n",
    "plt.show()"
   ]
  },
  {
   "cell_type": "code",
   "execution_count": 245,
   "id": "50932f92-0bed-4aad-85a2-3539de4e6447",
   "metadata": {},
   "outputs": [
    {
     "name": "stdout",
     "output_type": "stream",
     "text": [
      "0 1 1 2 3 5 8 13 21 34 55 89 144 233 377 610 987 1597 \n"
     ]
    }
   ],
   "source": [
    "def fib(n):\n",
    "    a,b=0,1\n",
    "    while a<n:\n",
    "        print(a, end=' ')\n",
    "        a,b=b,a+b\n",
    "    print()\n",
    "\n",
    "fib(2000)"
   ]
  },
  {
   "cell_type": "code",
   "execution_count": 246,
   "id": "fa0ea1b9-31e0-40ba-88bf-0c9e7f5921ca",
   "metadata": {},
   "outputs": [
    {
     "data": {
      "text/plain": [
       "[0, 1, 1, 2, 3, 5, 8, 13, 21, 34, 55, 89]"
      ]
     },
     "execution_count": 246,
     "metadata": {},
     "output_type": "execute_result"
    }
   ],
   "source": [
    "def fib2(n):\n",
    "    result=[]\n",
    "    a,b=0,1\n",
    "    while a<n:\n",
    "        result.append(a)\n",
    "        a,b=b,a+b\n",
    "    return result\n",
    "\n",
    "f100=fib2(100)\n",
    "f100"
   ]
  },
  {
   "cell_type": "code",
   "execution_count": 249,
   "id": "74c75a56-66cf-4ee8-bec6-e329d35da7c6",
   "metadata": {},
   "outputs": [],
   "source": [
    "def ask_ok(prompt, retries=4, reminder='please try again!'):\n",
    "    while True:\n",
    "        reply=input(prompt)\n",
    "        if reply in {'y', 'ye', 'yes'}:\n",
    "            return True\n",
    "        if reply in {'n', 'no', 'nop', 'nope'}:\n",
    "            return False\n",
    "        retries=retries -1\n",
    "        if retries < 0:\n",
    "            raise ValueError ('invalud user response ')\n",
    "        print(reminder)\n"
   ]
  },
  {
   "cell_type": "code",
   "execution_count": 250,
   "id": "2eb0071b-0133-4bc5-9d1d-5a5280ee8b86",
   "metadata": {},
   "outputs": [],
   "source": [
    "import tkinter"
   ]
  },
  {
   "cell_type": "code",
   "execution_count": 253,
   "id": "ccef3f20-80d8-4282-a1c7-7ad267dd398f",
   "metadata": {},
   "outputs": [],
   "source": [
    "m=tkinter.Tk()\n",
    "m.mainloop()"
   ]
  },
  {
   "cell_type": "code",
   "execution_count": 254,
   "id": "ca0867e9-1ff2-41f2-8a70-cdee40c0c90d",
   "metadata": {},
   "outputs": [],
   "source": [
    "from tkinter import *\n",
    "root=Tk()\n",
    "w=Label(root, text='jinaln lathiya')\n",
    "w.pack()\n",
    "root.mainloop()"
   ]
  },
  {
   "cell_type": "code",
   "execution_count": 256,
   "id": "7a406148-0eae-438b-899d-b95032324cc7",
   "metadata": {},
   "outputs": [],
   "source": [
    "import tkinter as tk\n",
    "r=tk.Tk()\n",
    "r.title('counting Seconds')\n",
    "button=tk.Button(r, text='Stop', width=25, command=r.destroy)\n",
    "button.pack()\n",
    "r.mainloop()"
   ]
  },
  {
   "cell_type": "code",
   "execution_count": 257,
   "id": "0f7ebabc-3210-4a1b-8e91-b1236ce77c06",
   "metadata": {},
   "outputs": [],
   "source": [
    "from tkinter import*\n",
    "master=Tk()\n",
    "Label(master, text='firstnmae').grid(row=0)\n",
    "Label(master, text='Last name').grid(row=1)\n",
    "e1=Entry(master)\n",
    "e2=Entry(master)\n",
    "e1.grid(row=0, column=1)\n",
    "e2.grid(row=1, column=1)\n",
    "mainloop()"
   ]
  },
  {
   "cell_type": "code",
   "execution_count": 259,
   "id": "ca7e674b-fbcb-41a8-a70e-38968bdef6dd",
   "metadata": {},
   "outputs": [
    {
     "name": "stdout",
     "output_type": "stream",
     "text": [
      "{'name': 'jinal', 'age': 22}\n"
     ]
    }
   ],
   "source": [
    "dict= {'name':'jinal' , 'age' : 22 }\n",
    "print(dict)"
   ]
  },
  {
   "cell_type": "code",
   "execution_count": 260,
   "id": "64abaabf-de20-41d0-b85f-3dfcb1c38be4",
   "metadata": {},
   "outputs": [
    {
     "name": "stdout",
     "output_type": "stream",
     "text": [
      "jinal\n"
     ]
    }
   ],
   "source": [
    "print(dict['name'])"
   ]
  },
  {
   "cell_type": "code",
   "execution_count": 261,
   "id": "e60acf52-977d-4c2d-b63e-7a087cefb554",
   "metadata": {},
   "outputs": [
    {
     "name": "stdout",
     "output_type": "stream",
     "text": [
      "dict_keys(['name', 'age'])\n"
     ]
    }
   ],
   "source": [
    "print(dict.keys())"
   ]
  },
  {
   "cell_type": "code",
   "execution_count": 262,
   "id": "06d4f42a-e535-4eb4-9140-d7f02a21b68e",
   "metadata": {},
   "outputs": [
    {
     "name": "stdout",
     "output_type": "stream",
     "text": [
      "dict_values(['jinal', 22])\n"
     ]
    }
   ],
   "source": [
    "print(dict.values())"
   ]
  },
  {
   "cell_type": "code",
   "execution_count": 264,
   "id": "36a2db2a-846b-4952-9041-615ed9f90bd7",
   "metadata": {},
   "outputs": [
    {
     "name": "stdout",
     "output_type": "stream",
     "text": [
      "dict_items([('name', 'jinal'), ('age', 22)])\n"
     ]
    }
   ],
   "source": [
    "print(dict.items())"
   ]
  },
  {
   "cell_type": "code",
   "execution_count": 265,
   "id": "a351fe08-18fb-4501-8b03-0ab81a41dc6d",
   "metadata": {},
   "outputs": [
    {
     "name": "stdout",
     "output_type": "stream",
     "text": [
      "{'name': 'jinal', 'age': 22, 'dob': 201}\n"
     ]
    }
   ],
   "source": [
    "dict['dob']=201\n",
    "print(dictfrom tkinter import*\n",
    "\n",
    "top=Tk()\n",
    "Lb=Listbox(top)\n",
    "Lb.insert)"
   ]
  },
  {
   "cell_type": "code",
   "execution_count": 266,
   "id": "6d2683cd-b3c5-43c0-9dc6-eb5e0c7275e4",
   "metadata": {},
   "outputs": [],
   "source": [
    "dict.update({'age':20})"
   ]
  },
  {
   "cell_type": "code",
   "execution_count": 267,
   "id": "163f6be3-4983-4939-97d0-887fbc60ba57",
   "metadata": {},
   "outputs": [
    {
     "data": {
      "text/plain": [
       "{'name': 'jinal', 'age': 20, 'dob': 201}"
      ]
     },
     "execution_count": 267,
     "metadata": {},
     "output_type": "execute_result"
    }
   ],
   "source": [
    "dict"
   ]
  },
  {
   "cell_type": "code",
   "execution_count": 268,
   "id": "46d419ad-5956-4c5b-a768-2d32043874dd",
   "metadata": {},
   "outputs": [],
   "source": [
    "dict.clear()"
   ]
  },
  {
   "cell_type": "code",
   "execution_count": 269,
   "id": "383e205e-2106-4b70-85da-9e43e93bf719",
   "metadata": {},
   "outputs": [
    {
     "data": {
      "text/plain": [
       "{}"
      ]
     },
     "execution_count": 269,
     "metadata": {},
     "output_type": "execute_result"
    }
   ],
   "source": [
    "dict"
   ]
  },
  {
   "cell_type": "code",
   "execution_count": 271,
   "id": "b16e0134-c975-478a-bd42-0283313f5db6",
   "metadata": {},
   "outputs": [
    {
     "data": {
      "text/plain": [
       "{'name': 'jinal', 'age': 20, 'dob': 2002}"
      ]
     },
     "execution_count": 271,
     "metadata": {},
     "output_type": "execute_result"
    }
   ],
   "source": [
    "info= {'name':'jinal', 'age' : 20, 'dob' : 2002}\n",
    "\n",
    "ninfo=info.copy()\n",
    "ninfo"
   ]
  },
  {
   "cell_type": "code",
   "execution_count": 273,
   "id": "95d7648c-d657-43b9-8a95-bdeb4fdcc68e",
   "metadata": {},
   "outputs": [
    {
     "name": "stdin",
     "output_type": "stream",
     "text": [
      "enter your age 2\n"
     ]
    },
    {
     "name": "stdout",
     "output_type": "stream",
     "text": [
      "you cannot vote\n"
     ]
    }
   ],
   "source": [
    "age=int(input('enter your age'))\n",
    "\n",
    "if age>=18:\n",
    "    print('you can vote')\n",
    "else:\n",
    "    print('you cannot vote')"
   ]
  },
  {
   "cell_type": "code",
   "execution_count": 278,
   "id": "540365e3-3a35-4588-a192-2e480f7263f3",
   "metadata": {},
   "outputs": [
    {
     "name": "stdin",
     "output_type": "stream",
     "text": [
      "enter any intwerger 0\n"
     ]
    },
    {
     "name": "stdout",
     "output_type": "stream",
     "text": [
      "number is zero\n"
     ]
    }
   ],
   "source": [
    "num=int(input('enter any intwerger'))\n",
    "\n",
    "if num==0:\n",
    "    print('number is zero')\n",
    "elif num>0:\n",
    "    print('number if positive')\n",
    "else:\n",
    "    print('number is negative')"
   ]
  },
  {
   "cell_type": "code",
   "execution_count": 284,
   "id": "bfee0cd2-f1a2-452b-89dd-d49b48a1acae",
   "metadata": {},
   "outputs": [
    {
     "name": "stdin",
     "output_type": "stream",
     "text": [
      "enter any integer 19\n"
     ]
    },
    {
     "name": "stdout",
     "output_type": "stream",
     "text": [
      "between 11-20\n"
     ]
    }
   ],
   "source": [
    "num=int(input('enter any integer'))\n",
    "\n",
    "if num<0:\n",
    "    print('number is negative')\n",
    "elif num>0:\n",
    "    if num<=10:\n",
    "        print('between 0-10')\n",
    "    elif num>=10 and num <=20:\n",
    "        print('between 11-20')\n",
    "    else:\n",
    "        print('more then 20')\n",
    "else:\n",
    "    print('number is zero')"
   ]
  },
  {
   "cell_type": "code",
   "execution_count": 285,
   "id": "9862ee8d-1efe-40bf-9028-e218162619e4",
   "metadata": {},
   "outputs": [
    {
     "name": "stdout",
     "output_type": "stream",
     "text": [
      "j\n",
      "i\n",
      "n\n",
      "a\n",
      "l\n"
     ]
    }
   ],
   "source": [
    "name='jinal'\n",
    "\n",
    "for i in name:\n",
    "    print(i)"
   ]
  },
  {
   "cell_type": "code",
   "execution_count": 286,
   "id": "b3cfdafe-62d8-4889-8bc8-1af9e8952505",
   "metadata": {},
   "outputs": [
    {
     "name": "stdout",
     "output_type": "stream",
     "text": [
      "red\n",
      "green\n",
      "balck\n",
      "yelow\n"
     ]
    }
   ],
   "source": [
    "color=('red', 'green', 'balck', 'yelow')\n",
    "for x in color:\n",
    "    print(x)"
   ]
  },
  {
   "cell_type": "code",
   "execution_count": null,
   "id": "ada07cd1-ac32-4dfe-bfd0-47fb3e146055",
   "metadata": {},
   "outputs": [],
   "source": [
    "'''With a given integral number n, write a program to generate a dictionary that contains (i, i*i) such that is an integral number between 1 and n (both included). and then the program should print the dictionary.\n",
    "Suppose the following input is supplied to the program:\n",
    "8\n",
    "Then, the output should be:\n",
    "{1: 1, 2: 4, 3: 9, 4: 16, 5: 25, 6: 36, 7: 49, 8: 64}\n",
    "\n",
    "Hints:\n",
    "In case of input data being supplied to the question, it should be assumed to be a console input.\n",
    "Consider use dict()\n",
    "'''\n",
    "n={ }\n",
    "for i in range(0,10):\n",
    "    n.append\n",
    "    \n"
   ]
  },
  {
   "cell_type": "code",
   "execution_count": 289,
   "id": "fd0b30b5-1447-4fb4-88d5-e206649ef5d5",
   "metadata": {},
   "outputs": [
    {
     "name": "stdout",
     "output_type": "stream",
     "text": [
      "('jinal', 'dixit', 'hima')\n"
     ]
    }
   ],
   "source": [
    "def name(*name):\n",
    "    print(name)\n",
    "\n",
    "name('jinal', 'dixit', 'hima')"
   ]
  },
  {
   "cell_type": "code",
   "execution_count": 291,
   "id": "11540f56-7595-4c07-a615-09c5c6709cac",
   "metadata": {},
   "outputs": [
    {
     "name": "stdout",
     "output_type": "stream",
     "text": [
      "{'name1': 'jinal', 'name2': 'hina', 'name3': 'ekta'}\n"
     ]
    }
   ],
   "source": [
    "def name(**kw):\n",
    "    print(kw)\n",
    "\n",
    "name(name1='jinal', name2='hina', name3='ekta')"
   ]
  },
  {
   "cell_type": "code",
   "execution_count": 292,
   "id": "5dd5ef84-3a08-4272-a014-f7523ebc0ff0",
   "metadata": {},
   "outputs": [
    {
     "name": "stdout",
     "output_type": "stream",
     "text": [
      "('jinal', 'ekta', 'hina', 'hetal', 'dixit', 'jinixit')\n"
     ]
    }
   ],
   "source": [
    "def names(*name):\n",
    "    print(name)\n",
    "\n",
    "names('jinal', 'ekta', 'hina', 'hetal', 'dixit', 'jinixit')"
   ]
  },
  {
   "cell_type": "code",
   "execution_count": 293,
   "id": "35dc92f6-c108-47c3-a4e0-97ed2406f343",
   "metadata": {},
   "outputs": [
    {
     "name": "stdout",
     "output_type": "stream",
     "text": [
      "{'name': 'jinal', 'lname': 'lathiya', 'age': 22, 'height': '158cm'}\n"
     ]
    }
   ],
   "source": [
    "def  lname(**name):\n",
    "    print(name)\n",
    "\n",
    "\n",
    "lname(name='jinal', lname='lathiya', age=22, height='158cm')"
   ]
  },
  {
   "cell_type": "code",
   "execution_count": null,
   "id": "6b1b9a32-39ea-4669-b482-9e373e5d27de",
   "metadata": {},
   "outputs": [],
   "source": []
  }
 ],
 "metadata": {
  "kernelspec": {
   "display_name": "Python 3 (ipykernel)",
   "language": "python",
   "name": "python3"
  },
  "language_info": {
   "codemirror_mode": {
    "name": "ipython",
    "version": 3
   },
   "file_extension": ".py",
   "mimetype": "text/x-python",
   "name": "python",
   "nbconvert_exporter": "python",
   "pygments_lexer": "ipython3",
   "version": "3.12.3"
  }
 },
 "nbformat": 4,
 "nbformat_minor": 5
}
