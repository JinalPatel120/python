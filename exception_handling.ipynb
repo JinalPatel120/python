{
 "cells": [
  {
   "cell_type": "code",
   "execution_count": 1,
   "id": "249aa610-cff9-4969-94fc-68e94de470e4",
   "metadata": {},
   "outputs": [
    {
     "ename": "SyntaxError",
     "evalue": "invalid syntax (1680983500.py, line 1)",
     "output_type": "error",
     "traceback": [
      "\u001b[0;36m  Cell \u001b[0;32mIn[1], line 1\u001b[0;36m\u001b[0m\n\u001b[0;31m    while True print('hello wrold')\u001b[0m\n\u001b[0m               ^\u001b[0m\n\u001b[0;31mSyntaxError\u001b[0m\u001b[0;31m:\u001b[0m invalid syntax\n"
     ]
    }
   ],
   "source": [
    "while True print('hello wrold')"
   ]
  },
  {
   "cell_type": "code",
   "execution_count": 2,
   "id": "c95f58a6-0480-4878-9496-e71e99b96bad",
   "metadata": {},
   "outputs": [
    {
     "ename": "ZeroDivisionError",
     "evalue": "division by zero",
     "output_type": "error",
     "traceback": [
      "\u001b[0;31m---------------------------------------------------------------------------\u001b[0m",
      "\u001b[0;31mZeroDivisionError\u001b[0m                         Traceback (most recent call last)",
      "Cell \u001b[0;32mIn[2], line 1\u001b[0m\n\u001b[0;32m----> 1\u001b[0m \u001b[38;5;241m10\u001b[39m \u001b[38;5;241m*\u001b[39m (\u001b[38;5;241;43m1\u001b[39;49m\u001b[38;5;241;43m/\u001b[39;49m\u001b[38;5;241;43m0\u001b[39;49m)\n",
      "\u001b[0;31mZeroDivisionError\u001b[0m: division by zero"
     ]
    }
   ],
   "source": [
    "10 * (1/0)"
   ]
  },
  {
   "cell_type": "code",
   "execution_count": 3,
   "id": "cd280298-6395-48eb-a58c-3aa8868db192",
   "metadata": {},
   "outputs": [
    {
     "ename": "NameError",
     "evalue": "name 'spam' is not defined",
     "output_type": "error",
     "traceback": [
      "\u001b[0;31m---------------------------------------------------------------------------\u001b[0m",
      "\u001b[0;31mNameError\u001b[0m                                 Traceback (most recent call last)",
      "Cell \u001b[0;32mIn[3], line 1\u001b[0m\n\u001b[0;32m----> 1\u001b[0m \u001b[38;5;241m4\u001b[39m \u001b[38;5;241m+\u001b[39m \u001b[43mspam\u001b[49m\u001b[38;5;241m*\u001b[39m\u001b[38;5;241m3\u001b[39m\n",
      "\u001b[0;31mNameError\u001b[0m: name 'spam' is not defined"
     ]
    }
   ],
   "source": [
    "4 + spam*3"
   ]
  },
  {
   "cell_type": "code",
   "execution_count": 4,
   "id": "65f776a8-69a2-43ba-a028-3e5dc6f39f17",
   "metadata": {},
   "outputs": [
    {
     "ename": "TypeError",
     "evalue": "can only concatenate str (not \"int\") to str",
     "output_type": "error",
     "traceback": [
      "\u001b[0;31m---------------------------------------------------------------------------\u001b[0m",
      "\u001b[0;31mTypeError\u001b[0m                                 Traceback (most recent call last)",
      "Cell \u001b[0;32mIn[4], line 1\u001b[0m\n\u001b[0;32m----> 1\u001b[0m \u001b[38;5;124;43m'\u001b[39;49m\u001b[38;5;124;43m2\u001b[39;49m\u001b[38;5;124;43m'\u001b[39;49m\u001b[43m \u001b[49m\u001b[38;5;241;43m+\u001b[39;49m\u001b[43m \u001b[49m\u001b[38;5;241;43m2\u001b[39;49m\n",
      "\u001b[0;31mTypeError\u001b[0m: can only concatenate str (not \"int\") to str"
     ]
    }
   ],
   "source": [
    "'2' + 2"
   ]
  },
  {
   "cell_type": "code",
   "execution_count": 5,
   "id": "0446a77b-b9dd-4219-a1ef-a6528b9ce034",
   "metadata": {},
   "outputs": [
    {
     "ename": "NameError",
     "evalue": "name 'n' is not defined",
     "output_type": "error",
     "traceback": [
      "\u001b[0;31m---------------------------------------------------------------------------\u001b[0m",
      "\u001b[0;31mNameError\u001b[0m                                 Traceback (most recent call last)",
      "Cell \u001b[0;32mIn[5], line 1\u001b[0m\n\u001b[0;32m----> 1\u001b[0m \u001b[43mn\u001b[49m \u001b[38;5;241m*\u001b[39m \u001b[38;5;241m3\u001b[39m\n",
      "\u001b[0;31mNameError\u001b[0m: name 'n' is not defined"
     ]
    }
   ],
   "source": [
    "n * 3"
   ]
  },
  {
   "cell_type": "code",
   "execution_count": 7,
   "id": "1dd48e00-cf7b-4391-9e2d-9652f6e03bfd",
   "metadata": {},
   "outputs": [
    {
     "name": "stdin",
     "output_type": "stream",
     "text": [
      "enter a number uhjm\n"
     ]
    },
    {
     "name": "stdout",
     "output_type": "stream",
     "text": [
      "oops ! that was no valid number . try again\n"
     ]
    },
    {
     "name": "stdin",
     "output_type": "stream",
     "text": [
      "enter a number dhs\n"
     ]
    },
    {
     "name": "stdout",
     "output_type": "stream",
     "text": [
      "oops ! that was no valid number . try again\n"
     ]
    },
    {
     "name": "stdin",
     "output_type": "stream",
     "text": [
      "enter a number 4535tf\n"
     ]
    },
    {
     "name": "stdout",
     "output_type": "stream",
     "text": [
      "oops ! that was no valid number . try again\n"
     ]
    },
    {
     "name": "stdin",
     "output_type": "stream",
     "text": [
      "enter a number 453\n"
     ]
    }
   ],
   "source": [
    "while True:\n",
    "    try:\n",
    "        x= int(input('enter a number'))\n",
    "        break\n",
    "    except ValueError:\n",
    "        print('oops ! that was no valid number . try again')"
   ]
  },
  {
   "cell_type": "code",
   "execution_count": 8,
   "id": "0f309e93-3373-44f5-9e18-c464dbd45e99",
   "metadata": {},
   "outputs": [
    {
     "name": "stdout",
     "output_type": "stream",
     "text": [
      "B\n",
      "C\n",
      "D\n"
     ]
    }
   ],
   "source": [
    "class B(Exception):\n",
    "    pass\n",
    "\n",
    "class C(B):\n",
    "    pass\n",
    "\n",
    "class D(C):\n",
    "    pass\n",
    "\n",
    "for i in [B,C,D]:\n",
    "    try:\n",
    "        raise i()\n",
    "    except D:\n",
    "        print('D')\n",
    "\n",
    "    except C:\n",
    "        print('C')\n",
    "\n",
    "    except B:\n",
    "        print('B')\n",
    "              "
   ]
  },
  {
   "cell_type": "code",
   "execution_count": 9,
   "id": "703e9c7c-45fb-4814-9b81-220b65d0e9c3",
   "metadata": {},
   "outputs": [],
   "source": [
    "import sys"
   ]
  },
  {
   "cell_type": "code",
   "execution_count": 10,
   "id": "e12abd41-bec7-4b7c-8a86-57a716e2a309",
   "metadata": {},
   "outputs": [
    {
     "name": "stdout",
     "output_type": "stream",
     "text": [
      "could not copnvert data to an integer\n"
     ]
    }
   ],
   "source": [
    "try:\n",
    "    f=open('myfile.txt')\n",
    "    s=f.readline()\n",
    "    i=int(s.strip())\n",
    "except OSError as err:\n",
    "    print('os error :',err )\n",
    "except ValueError:\n",
    "    print('could not copnvert data to an integer')\n",
    "except Exception as err:\n",
    "    print(f'unexcpected {err=} , {type(err)=}')\n",
    "    raise"
   ]
  },
  {
   "cell_type": "code",
   "execution_count": 11,
   "id": "9572e2b9-4a6f-4da6-ac26-a692844b3783",
   "metadata": {},
   "outputs": [
    {
     "ename": "NameError",
     "evalue": "hii there",
     "output_type": "error",
     "traceback": [
      "\u001b[0;31m---------------------------------------------------------------------------\u001b[0m",
      "\u001b[0;31mNameError\u001b[0m                                 Traceback (most recent call last)",
      "Cell \u001b[0;32mIn[11], line 1\u001b[0m\n\u001b[0;32m----> 1\u001b[0m \u001b[38;5;28;01mraise\u001b[39;00m \u001b[38;5;167;01mNameError\u001b[39;00m(\u001b[38;5;124m'\u001b[39m\u001b[38;5;124mhii there\u001b[39m\u001b[38;5;124m'\u001b[39m)\n",
      "\u001b[0;31mNameError\u001b[0m: hii there"
     ]
    }
   ],
   "source": [
    "raise NameError('hii there')"
   ]
  },
  {
   "cell_type": "code",
   "execution_count": 12,
   "id": "c0aac7fc-c955-453c-a185-1ef0bd2b07d6",
   "metadata": {},
   "outputs": [
    {
     "ename": "ValueError",
     "evalue": "",
     "output_type": "error",
     "traceback": [
      "\u001b[0;31m---------------------------------------------------------------------------\u001b[0m",
      "\u001b[0;31mValueError\u001b[0m                                Traceback (most recent call last)",
      "Cell \u001b[0;32mIn[12], line 1\u001b[0m\n\u001b[0;32m----> 1\u001b[0m \u001b[38;5;28;01mraise\u001b[39;00m \u001b[38;5;167;01mValueError\u001b[39;00m()\n",
      "\u001b[0;31mValueError\u001b[0m: "
     ]
    }
   ],
   "source": [
    "raise ValueError()"
   ]
  },
  {
   "cell_type": "code",
   "execution_count": 13,
   "id": "af29b8ce-3cf0-4cab-a070-c13cfb8d77a4",
   "metadata": {},
   "outputs": [
    {
     "name": "stdout",
     "output_type": "stream",
     "text": [
      "an exception flew by ! \n"
     ]
    },
    {
     "ename": "NameError",
     "evalue": "hiii there",
     "output_type": "error",
     "traceback": [
      "\u001b[0;31m---------------------------------------------------------------------------\u001b[0m",
      "\u001b[0;31mNameError\u001b[0m                                 Traceback (most recent call last)",
      "Cell \u001b[0;32mIn[13], line 2\u001b[0m\n\u001b[1;32m      1\u001b[0m \u001b[38;5;28;01mtry\u001b[39;00m:\n\u001b[0;32m----> 2\u001b[0m     \u001b[38;5;28;01mraise\u001b[39;00m \u001b[38;5;167;01mNameError\u001b[39;00m(\u001b[38;5;124m'\u001b[39m\u001b[38;5;124mhiii there\u001b[39m\u001b[38;5;124m'\u001b[39m)\n\u001b[1;32m      3\u001b[0m \u001b[38;5;28;01mexcept\u001b[39;00m \u001b[38;5;167;01mNameError\u001b[39;00m:\n\u001b[1;32m      4\u001b[0m     \u001b[38;5;28mprint\u001b[39m(\u001b[38;5;124m'\u001b[39m\u001b[38;5;124man exception flew by ! \u001b[39m\u001b[38;5;124m'\u001b[39m)\n",
      "\u001b[0;31mNameError\u001b[0m: hiii there"
     ]
    }
   ],
   "source": [
    "try:\n",
    "    raise NameError('hiii there')\n",
    "except NameError:\n",
    "    print('an exception flew by ! ')\n",
    "    raise"
   ]
  },
  {
   "cell_type": "code",
   "execution_count": 17,
   "id": "ebc22245-e2de-4578-81a5-0d81ad30dd77",
   "metadata": {},
   "outputs": [
    {
     "ename": "NameError",
     "evalue": "name 'OSErroe' is not defined",
     "output_type": "error",
     "traceback": [
      "\u001b[0;31m---------------------------------------------------------------------------\u001b[0m",
      "\u001b[0;31mFileNotFoundError\u001b[0m                         Traceback (most recent call last)",
      "Cell \u001b[0;32mIn[17], line 2\u001b[0m\n\u001b[1;32m      1\u001b[0m \u001b[38;5;28;01mtry\u001b[39;00m:\n\u001b[0;32m----> 2\u001b[0m     \u001b[38;5;28;43mopen\u001b[39;49m\u001b[43m(\u001b[49m\u001b[38;5;124;43m'\u001b[39;49m\u001b[38;5;124;43mmyfilesd.txt\u001b[39;49m\u001b[38;5;124;43m'\u001b[39;49m\u001b[43m)\u001b[49m\n\u001b[1;32m      3\u001b[0m \u001b[38;5;28;01mexcept\u001b[39;00m OSErroe:\n",
      "File \u001b[0;32m~/.config/jupyterlab-desktop/jlab_server/lib/python3.12/site-packages/IPython/core/interactiveshell.py:324\u001b[0m, in \u001b[0;36m_modified_open\u001b[0;34m(file, *args, **kwargs)\u001b[0m\n\u001b[1;32m    318\u001b[0m     \u001b[38;5;28;01mraise\u001b[39;00m \u001b[38;5;167;01mValueError\u001b[39;00m(\n\u001b[1;32m    319\u001b[0m         \u001b[38;5;124mf\u001b[39m\u001b[38;5;124m\"\u001b[39m\u001b[38;5;124mIPython won\u001b[39m\u001b[38;5;124m'\u001b[39m\u001b[38;5;124mt let you open fd=\u001b[39m\u001b[38;5;132;01m{\u001b[39;00mfile\u001b[38;5;132;01m}\u001b[39;00m\u001b[38;5;124m by default \u001b[39m\u001b[38;5;124m\"\u001b[39m\n\u001b[1;32m    320\u001b[0m         \u001b[38;5;124m\"\u001b[39m\u001b[38;5;124mas it is likely to crash IPython. If you know what you are doing, \u001b[39m\u001b[38;5;124m\"\u001b[39m\n\u001b[1;32m    321\u001b[0m         \u001b[38;5;124m\"\u001b[39m\u001b[38;5;124myou can use builtins\u001b[39m\u001b[38;5;124m'\u001b[39m\u001b[38;5;124m open.\u001b[39m\u001b[38;5;124m\"\u001b[39m\n\u001b[1;32m    322\u001b[0m     )\n\u001b[0;32m--> 324\u001b[0m \u001b[38;5;28;01mreturn\u001b[39;00m \u001b[43mio_open\u001b[49m\u001b[43m(\u001b[49m\u001b[43mfile\u001b[49m\u001b[43m,\u001b[49m\u001b[43m \u001b[49m\u001b[38;5;241;43m*\u001b[39;49m\u001b[43margs\u001b[49m\u001b[43m,\u001b[49m\u001b[43m \u001b[49m\u001b[38;5;241;43m*\u001b[39;49m\u001b[38;5;241;43m*\u001b[39;49m\u001b[43mkwargs\u001b[49m\u001b[43m)\u001b[49m\n",
      "\u001b[0;31mFileNotFoundError\u001b[0m: [Errno 2] No such file or directory: 'myfilesd.txt'",
      "\nDuring handling of the above exception, another exception occurred:\n",
      "\u001b[0;31mNameError\u001b[0m                                 Traceback (most recent call last)",
      "Cell \u001b[0;32mIn[17], line 3\u001b[0m\n\u001b[1;32m      1\u001b[0m \u001b[38;5;28;01mtry\u001b[39;00m:\n\u001b[1;32m      2\u001b[0m     \u001b[38;5;28mopen\u001b[39m(\u001b[38;5;124m'\u001b[39m\u001b[38;5;124mmyfilesd.txt\u001b[39m\u001b[38;5;124m'\u001b[39m)\n\u001b[0;32m----> 3\u001b[0m \u001b[38;5;28;01mexcept\u001b[39;00m \u001b[43mOSErroe\u001b[49m:\n\u001b[1;32m      4\u001b[0m     \u001b[38;5;28;01mraise\u001b[39;00m \u001b[38;5;167;01mRuntimeError\u001b[39;00m(\u001b[38;5;124m'\u001b[39m\u001b[38;5;124munable to handle error\u001b[39m\u001b[38;5;124m'\u001b[39m)\n",
      "\u001b[0;31mNameError\u001b[0m: name 'OSErroe' is not defined"
     ]
    }
   ],
   "source": [
    "try:\n",
    "    open('myfilesd.txt')\n",
    "except OSErroe:\n",
    "    raise RuntimeError('unable to handle error')\n"
   ]
  },
  {
   "cell_type": "code",
   "execution_count": 18,
   "id": "fb2c6d39-1376-4e52-a8f8-5fc1cdd5e402",
   "metadata": {},
   "outputs": [
    {
     "ename": "RuntimeError",
     "evalue": "failed to open database",
     "output_type": "error",
     "traceback": [
      "\u001b[0;31m---------------------------------------------------------------------------\u001b[0m",
      "\u001b[0;31mConnectionError\u001b[0m                           Traceback (most recent call last)",
      "Cell \u001b[0;32mIn[18], line 5\u001b[0m\n\u001b[1;32m      4\u001b[0m \u001b[38;5;28;01mtry\u001b[39;00m:\n\u001b[0;32m----> 5\u001b[0m     \u001b[43mfunc\u001b[49m\u001b[43m(\u001b[49m\u001b[43m)\u001b[49m\n\u001b[1;32m      6\u001b[0m \u001b[38;5;28;01mexcept\u001b[39;00m \u001b[38;5;167;01mConnectionError\u001b[39;00m \u001b[38;5;28;01mas\u001b[39;00m exc:\n",
      "Cell \u001b[0;32mIn[18], line 2\u001b[0m, in \u001b[0;36mfunc\u001b[0;34m()\u001b[0m\n\u001b[1;32m      1\u001b[0m \u001b[38;5;28;01mdef\u001b[39;00m \u001b[38;5;21mfunc\u001b[39m():\n\u001b[0;32m----> 2\u001b[0m     \u001b[38;5;28;01mraise\u001b[39;00m \u001b[38;5;167;01mConnectionError\u001b[39;00m\n",
      "\u001b[0;31mConnectionError\u001b[0m: ",
      "\nThe above exception was the direct cause of the following exception:\n",
      "\u001b[0;31mRuntimeError\u001b[0m                              Traceback (most recent call last)",
      "Cell \u001b[0;32mIn[18], line 7\u001b[0m\n\u001b[1;32m      5\u001b[0m     func()\n\u001b[1;32m      6\u001b[0m \u001b[38;5;28;01mexcept\u001b[39;00m \u001b[38;5;167;01mConnectionError\u001b[39;00m \u001b[38;5;28;01mas\u001b[39;00m exc:\n\u001b[0;32m----> 7\u001b[0m     \u001b[38;5;28;01mraise\u001b[39;00m \u001b[38;5;167;01mRuntimeError\u001b[39;00m(\u001b[38;5;124m'\u001b[39m\u001b[38;5;124mfailed to open database\u001b[39m\u001b[38;5;124m'\u001b[39m) \u001b[38;5;28;01mfrom\u001b[39;00m \u001b[38;5;21;01mexc\u001b[39;00m\n",
      "\u001b[0;31mRuntimeError\u001b[0m: failed to open database"
     ]
    }
   ],
   "source": [
    "def func():\n",
    "    raise ConnectionError\n",
    "\n",
    "try:\n",
    "    func()\n",
    "except ConnectionError as exc:\n",
    "    raise RuntimeError('failed to open database') from exc"
   ]
  },
  {
   "cell_type": "code",
   "execution_count": 19,
   "id": "db04b898-3907-46e1-ab8d-2982e53017cc",
   "metadata": {},
   "outputs": [
    {
     "ename": "NameError",
     "evalue": "name 'Runtimerror' is not defined",
     "output_type": "error",
     "traceback": [
      "\u001b[0;31m---------------------------------------------------------------------------\u001b[0m",
      "\u001b[0;31mFileNotFoundError\u001b[0m                         Traceback (most recent call last)",
      "Cell \u001b[0;32mIn[19], line 2\u001b[0m\n\u001b[1;32m      1\u001b[0m \u001b[38;5;28;01mtry\u001b[39;00m:\n\u001b[0;32m----> 2\u001b[0m     \u001b[38;5;28;43mopen\u001b[39;49m\u001b[43m(\u001b[49m\u001b[38;5;124;43m'\u001b[39;49m\u001b[38;5;124;43mdatabase.sqlite\u001b[39;49m\u001b[38;5;124;43m'\u001b[39;49m\u001b[43m)\u001b[49m\n\u001b[1;32m      3\u001b[0m \u001b[38;5;28;01mexcept\u001b[39;00m \u001b[38;5;167;01mOSError\u001b[39;00m:\n",
      "File \u001b[0;32m~/.config/jupyterlab-desktop/jlab_server/lib/python3.12/site-packages/IPython/core/interactiveshell.py:324\u001b[0m, in \u001b[0;36m_modified_open\u001b[0;34m(file, *args, **kwargs)\u001b[0m\n\u001b[1;32m    318\u001b[0m     \u001b[38;5;28;01mraise\u001b[39;00m \u001b[38;5;167;01mValueError\u001b[39;00m(\n\u001b[1;32m    319\u001b[0m         \u001b[38;5;124mf\u001b[39m\u001b[38;5;124m\"\u001b[39m\u001b[38;5;124mIPython won\u001b[39m\u001b[38;5;124m'\u001b[39m\u001b[38;5;124mt let you open fd=\u001b[39m\u001b[38;5;132;01m{\u001b[39;00mfile\u001b[38;5;132;01m}\u001b[39;00m\u001b[38;5;124m by default \u001b[39m\u001b[38;5;124m\"\u001b[39m\n\u001b[1;32m    320\u001b[0m         \u001b[38;5;124m\"\u001b[39m\u001b[38;5;124mas it is likely to crash IPython. If you know what you are doing, \u001b[39m\u001b[38;5;124m\"\u001b[39m\n\u001b[1;32m    321\u001b[0m         \u001b[38;5;124m\"\u001b[39m\u001b[38;5;124myou can use builtins\u001b[39m\u001b[38;5;124m'\u001b[39m\u001b[38;5;124m open.\u001b[39m\u001b[38;5;124m\"\u001b[39m\n\u001b[1;32m    322\u001b[0m     )\n\u001b[0;32m--> 324\u001b[0m \u001b[38;5;28;01mreturn\u001b[39;00m \u001b[43mio_open\u001b[49m\u001b[43m(\u001b[49m\u001b[43mfile\u001b[49m\u001b[43m,\u001b[49m\u001b[43m \u001b[49m\u001b[38;5;241;43m*\u001b[39;49m\u001b[43margs\u001b[49m\u001b[43m,\u001b[49m\u001b[43m \u001b[49m\u001b[38;5;241;43m*\u001b[39;49m\u001b[38;5;241;43m*\u001b[39;49m\u001b[43mkwargs\u001b[49m\u001b[43m)\u001b[49m\n",
      "\u001b[0;31mFileNotFoundError\u001b[0m: [Errno 2] No such file or directory: 'database.sqlite'",
      "\nDuring handling of the above exception, another exception occurred:\n",
      "\u001b[0;31mNameError\u001b[0m                                 Traceback (most recent call last)",
      "Cell \u001b[0;32mIn[19], line 4\u001b[0m\n\u001b[1;32m      2\u001b[0m     \u001b[38;5;28mopen\u001b[39m(\u001b[38;5;124m'\u001b[39m\u001b[38;5;124mdatabase.sqlite\u001b[39m\u001b[38;5;124m'\u001b[39m)\n\u001b[1;32m      3\u001b[0m \u001b[38;5;28;01mexcept\u001b[39;00m \u001b[38;5;167;01mOSError\u001b[39;00m:\n\u001b[0;32m----> 4\u001b[0m     \u001b[38;5;28;01mraise\u001b[39;00m \u001b[43mRuntimerror\u001b[49m \u001b[38;5;28;01mfrom\u001b[39;00m \u001b[38;5;28;01mNone\u001b[39;00m\n",
      "\u001b[0;31mNameError\u001b[0m: name 'Runtimerror' is not defined"
     ]
    }
   ],
   "source": [
    "try:\n",
    "    open('database.sqlite')\n",
    "except OSError:\n",
    "    raise Runtimerror from None"
   ]
  },
  {
   "cell_type": "code",
   "execution_count": null,
   "id": "0cf7d226-31b8-431d-ab6f-f4a6ff32af30",
   "metadata": {},
   "outputs": [],
   "source": [
    "try\n",
    "except\n",
    "else\n",
    "finally"
   ]
  },
  {
   "cell_type": "code",
   "execution_count": 20,
   "id": "eb948c04-3790-4271-a968-693c1c5cd272",
   "metadata": {},
   "outputs": [
    {
     "ename": "SyntaxError",
     "evalue": "'return' outside function (1211016649.py, line 1)",
     "output_type": "error",
     "traceback": [
      "\u001b[0;36m  Cell \u001b[0;32mIn[20], line 1\u001b[0;36m\u001b[0m\n\u001b[0;31m    return 'datacamp'\u001b[0m\n\u001b[0m    ^\u001b[0m\n\u001b[0;31mSyntaxError\u001b[0m\u001b[0;31m:\u001b[0m 'return' outside function\n"
     ]
    }
   ],
   "source": [
    "return 'datacamp'"
   ]
  },
  {
   "cell_type": "code",
   "execution_count": 21,
   "id": "29fe5d49-8526-4d4f-b03c-a4043b57fc42",
   "metadata": {},
   "outputs": [
    {
     "ename": "IndentationError",
     "evalue": "expected an indented block after function definition on line 1 (769266011.py, line 2)",
     "output_type": "error",
     "traceback": [
      "\u001b[0;36m  Cell \u001b[0;32mIn[21], line 2\u001b[0;36m\u001b[0m\n\u001b[0;31m    return 'datacamp'\u001b[0m\n\u001b[0m    ^\u001b[0m\n\u001b[0;31mIndentationError\u001b[0m\u001b[0;31m:\u001b[0m expected an indented block after function definition on line 1\n"
     ]
    }
   ],
   "source": [
    "def fun():\n",
    "return 'datacamp'"
   ]
  },
  {
   "cell_type": "code",
   "execution_count": 22,
   "id": "ac51bb6d-55ad-4636-8bd2-78320cfe3b0a",
   "metadata": {},
   "outputs": [
    {
     "ename": "ZeroDivisionError",
     "evalue": "division by zero",
     "output_type": "error",
     "traceback": [
      "\u001b[0;31m---------------------------------------------------------------------------\u001b[0m",
      "\u001b[0;31mZeroDivisionError\u001b[0m                         Traceback (most recent call last)",
      "Cell \u001b[0;32mIn[22], line 1\u001b[0m\n\u001b[0;32m----> 1\u001b[0m test\u001b[38;5;241m=\u001b[39m \u001b[38;5;241;43m1\u001b[39;49m\u001b[38;5;241;43m/\u001b[39;49m\u001b[38;5;241;43m0\u001b[39;49m\n",
      "\u001b[0;31mZeroDivisionError\u001b[0m: division by zero"
     ]
    }
   ],
   "source": [
    "test= 1/0"
   ]
  },
  {
   "cell_type": "code",
   "execution_count": 23,
   "id": "67e145aa-727d-46b8-a9bf-7fe4cebe4154",
   "metadata": {},
   "outputs": [
    {
     "ename": "NameError",
     "evalue": "name 'test' is not defined",
     "output_type": "error",
     "traceback": [
      "\u001b[0;31m---------------------------------------------------------------------------\u001b[0m",
      "\u001b[0;31mNameError\u001b[0m                                 Traceback (most recent call last)",
      "Cell \u001b[0;32mIn[23], line 1\u001b[0m\n\u001b[0;32m----> 1\u001b[0m y\u001b[38;5;241m=\u001b[39m\u001b[43mtest\u001b[49m\n",
      "\u001b[0;31mNameError\u001b[0m: name 'test' is not defined"
     ]
    }
   ],
   "source": [
    "y=test"
   ]
  },
  {
   "cell_type": "code",
   "execution_count": null,
   "id": "800bf49d-b6a4-469a-999e-1c8de4dc465a",
   "metadata": {},
   "outputs": [],
   "source": [
    "try- run the code under try\n",
    "\n",
    "except - when there is an exception, execute the code under except"
   ]
  },
  {
   "cell_type": "code",
   "execution_count": 25,
   "id": "8225e1e5-54e2-443b-a442-d1fc71965e11",
   "metadata": {},
   "outputs": [
    {
     "name": "stdout",
     "output_type": "stream",
     "text": [
      "an exception has occurred ! \n"
     ]
    }
   ],
   "source": [
    "try:\n",
    "    print(p)\n",
    "except:\n",
    "    print('an exception has occurred ! ')"
   ]
  },
  {
   "cell_type": "code",
   "execution_count": 31,
   "id": "96b0c072-b631-4301-a179-31fb10b8e136",
   "metadata": {},
   "outputs": [
    {
     "name": "stdout",
     "output_type": "stream",
     "text": [
      "you cannot divide a value with zero\n"
     ]
    }
   ],
   "source": [
    "try:\n",
    "    print(12/0)\n",
    "except ZeroDivisionError:\n",
    "    print('you cannot divide a value with zero')\n",
    "except:\n",
    "    print('something else went wrong')"
   ]
  },
  {
   "cell_type": "code",
   "execution_count": 33,
   "id": "e199f111-e884-479d-8c61-186167b87db9",
   "metadata": {},
   "outputs": [
    {
     "name": "stdout",
     "output_type": "stream",
     "text": [
      "[Errno 2] No such file or directory: 'data.csv'\n",
      "explanation : we cannot load the \"data.csv\" file\n"
     ]
    }
   ],
   "source": [
    "try:\n",
    "    with open('data.csv') as file:\n",
    "              read_data=file.read()\n",
    "except FileNotFoundError as fn:\n",
    "    print(fn)\n",
    "    print('explanation : we cannot load the \"data.csv\" file')"
   ]
  },
  {
   "cell_type": "code",
   "execution_count": null,
   "id": "ee8cfff1-01bb-4bf7-9d67-d47e635ac277",
   "metadata": {},
   "outputs": [],
   "source": [
    "try = run the code under try\n",
    "except - when there is an exception, execute the code under except\n",
    "else - when there is no exception , execute the code under else after try"
   ]
  },
  {
   "cell_type": "code",
   "execution_count": 34,
   "id": "9fdcc932-6ae5-4b90-880a-6d265219f284",
   "metadata": {},
   "outputs": [
    {
     "name": "stdout",
     "output_type": "stream",
     "text": [
      "your answer is 0.3333333333333333\n"
     ]
    }
   ],
   "source": [
    "try:\n",
    "    result = 1/3\n",
    "except ZeroDivisionError as err:\n",
    "    print(err)\n",
    "else:\n",
    "    print(f'your answer is {result}')"
   ]
  },
  {
   "cell_type": "code",
   "execution_count": 38,
   "id": "e932680c-435f-4fae-a664-f83efa79de1b",
   "metadata": {},
   "outputs": [
    {
     "name": "stdout",
     "output_type": "stream",
     "text": [
      "your answer is  9\n"
     ]
    }
   ],
   "source": [
    "x= [5,8,9,13]\n",
    "\n",
    "def find_nth_value(x,n):\n",
    "    try:\n",
    "        result=x[n]\n",
    "    except IndexError as err:\n",
    "        print(err)\n",
    "    else:\n",
    "        print('your answer is ', result)\n",
    "\n",
    "find_nth_value(x,2)"
   ]
  },
  {
   "cell_type": "code",
   "execution_count": null,
   "id": "644a896c-b9cf-41ac-9b86-76ed396ad581",
   "metadata": {},
   "outputs": [],
   "source": [
    "finally - alsways run the code finally. no matter what this block awill always run."
   ]
  },
  {
   "cell_type": "code",
   "execution_count": 40,
   "id": "ed495d76-7764-4028-ba37-1fefc11cfcfe",
   "metadata": {},
   "outputs": [
    {
     "ename": "IndentationError",
     "evalue": "unindent does not match any outer indentation level (<string>, line 15)",
     "output_type": "error",
     "traceback": [
      "\u001b[0;36m  File \u001b[0;32m<string>:15\u001b[0;36m\u001b[0m\n\u001b[0;31m    finally:\u001b[0m\n\u001b[0m            ^\u001b[0m\n\u001b[0;31mIndentationError\u001b[0m\u001b[0;31m:\u001b[0m unindent does not match any outer indentation level\n"
     ]
    }
   ],
   "source": [
    "def divide(x,y):\n",
    "    try:\n",
    "        value=50\n",
    "        x.append(value)\n",
    "    except AttributeError as atr_err:\n",
    "        print(atr_err)\n",
    "\n",
    "    else:\n",
    "        try:\n",
    "            result = [ i/y for i in x]\n",
    "            print(result)\n",
    "except ZeroDivisionError:\n",
    "            print('please change 'y' argument to non-zero value')\n",
    "\n",
    "    finally:\n",
    "        print('hello jinal')\n"
   ]
  },
  {
   "cell_type": "code",
   "execution_count": 43,
   "id": "1a76e02c-7732-4077-a380-d37f939666f0",
   "metadata": {},
   "outputs": [
    {
     "ename": "SyntaxError",
     "evalue": "expected 'except' or 'finally' block (2237938711.py, line 14)",
     "output_type": "error",
     "traceback": [
      "\u001b[0;36m  Cell \u001b[0;32mIn[43], line 14\u001b[0;36m\u001b[0m\n\u001b[0;31m    except ZeroDivisionError:\u001b[0m\n\u001b[0m    ^\u001b[0m\n\u001b[0;31mSyntaxError\u001b[0m\u001b[0;31m:\u001b[0m expected 'except' or 'finally' block\n"
     ]
    }
   ],
   "source": [
    "def divide(x,y):\n",
    "    \n",
    "    try:\n",
    "        value = 50\n",
    "        x.append(value)\n",
    "    \n",
    "    except AttributeError as atr_err:\n",
    "        print(atr_err)\n",
    "        \n",
    "    else:\n",
    "        try:\n",
    "            result = [i / y for i in x]\n",
    "            print( result )\n",
    "    except ZeroDivisionError:\n",
    "            print(\"Please change 'y' argument to non-zero value\")\n",
    "\n",
    "    finally:\n",
    "        print(\"\\033[92m Code by DataCamp\\033[00m\")"
   ]
  },
  {
   "cell_type": "code",
   "execution_count": 44,
   "id": "79fa3de6-90fe-4ee4-b1b9-2463e592b6dc",
   "metadata": {},
   "outputs": [],
   "source": [
    "def exgroup():\n",
    "    ex_gr= ExceptionGroup('exception message !',\n",
    "                         [FileNotFoundError ('this file is not found'),\n",
    "                         ValueError('invalid value Provided'),\n",
    "                         ZeroDivisionError('trying to divide by 0')])\n",
    "    raise ex_gr"
   ]
  },
  {
   "cell_type": "code",
   "execution_count": 46,
   "id": "83a69a0e-ac7e-4413-b4b1-839453945c2b",
   "metadata": {},
   "outputs": [
    {
     "name": "stderr",
     "output_type": "stream",
     "text": [
      "  + Exception Group Traceback (most recent call last):\n",
      "  |   File \"/home/synchronized/.config/jupyterlab-desktop/jlab_server/lib/python3.12/site-packages/IPython/core/interactiveshell.py\", line 3577, in run_code\n",
      "  |     exec(code_obj, self.user_global_ns, self.user_ns)\n",
      "  |   File \"/tmp/ipykernel_4782/3771874629.py\", line 1, in <module>\n",
      "  |     exgroup()\n",
      "  |   File \"/tmp/ipykernel_4782/2037209825.py\", line 6, in exgroup\n",
      "  |     raise ex_gr\n",
      "  | ExceptionGroup: exception message ! (3 sub-exceptions)\n",
      "  +-+---------------- 1 ----------------\n",
      "    | FileNotFoundError: this file is not found\n",
      "    +---------------- 2 ----------------\n",
      "    | ValueError: invalid value Provided\n",
      "    +---------------- 3 ----------------\n",
      "    | ZeroDivisionError: trying to divide by 0\n",
      "    +------------------------------------\n"
     ]
    }
   ],
   "source": [
    "exgroup()"
   ]
  },
  {
   "cell_type": "code",
   "execution_count": 47,
   "id": "f579fe6d-6439-4e8e-beb3-af0554294995",
   "metadata": {},
   "outputs": [
    {
     "data": {
      "text/plain": [
       "False"
      ]
     },
     "execution_count": 47,
     "metadata": {},
     "output_type": "execute_result"
    }
   ],
   "source": [
    "def bool_return():\n",
    "    try:\n",
    "        return True\n",
    "    finally:\n",
    "        return False\n",
    "\n",
    "bool_return()"
   ]
  },
  {
   "cell_type": "code",
   "execution_count": 48,
   "id": "80fb042c-10b6-4f9d-b393-2dfeedd65e2b",
   "metadata": {},
   "outputs": [],
   "source": [
    "def divide(x,y):\n",
    "    try:\n",
    "        result= x/y\n",
    "    except ZeroDivisionError:\n",
    "        print('division by zero !')\n",
    "    else:\n",
    "        print('result is' , result)\n",
    "    finally:\n",
    "        print('executing finally clause')"
   ]
  },
  {
   "cell_type": "code",
   "execution_count": 49,
   "id": "de3cb2c4-85a8-4640-b193-7879a369e68e",
   "metadata": {},
   "outputs": [
    {
     "name": "stdout",
     "output_type": "stream",
     "text": [
      "result is 2.0\n",
      "executing finally clause\n"
     ]
    }
   ],
   "source": [
    "divide(2,1)"
   ]
  },
  {
   "cell_type": "code",
   "execution_count": 50,
   "id": "164a4652-eedb-4854-b514-2af69fca82c2",
   "metadata": {},
   "outputs": [
    {
     "name": "stdout",
     "output_type": "stream",
     "text": [
      "division by zero !\n",
      "executing finally clause\n"
     ]
    }
   ],
   "source": [
    "divide(2,0)"
   ]
  },
  {
   "cell_type": "code",
   "execution_count": 51,
   "id": "1e49c3a8-2127-4c01-8cba-c3efeb59ae14",
   "metadata": {},
   "outputs": [
    {
     "name": "stdout",
     "output_type": "stream",
     "text": [
      "executing finally clause\n"
     ]
    },
    {
     "ename": "TypeError",
     "evalue": "unsupported operand type(s) for /: 'str' and 'str'",
     "output_type": "error",
     "traceback": [
      "\u001b[0;31m---------------------------------------------------------------------------\u001b[0m",
      "\u001b[0;31mTypeError\u001b[0m                                 Traceback (most recent call last)",
      "Cell \u001b[0;32mIn[51], line 1\u001b[0m\n\u001b[0;32m----> 1\u001b[0m \u001b[43mdivide\u001b[49m\u001b[43m(\u001b[49m\u001b[38;5;124;43m'\u001b[39;49m\u001b[38;5;124;43m2\u001b[39;49m\u001b[38;5;124;43m'\u001b[39;49m\u001b[43m,\u001b[49m\u001b[38;5;124;43m'\u001b[39;49m\u001b[38;5;124;43m1\u001b[39;49m\u001b[38;5;124;43m'\u001b[39;49m\u001b[43m)\u001b[49m\n",
      "Cell \u001b[0;32mIn[48], line 3\u001b[0m, in \u001b[0;36mdivide\u001b[0;34m(x, y)\u001b[0m\n\u001b[1;32m      1\u001b[0m \u001b[38;5;28;01mdef\u001b[39;00m \u001b[38;5;21mdivide\u001b[39m(x,y):\n\u001b[1;32m      2\u001b[0m     \u001b[38;5;28;01mtry\u001b[39;00m:\n\u001b[0;32m----> 3\u001b[0m         result\u001b[38;5;241m=\u001b[39m \u001b[43mx\u001b[49m\u001b[38;5;241;43m/\u001b[39;49m\u001b[43my\u001b[49m\n\u001b[1;32m      4\u001b[0m     \u001b[38;5;28;01mexcept\u001b[39;00m \u001b[38;5;167;01mZeroDivisionError\u001b[39;00m:\n\u001b[1;32m      5\u001b[0m         \u001b[38;5;28mprint\u001b[39m(\u001b[38;5;124m'\u001b[39m\u001b[38;5;124mdivision by zero !\u001b[39m\u001b[38;5;124m'\u001b[39m)\n",
      "\u001b[0;31mTypeError\u001b[0m: unsupported operand type(s) for /: 'str' and 'str'"
     ]
    }
   ],
   "source": [
    "divide('2','1')"
   ]
  },
  {
   "cell_type": "code",
   "execution_count": 52,
   "id": "e08114bd-b888-46e4-993a-49675f197f87",
   "metadata": {},
   "outputs": [
    {
     "name": "stdout",
     "output_type": "stream",
     "text": [
      "asdjsadgbhbsd\n",
      " dsa\n",
      " helo jinal "
     ]
    }
   ],
   "source": [
    "for line in open('myfile.txt'):\n",
    "    print(line,end=' ')"
   ]
  },
  {
   "cell_type": "code",
   "execution_count": 127,
   "id": "d6aa1932-ee7d-4a0f-a201-9de578406a2c",
   "metadata": {},
   "outputs": [
    {
     "name": "stdout",
     "output_type": "stream",
     "text": [
      "5\n"
     ]
    }
   ],
   "source": [
    "''' 6. Maximum length work in string:\n",
    "\n",
    "\ts = \"This is a python language\"\n",
    "\t\n",
    "\tresult: 8\n",
    "\t\n",
    "'''\n",
    "\n",
    "count= 0\n",
    "s= 'this is a python language'\n",
    "m=s.split()\n",
    "for char in m:\n",
    "    count+=1\n",
    "print(count)\n"
   ]
  },
  {
   "cell_type": "code",
   "execution_count": 95,
   "id": "5e888bc5-1ae4-4734-a4b2-ae45f1f53147",
   "metadata": {},
   "outputs": [
    {
     "name": "stdout",
     "output_type": "stream",
     "text": [
      "a\n"
     ]
    }
   ],
   "source": [
    "''' 7. Maximum Number of repeaing character in a pair of string\n",
    "\n",
    "\tstr1 = 'abcdefaaf'\n",
    "\t\n",
    "\t\n",
    "\tresult: a\n",
    "\t\t'''\n",
    "def fre_count(str1):\n",
    "   \n",
    "    char_count={}\n",
    "    for i in str1:\n",
    "        if i in char_count:\n",
    "            char_count[i]+=1\n",
    "        else:\n",
    "            char_count[i]=1\n",
    "    return char_count\n",
    "\n",
    "str1= 'abcdefaaf'\n",
    "m=fre_count(str1)\n",
    "\n",
    "max_key=None\n",
    "max_value=None\n",
    "\n",
    "for key,value in m.items():\n",
    "    if max_value is None or value>max_value:\n",
    "        max_value=value\n",
    "        max_key=key\n",
    "\n",
    "print(max_key)"
   ]
  },
  {
   "cell_type": "code",
   "execution_count": 104,
   "id": "e2457b8b-3f97-4eed-8df8-1db9054f3545",
   "metadata": {},
   "outputs": [
    {
     "name": "stdout",
     "output_type": "stream",
     "text": [
      "b\n"
     ]
    }
   ],
   "source": [
    "''' 7. Minimum Number of repeating character in a pair of string\n",
    "\n",
    "\tstr1 = 'abcdefaaf'\n",
    "\t\n",
    "\t\n",
    "\tresult: b'''\n",
    "\n",
    "\n",
    "\n",
    "def frequency_count(str1):\n",
    "    count={}\n",
    "    for i in str1:\n",
    "        if i in count:\n",
    "            count[i]+=1\n",
    "        else:\n",
    "            count[i]=1\n",
    "    return count\n",
    "\n",
    "str1='abcdefaaf'\n",
    "m1=frequency_count(str1)\n",
    "min_key=None\n",
    "min_value=None\n",
    "\n",
    "for key,value in m1.items():\n",
    "    if min_value is None or value < min_value:\n",
    "        min_value=value\n",
    "        min_key=key\n",
    "\n",
    "print(min_key)"
   ]
  },
  {
   "cell_type": "code",
   "execution_count": 113,
   "id": "a009c34a-0eb5-4445-801a-2fec6ca09092",
   "metadata": {},
   "outputs": [
    {
     "name": "stdout",
     "output_type": "stream",
     "text": [
      "True\n",
      "False\n"
     ]
    }
   ],
   "source": [
    "''' 8. Test if string is subset of another\n",
    "\t\n",
    "\ttest_str1 = \"geeksforgeeks\"\n",
    "\ttest_str2 = \"gfks\"\n",
    "\t\n",
    "\tresult:\n",
    "\t\ttrue\n",
    "\t\n",
    "\ttest_str1 = \"geeksforgeeks\"\n",
    "\ttest_str2 = \"gfpks\"\n",
    "\t\n",
    "\tresult:\n",
    "\t\tfalse '''\n",
    "\n",
    "\n",
    "\n",
    "test_str1= 'geeksforgeeks'\n",
    "test_str2='gfks'\n",
    "\n",
    "def is_subset(str1,str2):\n",
    "    s=set(str1)\n",
    "    s1=set(str2)\n",
    "    return s1.issubset(s)\n",
    "\n",
    "print(is_subset(test_str1,test_str2))\n",
    "\n",
    "test1 = \"geeksforgeeks\"\n",
    "test2 = \"gfpks\"\n",
    "\n",
    "print(is_subset(test1,test2))"
   ]
  },
  {
   "cell_type": "code",
   "execution_count": 142,
   "id": "6ab82867-5996-49ab-b8c1-8c112e7f0285",
   "metadata": {},
   "outputs": [
    {
     "name": "stdout",
     "output_type": "stream",
     "text": [
      "sum found between 2 and 4\n"
     ]
    }
   ],
   "source": [
    "''' FIND SUBARRAY WITH GIVEN SUM\n",
    "List = [1, 4, 20, 3, 10, 5]\n",
    " \tSum = 33\n",
    " \tResult: True '''\n",
    "\n",
    "\n",
    "def subarray(arr,n,sum):\n",
    "    for i in range(n):\n",
    "        add1=arr[i]\n",
    "        if(add1 ==sum):\n",
    "            print('sum at indexes',i)\n",
    "            return\n",
    "        else:\n",
    "            for j in range(i+1,n):\n",
    "                add1+=arr[j]\n",
    "                if (add1 ==sum):\n",
    "                    print(f'sum found between {i} and {j}')\n",
    "                    return\n",
    "    print('no sub arrary')\n",
    "\n",
    "\n",
    "arr=[1,4,20,3,10,5]\n",
    "n=len(arr)\n",
    "sum=33\n",
    "subarray(arr,n,sum)\n",
    "\n"
   ]
  },
  {
   "cell_type": "code",
   "execution_count": 124,
   "id": "e8160554-75fa-4e1c-9472-b8e50e5686ef",
   "metadata": {},
   "outputs": [
    {
     "name": "stdout",
     "output_type": "stream",
     "text": [
      "yes\n"
     ]
    }
   ],
   "source": [
    "''' 9. Check if a Substring is Present in a Given String\n",
    "\tString=\"geeks for geeks\"\n",
    "\tSubstring = \"geeks\"\n",
    "\t\n",
    "\tresult: Yes\n",
    "\n",
    "\tString=\"geeks for geeks\"\n",
    "\tSubstring = \"geeks\"\n",
    "\t\n",
    "\tresult: Yes\t'''\n",
    "\n",
    "\n",
    "s1= 'geeks for geeks'\n",
    "s2= 'geeks'\n",
    "\n",
    "s1=s1.split()\n",
    "\n",
    "\n",
    "for i in s1:\n",
    "    if i==s2:\n",
    "        print('yes')\n",
    "        break\n",
    "    else:\n",
    "        print('no')"
   ]
  },
  {
   "cell_type": "code",
   "execution_count": 149,
   "id": "9ff4ec0e-5213-43b5-80af-92a79115af76",
   "metadata": {},
   "outputs": [
    {
     "name": "stdout",
     "output_type": "stream",
     "text": [
      "no sub arrary\n"
     ]
    }
   ],
   "source": [
    "''' \n",
    " \tList = [1, 4, 20, 3, 10, 5]\n",
    " \tSum = 8\n",
    " \tResult: True\t\n",
    "'''\n",
    "\n",
    "\n",
    "\n",
    "def subarray(arr,n,sum):\n",
    "    for i in range(n):\n",
    "        add1=arr[i]\n",
    "        if(add1 ==sum):\n",
    "            print('sum at indexes',i)\n",
    "            return\n",
    "        else:\n",
    "            for j in range(i+1,n):\n",
    "                add1+=arr[j]\n",
    "                if (add1 ==sum):\n",
    "                    print(f'sum found between {i} and {j}')\n",
    "                    return\n",
    "    print('no sub arrary')\n",
    "\n",
    "\n",
    "arr=[1,4,20,3,10,5]\n",
    "n=len(arr)\n",
    "sum=8\n",
    "subarray(arr,n,sum)"
   ]
  },
  {
   "cell_type": "code",
   "execution_count": null,
   "id": "4e165729-f358-42ed-a8bd-f103b515a6c7",
   "metadata": {},
   "outputs": [],
   "source": []
  },
  {
   "cell_type": "code",
   "execution_count": null,
   "id": "d4564ed4-a35f-4d15-8e91-261b25e5535d",
   "metadata": {},
   "outputs": [],
   "source": []
  }
 ],
 "metadata": {
  "kernelspec": {
   "display_name": "Python 3 (ipykernel)",
   "language": "python",
   "name": "python3"
  },
  "language_info": {
   "codemirror_mode": {
    "name": "ipython",
    "version": 3
   },
   "file_extension": ".py",
   "mimetype": "text/x-python",
   "name": "python",
   "nbconvert_exporter": "python",
   "pygments_lexer": "ipython3",
   "version": "3.12.3"
  }
 },
 "nbformat": 4,
 "nbformat_minor": 5
}
