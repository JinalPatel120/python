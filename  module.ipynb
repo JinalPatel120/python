{
 "cells": [
  {
   "cell_type": "code",
   "execution_count": 1,
   "id": "a60694e7-8116-49a8-b779-79a420aaaf8d",
   "metadata": {},
   "outputs": [
    {
     "name": "stdout",
     "output_type": "stream",
     "text": [
      "helllo\n"
     ]
    }
   ],
   "source": [
    "print('helllo')"
   ]
  },
  {
   "cell_type": "code",
   "execution_count": 2,
   "id": "82aeb055-bd4e-4cc6-80c2-60bbeb9ade57",
   "metadata": {},
   "outputs": [],
   "source": [
    "import math"
   ]
  },
  {
   "cell_type": "code",
   "execution_count": 4,
   "id": "1315b57c-5893-4510-b0a8-28c23a875c43",
   "metadata": {},
   "outputs": [
    {
     "name": "stdout",
     "output_type": "stream",
     "text": [
      "2.0\n"
     ]
    }
   ],
   "source": [
    "n=4\n",
    "print(math.sqrt(n))"
   ]
  },
  {
   "cell_type": "code",
   "execution_count": 6,
   "id": "71b6d8f3-5d6d-4abc-a23f-d7cff44048a3",
   "metadata": {},
   "outputs": [],
   "source": [
    "def add(x,y):\n",
    "    return x + y\n",
    "\n",
    "def sub(x,y):\n",
    "    return x - y\n",
    "\n",
    "import math"
   ]
  },
  {
   "cell_type": "code",
   "execution_count": 7,
   "id": "724877d5-edc4-40a0-94bd-f6de8923cf85",
   "metadata": {},
   "outputs": [
    {
     "name": "stdout",
     "output_type": "stream",
     "text": [
      "3\n"
     ]
    }
   ],
   "source": [
    "print(add(1,2))  "
   ]
  },
  {
   "cell_type": "code",
   "execution_count": 8,
   "id": "d0a4e08f-cfa9-4852-9bcc-7d41931c0e46",
   "metadata": {},
   "outputs": [
    {
     "name": "stdout",
     "output_type": "stream",
     "text": [
      "-2\n"
     ]
    }
   ],
   "source": [
    "print(sub(4,6))"
   ]
  },
  {
   "cell_type": "code",
   "execution_count": 9,
   "id": "9542c81a-af18-47cb-88cb-4e564019bb86",
   "metadata": {},
   "outputs": [],
   "source": [
    "import sys"
   ]
  },
  {
   "cell_type": "code",
   "execution_count": 10,
   "id": "cdb2dc17-4249-4c3b-8edb-13bb7541ea57",
   "metadata": {},
   "outputs": [
    {
     "name": "stdout",
     "output_type": "stream",
     "text": [
      "['/home/synchronized/.config/jupyterlab-desktop/jlab_server/lib/python312.zip', '/home/synchronized/.config/jupyterlab-desktop/jlab_server/lib/python3.12', '/home/synchronized/.config/jupyterlab-desktop/jlab_server/lib/python3.12/lib-dynload', '', '/home/synchronized/.config/jupyterlab-desktop/jlab_server/lib/python3.12/site-packages']\n"
     ]
    }
   ],
   "source": [
    "print(sys.path)"
   ]
  },
  {
   "cell_type": "code",
   "execution_count": 11,
   "id": "bddd4cae-58e6-4c6e-835d-cf41ed12ae21",
   "metadata": {},
   "outputs": [],
   "source": [
    "import math"
   ]
  },
  {
   "cell_type": "code",
   "execution_count": 13,
   "id": "e022b424-236a-4128-ad57-89deb3b92508",
   "metadata": {},
   "outputs": [
    {
     "name": "stdout",
     "output_type": "stream",
     "text": [
      "['/home/synchronized/.config/jupyterlab-desktop/jlab_server/lib/python312.zip', '/home/synchronized/.config/jupyterlab-desktop/jlab_server/lib/python3.12', '/home/synchronized/.config/jupyterlab-desktop/jlab_server/lib/python3.12/lib-dynload', '', '/home/synchronized/.config/jupyterlab-desktop/jlab_server/lib/python3.12/site-packages']\n"
     ]
    }
   ],
   "source": [
    "print(sys.path)"
   ]
  },
  {
   "cell_type": "code",
   "execution_count": 14,
   "id": "b8b8e6f6-5b7a-4450-b051-7000b742f40b",
   "metadata": {},
   "outputs": [],
   "source": [
    "import mysql.connector\n"
   ]
  },
  {
   "cell_type": "code",
   "execution_count": 15,
   "id": "15f932f5-52bf-4cc3-bf66-3281b7eeb65d",
   "metadata": {},
   "outputs": [
    {
     "name": "stdout",
     "output_type": "stream",
     "text": [
      "Requirement already satisfied: pandas in /home/synchronized/.config/jupyterlab-desktop/jlab_server/lib/python3.12/site-packages (2.2.2)\n",
      "Requirement already satisfied: sqlalchemy in /home/synchronized/.config/jupyterlab-desktop/jlab_server/lib/python3.12/site-packages (2.0.30)\n",
      "Requirement already satisfied: numpy>=1.26.0 in /home/synchronized/.config/jupyterlab-desktop/jlab_server/lib/python3.12/site-packages (from pandas) (1.26.4)\n",
      "Requirement already satisfied: python-dateutil>=2.8.2 in /home/synchronized/.config/jupyterlab-desktop/jlab_server/lib/python3.12/site-packages (from pandas) (2.9.0)\n",
      "Requirement already satisfied: pytz>=2020.1 in /home/synchronized/.config/jupyterlab-desktop/jlab_server/lib/python3.12/site-packages (from pandas) (2024.1)\n",
      "Requirement already satisfied: tzdata>=2022.7 in /home/synchronized/.config/jupyterlab-desktop/jlab_server/lib/python3.12/site-packages (from pandas) (2024.1)\n",
      "Requirement already satisfied: typing-extensions>=4.6.0 in /home/synchronized/.config/jupyterlab-desktop/jlab_server/lib/python3.12/site-packages (from sqlalchemy) (4.11.0)\n",
      "Requirement already satisfied: greenlet!=0.4.17 in /home/synchronized/.config/jupyterlab-desktop/jlab_server/lib/python3.12/site-packages (from sqlalchemy) (3.0.3)\n",
      "Requirement already satisfied: six>=1.5 in /home/synchronized/.config/jupyterlab-desktop/jlab_server/lib/python3.12/site-packages (from python-dateutil>=2.8.2->pandas) (1.16.0)\n"
     ]
    }
   ],
   "source": [
    "!pip install pandas sqlalchemy\n"
   ]
  },
  {
   "cell_type": "code",
   "execution_count": 16,
   "id": "eaa84349-7b0b-4a61-b4ad-3f47e4554559",
   "metadata": {},
   "outputs": [],
   "source": [
    "import pandas as pd\n",
    "from sqlalchemy import create_engine\n"
   ]
  },
  {
   "cell_type": "code",
   "execution_count": 17,
   "id": "9a57d270-4d4d-4e71-ae8b-d10816f6a077",
   "metadata": {},
   "outputs": [
    {
     "ename": "ProgrammingError",
     "evalue": "1698 (28000): Access denied for user 'root'@'localhost'",
     "output_type": "error",
     "traceback": [
      "\u001b[0;31m---------------------------------------------------------------------------\u001b[0m",
      "\u001b[0;31mMySQLInterfaceError\u001b[0m                       Traceback (most recent call last)",
      "File \u001b[0;32m~/.config/jupyterlab-desktop/jlab_server/lib/python3.12/site-packages/mysql/connector/connection_cext.py:327\u001b[0m, in \u001b[0;36mCMySQLConnection._open_connection\u001b[0;34m(self)\u001b[0m\n\u001b[1;32m    326\u001b[0m \u001b[38;5;28;01mtry\u001b[39;00m:\n\u001b[0;32m--> 327\u001b[0m     \u001b[38;5;28;43mself\u001b[39;49m\u001b[38;5;241;43m.\u001b[39;49m\u001b[43m_cmysql\u001b[49m\u001b[38;5;241;43m.\u001b[39;49m\u001b[43mconnect\u001b[49m\u001b[43m(\u001b[49m\u001b[38;5;241;43m*\u001b[39;49m\u001b[38;5;241;43m*\u001b[39;49m\u001b[43mcnx_kwargs\u001b[49m\u001b[43m)\u001b[49m\n\u001b[1;32m    328\u001b[0m     \u001b[38;5;28mself\u001b[39m\u001b[38;5;241m.\u001b[39m_cmysql\u001b[38;5;241m.\u001b[39mconverter_str_fallback \u001b[38;5;241m=\u001b[39m \u001b[38;5;28mself\u001b[39m\u001b[38;5;241m.\u001b[39m_converter_str_fallback\n",
      "\u001b[0;31mMySQLInterfaceError\u001b[0m: Access denied for user 'root'@'localhost'",
      "\nThe above exception was the direct cause of the following exception:\n",
      "\u001b[0;31mProgrammingError\u001b[0m                          Traceback (most recent call last)",
      "Cell \u001b[0;32mIn[17], line 1\u001b[0m\n\u001b[0;32m----> 1\u001b[0m mydb \u001b[38;5;241m=\u001b[39m \u001b[43mmysql\u001b[49m\u001b[38;5;241;43m.\u001b[39;49m\u001b[43mconnector\u001b[49m\u001b[38;5;241;43m.\u001b[39;49m\u001b[43mconnect\u001b[49m\u001b[43m(\u001b[49m\n\u001b[1;32m      2\u001b[0m \u001b[43m  \u001b[49m\u001b[43mhost\u001b[49m\u001b[38;5;241;43m=\u001b[39;49m\u001b[38;5;124;43m\"\u001b[39;49m\u001b[38;5;124;43mlocalhost\u001b[39;49m\u001b[38;5;124;43m\"\u001b[39;49m\u001b[43m,\u001b[49m\n\u001b[1;32m      3\u001b[0m \u001b[43m  \u001b[49m\u001b[43muser\u001b[49m\u001b[38;5;241;43m=\u001b[39;49m\u001b[38;5;124;43m\"\u001b[39;49m\u001b[38;5;124;43mroot\u001b[39;49m\u001b[38;5;124;43m\"\u001b[39;49m\u001b[43m,\u001b[49m\n\u001b[1;32m      4\u001b[0m \u001b[43m  \u001b[49m\u001b[43mpassword\u001b[49m\u001b[38;5;241;43m=\u001b[39;49m\u001b[38;5;124;43m\"\u001b[39;49m\u001b[38;5;124;43mjinal\u001b[39;49m\u001b[38;5;124;43m\"\u001b[39;49m\n\u001b[1;32m      5\u001b[0m \u001b[43m)\u001b[49m\n\u001b[1;32m      7\u001b[0m \u001b[38;5;28mprint\u001b[39m(mydb)\n",
      "File \u001b[0;32m~/.config/jupyterlab-desktop/jlab_server/lib/python3.12/site-packages/mysql/connector/pooling.py:322\u001b[0m, in \u001b[0;36mconnect\u001b[0;34m(*args, **kwargs)\u001b[0m\n\u001b[1;32m    319\u001b[0m         \u001b[38;5;28;01mraise\u001b[39;00m \u001b[38;5;167;01mImportError\u001b[39;00m(ERROR_NO_CEXT)\n\u001b[1;32m    321\u001b[0m \u001b[38;5;28;01mif\u001b[39;00m CMySQLConnection \u001b[38;5;129;01mand\u001b[39;00m \u001b[38;5;129;01mnot\u001b[39;00m use_pure:\n\u001b[0;32m--> 322\u001b[0m     \u001b[38;5;28;01mreturn\u001b[39;00m \u001b[43mCMySQLConnection\u001b[49m\u001b[43m(\u001b[49m\u001b[38;5;241;43m*\u001b[39;49m\u001b[43margs\u001b[49m\u001b[43m,\u001b[49m\u001b[43m \u001b[49m\u001b[38;5;241;43m*\u001b[39;49m\u001b[38;5;241;43m*\u001b[39;49m\u001b[43mkwargs\u001b[49m\u001b[43m)\u001b[49m\n\u001b[1;32m    323\u001b[0m \u001b[38;5;28;01mreturn\u001b[39;00m MySQLConnection(\u001b[38;5;241m*\u001b[39margs, \u001b[38;5;241m*\u001b[39m\u001b[38;5;241m*\u001b[39mkwargs)\n",
      "File \u001b[0;32m~/.config/jupyterlab-desktop/jlab_server/lib/python3.12/site-packages/mysql/connector/connection_cext.py:144\u001b[0m, in \u001b[0;36mCMySQLConnection.__init__\u001b[0;34m(self, **kwargs)\u001b[0m\n\u001b[1;32m    142\u001b[0m \u001b[38;5;28;01mif\u001b[39;00m kwargs:\n\u001b[1;32m    143\u001b[0m     \u001b[38;5;28;01mtry\u001b[39;00m:\n\u001b[0;32m--> 144\u001b[0m         \u001b[38;5;28;43mself\u001b[39;49m\u001b[38;5;241;43m.\u001b[39;49m\u001b[43mconnect\u001b[49m\u001b[43m(\u001b[49m\u001b[38;5;241;43m*\u001b[39;49m\u001b[38;5;241;43m*\u001b[39;49m\u001b[43mkwargs\u001b[49m\u001b[43m)\u001b[49m\n\u001b[1;32m    145\u001b[0m     \u001b[38;5;28;01mexcept\u001b[39;00m \u001b[38;5;167;01mException\u001b[39;00m:\n\u001b[1;32m    146\u001b[0m         \u001b[38;5;28mself\u001b[39m\u001b[38;5;241m.\u001b[39mclose()\n",
      "File \u001b[0;32m~/.config/jupyterlab-desktop/jlab_server/lib/python3.12/site-packages/mysql/connector/abstracts.py:1360\u001b[0m, in \u001b[0;36mMySQLConnectionAbstract.connect\u001b[0;34m(self, **kwargs)\u001b[0m\n\u001b[1;32m   1357\u001b[0m     \u001b[38;5;28mself\u001b[39m\u001b[38;5;241m.\u001b[39mconfig(\u001b[38;5;241m*\u001b[39m\u001b[38;5;241m*\u001b[39mkwargs)\n\u001b[1;32m   1359\u001b[0m \u001b[38;5;28mself\u001b[39m\u001b[38;5;241m.\u001b[39mdisconnect()\n\u001b[0;32m-> 1360\u001b[0m \u001b[38;5;28;43mself\u001b[39;49m\u001b[38;5;241;43m.\u001b[39;49m\u001b[43m_open_connection\u001b[49m\u001b[43m(\u001b[49m\u001b[43m)\u001b[49m\n\u001b[1;32m   1362\u001b[0m charset, collation \u001b[38;5;241m=\u001b[39m (\n\u001b[1;32m   1363\u001b[0m     kwargs\u001b[38;5;241m.\u001b[39mpop(\u001b[38;5;124m\"\u001b[39m\u001b[38;5;124mcharset\u001b[39m\u001b[38;5;124m\"\u001b[39m, \u001b[38;5;28;01mNone\u001b[39;00m),\n\u001b[1;32m   1364\u001b[0m     kwargs\u001b[38;5;241m.\u001b[39mpop(\u001b[38;5;124m\"\u001b[39m\u001b[38;5;124mcollation\u001b[39m\u001b[38;5;124m\"\u001b[39m, \u001b[38;5;28;01mNone\u001b[39;00m),\n\u001b[1;32m   1365\u001b[0m )\n\u001b[1;32m   1366\u001b[0m \u001b[38;5;28;01mif\u001b[39;00m charset \u001b[38;5;129;01mor\u001b[39;00m collation:\n",
      "File \u001b[0;32m~/.config/jupyterlab-desktop/jlab_server/lib/python3.12/site-packages/mysql/connector/connection_cext.py:332\u001b[0m, in \u001b[0;36mCMySQLConnection._open_connection\u001b[0;34m(self)\u001b[0m\n\u001b[1;32m    330\u001b[0m         \u001b[38;5;28mself\u001b[39m\u001b[38;5;241m.\u001b[39mconverter\u001b[38;5;241m.\u001b[39mstr_fallback \u001b[38;5;241m=\u001b[39m \u001b[38;5;28mself\u001b[39m\u001b[38;5;241m.\u001b[39m_converter_str_fallback\n\u001b[1;32m    331\u001b[0m \u001b[38;5;28;01mexcept\u001b[39;00m MySQLInterfaceError \u001b[38;5;28;01mas\u001b[39;00m err:\n\u001b[0;32m--> 332\u001b[0m     \u001b[38;5;28;01mraise\u001b[39;00m get_mysql_exception(\n\u001b[1;32m    333\u001b[0m         msg\u001b[38;5;241m=\u001b[39merr\u001b[38;5;241m.\u001b[39mmsg, errno\u001b[38;5;241m=\u001b[39merr\u001b[38;5;241m.\u001b[39merrno, sqlstate\u001b[38;5;241m=\u001b[39merr\u001b[38;5;241m.\u001b[39msqlstate\n\u001b[1;32m    334\u001b[0m     ) \u001b[38;5;28;01mfrom\u001b[39;00m \u001b[38;5;21;01merr\u001b[39;00m\n\u001b[1;32m    336\u001b[0m \u001b[38;5;28mself\u001b[39m\u001b[38;5;241m.\u001b[39m_do_handshake()\n\u001b[1;32m    338\u001b[0m \u001b[38;5;28;01mif\u001b[39;00m (\n\u001b[1;32m    339\u001b[0m     \u001b[38;5;129;01mnot\u001b[39;00m \u001b[38;5;28mself\u001b[39m\u001b[38;5;241m.\u001b[39m_ssl_disabled\n\u001b[1;32m    340\u001b[0m     \u001b[38;5;129;01mand\u001b[39;00m \u001b[38;5;28mhasattr\u001b[39m(\u001b[38;5;28mself\u001b[39m\u001b[38;5;241m.\u001b[39m_cmysql, \u001b[38;5;124m\"\u001b[39m\u001b[38;5;124mget_ssl_cipher\u001b[39m\u001b[38;5;124m\"\u001b[39m)\n\u001b[0;32m   (...)\u001b[0m\n\u001b[1;32m    345\u001b[0m \n\u001b[1;32m    346\u001b[0m     \u001b[38;5;66;03m# `get_ssl_cipher()` returns the name of the cipher being used.\u001b[39;00m\n",
      "\u001b[0;31mProgrammingError\u001b[0m: 1698 (28000): Access denied for user 'root'@'localhost'"
     ]
    }
   ],
   "source": [
    "mydb = mysql.connector.connect(\n",
    "  host=\"localhost\",\n",
    "  user=\"root\",\n",
    "  password=\"jinal\"\n",
    ")\n",
    "\n",
    "print(mydb)"
   ]
  },
  {
   "cell_type": "code",
   "execution_count": 18,
   "id": "7b76e7a5-b7ce-4214-bc05-9a3219bf810c",
   "metadata": {},
   "outputs": [
    {
     "name": "stdout",
     "output_type": "stream",
     "text": [
      "amskl\n"
     ]
    }
   ],
   "source": [
    "print('amskl')"
   ]
  },
  {
   "cell_type": "code",
   "execution_count": 20,
   "id": "abf3d7d3-ae97-4a95-8887-c3ff4e2e493b",
   "metadata": {},
   "outputs": [
    {
     "name": "stdout",
     "output_type": "stream",
     "text": [
      "cnxjz\n"
     ]
    }
   ],
   "source": [
    "print('cnxjz')"
   ]
  },
  {
   "cell_type": "code",
   "execution_count": 21,
   "id": "cf2310d7-7fc4-4966-ab6b-2e66d7bae84a",
   "metadata": {},
   "outputs": [
    {
     "ename": "SyntaxError",
     "evalue": "unterminated string literal (detected at line 1) (420833358.py, line 1)",
     "output_type": "error",
     "traceback": [
      "\u001b[0;36m  Cell \u001b[0;32mIn[21], line 1\u001b[0;36m\u001b[0m\n\u001b[0;31m    while True Print('asjkash)\u001b[0m\n\u001b[0m                     ^\u001b[0m\n\u001b[0;31mSyntaxError\u001b[0m\u001b[0;31m:\u001b[0m unterminated string literal (detected at line 1)\n"
     ]
    }
   ],
   "source": [
    "while True Print('asjkash)"
   ]
  },
  {
   "cell_type": "code",
   "execution_count": 22,
   "id": "cf8f444a-f699-4753-8308-c1f7b55efa57",
   "metadata": {},
   "outputs": [
    {
     "ename": "SyntaxError",
     "evalue": "unterminated string literal (detected at line 2) (1753833765.py, line 2)",
     "output_type": "error",
     "traceback": [
      "\u001b[0;36m  Cell \u001b[0;32mIn[22], line 2\u001b[0;36m\u001b[0m\n\u001b[0;31m    print('dnjk)\u001b[0m\n\u001b[0m          ^\u001b[0m\n\u001b[0;31mSyntaxError\u001b[0m\u001b[0;31m:\u001b[0m unterminated string literal (detected at line 2)\n"
     ]
    }
   ],
   "source": [
    "if a>b\n",
    "    print('dnjk)"
   ]
  },
  {
   "cell_type": "code",
   "execution_count": null,
   "id": "29e0e62a-22b7-4380-9c3e-a8575627e0b7",
   "metadata": {},
   "outputs": [],
   "source": [
    "# erorros are the problem in a program due to which the program will stop the execution.\n",
    "syntax error\n",
    "name error\n",
    "value error\n"
   ]
  },
  {
   "cell_type": "code",
   "execution_count": 23,
   "id": "8153312d-7221-4879-8fbe-36c26f2b835c",
   "metadata": {},
   "outputs": [
    {
     "ename": "ZeroDivisionError",
     "evalue": "division by zero",
     "output_type": "error",
     "traceback": [
      "\u001b[0;31m---------------------------------------------------------------------------\u001b[0m",
      "\u001b[0;31mZeroDivisionError\u001b[0m                         Traceback (most recent call last)",
      "Cell \u001b[0;32mIn[23], line 2\u001b[0m\n\u001b[1;32m      1\u001b[0m m\u001b[38;5;241m=\u001b[39m\u001b[38;5;241m1000\u001b[39m\n\u001b[0;32m----> 2\u001b[0m a\u001b[38;5;241m=\u001b[39m\u001b[43mm\u001b[49m\u001b[38;5;241;43m/\u001b[39;49m\u001b[38;5;241;43m0\u001b[39;49m\n\u001b[1;32m      3\u001b[0m \u001b[38;5;28mprint\u001b[39m(a)\n",
      "\u001b[0;31mZeroDivisionError\u001b[0m: division by zero"
     ]
    }
   ],
   "source": [
    "m=1000\n",
    "a=m/0\n",
    "print(a)"
   ]
  },
  {
   "cell_type": "code",
   "execution_count": 25,
   "id": "a26985b3-79c9-4e88-b483-d4adc0404dd5",
   "metadata": {},
   "outputs": [
    {
     "ename": "IndentationError",
     "evalue": "expected an indented block after 'if' statement on line 1 (589579168.py, line 2)",
     "output_type": "error",
     "traceback": [
      "\u001b[0;36m  Cell \u001b[0;32mIn[25], line 2\u001b[0;36m\u001b[0m\n\u001b[0;31m    print('dsk')\u001b[0m\n\u001b[0m    ^\u001b[0m\n\u001b[0;31mIndentationError\u001b[0m\u001b[0;31m:\u001b[0m expected an indented block after 'if' statement on line 1\n"
     ]
    }
   ],
   "source": [
    "if a>b:\n",
    "print('dsk')"
   ]
  },
  {
   "cell_type": "code",
   "execution_count": null,
   "id": "6014209a-66d4-497b-847b-510ea7e5d2e7",
   "metadata": {},
   "outputs": [],
   "source": [
    "index error - when the wrong index of a list is retrieved\n",
    "assertion error - occurs when the assert statemnt fails\n",
    "attribute error - occurs when an attribute assignment is failed\n",
    "import error - occurs when imported module is not found\n",
    "key error - occur when key of the dictionarty not found\n",
    "name error - occurs when variable is not found\n",
    "memory error -occurs when program run out of memory\n",
    "type error- occur when a functiona and operation are applied in a nincorrect type"
   ]
  },
  {
   "cell_type": "code",
   "execution_count": null,
   "id": "b0d12111-dbed-4640-a646-65da93fe538b",
   "metadata": {},
   "outputs": [],
   "source": [
    "handling exception with try / except / finally"
   ]
  },
  {
   "cell_type": "code",
   "execution_count": 32,
   "id": "aa7b598d-bd08-4fe5-99d1-8a10581d4c53",
   "metadata": {},
   "outputs": [
    {
     "name": "stdout",
     "output_type": "stream",
     "text": [
      "[12, 43, 66, 56837, 43, 65, 7589457648]\n",
      "7589457648\n"
     ]
    }
   ],
   "source": [
    "arr=[12,43,66,56837,43,65,7589457648]\n",
    "\n",
    "def largest(arr):\n",
    "    if not arr:\n",
    "        return None\n",
    "    largest=arr[0]\n",
    "    for i in arr[1:]:\n",
    "        if i >largest:\n",
    "           largest=i\n",
    "    return largest\n",
    "\n",
    "print(arr)\n",
    "print(largest(arr))"
   ]
  },
  {
   "cell_type": "code",
   "execution_count": null,
   "id": "a4d19fb7-ddba-4d42-814b-8f33b0806eb8",
   "metadata": {},
   "outputs": [],
   "source": [
    "\n"
   ]
  },
  {
   "cell_type": "code",
   "execution_count": 27,
   "id": "3da5779c-8264-45f3-b939-7098467e303d",
   "metadata": {},
   "outputs": [
    {
     "data": {
      "text/plain": [
       "[43, 32, 543, 32, 54, 32, 54]"
      ]
     },
     "execution_count": 27,
     "metadata": {},
     "output_type": "execute_result"
    }
   ],
   "source": [
    "arr=[10,43,32,543,32,54,32,54]\n",
    "arr[1:]"
   ]
  },
  {
   "cell_type": "code",
   "execution_count": 101,
   "id": "1771ae4a-90c0-4ad1-ad1e-4e83594cf63f",
   "metadata": {},
   "outputs": [
    {
     "name": "stdout",
     "output_type": "stream",
     "text": [
      "jim\n",
      "Sam\n",
      "Dean\n",
      "Micheal\n",
      "('Dean', 33)\n",
      "('jim', 23)\n"
     ]
    }
   ],
   "source": [
    "'''Get Keys with Maximum and Minimum Value in a Dictionary\n",
    "\n",
    "\tD1 = {'Jim': 23, 'Sam': 29, 'Dean': 33, 'Micheal': 40}\n",
    "\t\n",
    "\tresult:\n",
    "\tmax: Micheal 40\n",
    "\tmin: Jim 23\n",
    "\t'''\n",
    "\n",
    "d1= {'jim':23,'Sam':29,'Dean':33,'Micheal':40}\n",
    "for i in d1.keys():\n",
    "    print(i)\n",
    "\n",
    "print(min(d1.items()))\n",
    "print(max(d1.items()))"
   ]
  },
  {
   "cell_type": "code",
   "execution_count": 49,
   "id": "ea2b5467-0b92-4a6e-a430-fba5367ff7dc",
   "metadata": {},
   "outputs": [
    {
     "name": "stdout",
     "output_type": "stream",
     "text": [
      "{1: 2, 2: 2, 3: 1, 4: 2, 5: 2, 6: 1, 7: 2}\n"
     ]
    }
   ],
   "source": [
    "'''\t\n",
    "2. Count the Frequency of List Items Using a Dictionary\n",
    "\n",
    "\tList1 = [1, 2, 2, 3, 4, 1, 4, 5, 5, 6, 7, 7]\n",
    "'''\n",
    "\n",
    "\n",
    "n=[1,2,2,3,4,1,4,5,5,6,7,7]\n",
    "def frequen(n):\n",
    "    fre={}\n",
    "    for i in n:\n",
    "        if i in fre:\n",
    "            fre[i]+=1\n",
    "        else:\n",
    "            fre[i]=1\n",
    "    return fre\n",
    "\n",
    "print(frequen(n))"
   ]
  },
  {
   "cell_type": "code",
   "execution_count": 62,
   "id": "5620650d-b015-4716-9785-883052d98113",
   "metadata": {},
   "outputs": [
    {
     "data": {
      "text/plain": [
       "{'emp1': {'name': 'jinal', 'age': 26, 'job': 'developer'}}"
      ]
     },
     "execution_count": 62,
     "metadata": {},
     "output_type": "execute_result"
    }
   ],
   "source": [
    "'''3. Change the Value of a Key in Nested Dictionary\n",
    "\n",
    "\tD1 = {'emp1': {'name' : 'Jim', 'age' : 26, 'job' : 'developer'}}\n",
    "'''\n",
    "\n",
    "d1= {'emp1': {'name':'jim' , 'age':26, 'job':'developer'}}\n",
    "\n",
    "\n",
    "d1['emp1']['name']='jinal'\n",
    "d1"
   ]
  },
  {
   "cell_type": "code",
   "execution_count": 104,
   "id": "b068d35d-db85-4ad3-bc7b-b78b0ca01347",
   "metadata": {},
   "outputs": [
    {
     "name": "stdout",
     "output_type": "stream",
     "text": [
      "{'jim': 23, 'jerry': 29, 'antonuy': 34, 'Michel': 40, 'Merlin': 45}\n"
     ]
    }
   ],
   "source": [
    "'''4. Sort a Given Dictionary by Value\n",
    "\n",
    "\tD1 = {'Jim': 23, 'Jerry': 29, 'Micheal': 40, 'Merlin': 45, 'Antony': 34}\n",
    "\t\n",
    "\tresult:\n",
    "\tMerlin 45\n",
    "\tMicheal 40\n",
    "\tAntony 34\n",
    "\tJerry 29\n",
    "\tJim 23\t\t\n",
    "\t\n",
    "'''\n",
    "D1= {'jim':23,'jerry':29,'Michel':40,'Merlin':45, 'antonuy':34}\n",
    "\n",
    "items=list(D1.items())\n",
    "n=len(items)\n",
    "for i in range(n):\n",
    "    for j in range(0,n-i-1):\n",
    "        if items[j][1] > items[j+1][1]:\n",
    "            items[j],items[j+1]=items[j+1],items[j]\n",
    "\n",
    "s=dict(items)\n",
    "print(s)\n"
   ]
  },
  {
   "cell_type": "code",
   "execution_count": 94,
   "id": "747913fb-83ff-4c59-ae17-4d3cc32d36a4",
   "metadata": {},
   "outputs": [
    {
     "name": "stdout",
     "output_type": "stream",
     "text": [
      "a d e f "
     ]
    }
   ],
   "source": [
    "'''5. Count the Number of matching characters in a pair of string\n",
    "\n",
    "\tstr1 = 'abcdef'\n",
    "\tstr2 = 'defghia'''\n",
    "\n",
    "\n",
    "str1='abcdef'\n",
    "str2='defghia'\n",
    "def char_match(s1,s2):\n",
    "    for i in s1:\n",
    "        for j in s2:\n",
    "            if i==j:\n",
    "                print(i , end=' ')\n",
    "        \n",
    "\n",
    "char_match(str1,str2)"
   ]
  },
  {
   "cell_type": "code",
   "execution_count": 93,
   "id": "27ee3163-85f2-45c5-a18e-89d2ca43649f",
   "metadata": {},
   "outputs": [
    {
     "name": "stdout",
     "output_type": "stream",
     "text": [
      "Micheal 40\n",
      "Jim 23\n"
     ]
    }
   ],
   "source": [
    "D1 = {'Jim': 23, 'Sam': 29, 'Dean': 33, 'Micheal': 40}\n",
    "\n",
    "max_key=None\n",
    "max_value=None\n",
    "min_key=None\n",
    "min_value=None\n",
    "\n",
    "for key,value in D1.items():\n",
    "    if  max_value is None or value > max_value:\n",
    "        max_value=value\n",
    "        max_key=key\n",
    "    if  min_value is None or value < min_value:\n",
    "        min_value=value\n",
    "        min_key=key\n",
    "\n",
    "print(max_key,max_value)\n",
    "print(min_key,min_value)"
   ]
  },
  {
   "cell_type": "code",
   "execution_count": 109,
   "id": "e1cbf99b-c2d0-43ed-a32a-2cfe60f99a7e",
   "metadata": {},
   "outputs": [
    {
     "name": "stdout",
     "output_type": "stream",
     "text": [
      "B\n",
      "c\n",
      "D\n"
     ]
    }
   ],
   "source": [
    "class B(Exception):\n",
    "    pass\n",
    "\n",
    "class C(B):\n",
    "    pass\n",
    "\n",
    "class D(C):\n",
    "    pass\n",
    "\n",
    "for i in [B,C,D]:\n",
    "    try:\n",
    "        raise i()\n",
    "    except D:\n",
    "        print('D')\n",
    "    except C:\n",
    "        print('c')\n",
    "    except B:\n",
    "        print('B')"
   ]
  },
  {
   "cell_type": "code",
   "execution_count": 112,
   "id": "b7e399d6-d5b6-4100-a83d-8a7c67b82dbe",
   "metadata": {},
   "outputs": [],
   "source": [
    " import math"
   ]
  },
  {
   "cell_type": "code",
   "execution_count": 113,
   "id": "061ddf99-a31a-4dd1-af5f-dfd98aae7faf",
   "metadata": {},
   "outputs": [],
   "source": [
    "import math as m"
   ]
  },
  {
   "cell_type": "code",
   "execution_count": 114,
   "id": "fb3b7642-817e-43c8-8da3-00708b46e95a",
   "metadata": {},
   "outputs": [
    {
     "data": {
      "text/plain": [
       "3.141592653589793"
      ]
     },
     "execution_count": 114,
     "metadata": {},
     "output_type": "execute_result"
    }
   ],
   "source": [
    "m.pi"
   ]
  },
  {
   "cell_type": "code",
   "execution_count": 115,
   "id": "dc2288ff-335f-4aa3-a4e7-bf9ffbc0e029",
   "metadata": {},
   "outputs": [
    {
     "data": {
      "text/plain": [
       "9"
      ]
     },
     "execution_count": 115,
     "metadata": {},
     "output_type": "execute_result"
    }
   ],
   "source": [
    "x=9.7\n",
    "m.floor(x)"
   ]
  },
  {
   "cell_type": "code",
   "execution_count": 117,
   "id": "68d95b0b-81a2-41c1-9c60-7e2e80efc13b",
   "metadata": {},
   "outputs": [
    {
     "data": {
      "text/plain": [
       "10"
      ]
     },
     "execution_count": 117,
     "metadata": {},
     "output_type": "execute_result"
    }
   ],
   "source": [
    "m.ceil(x)"
   ]
  },
  {
   "cell_type": "code",
   "execution_count": 118,
   "id": "98fe9d54-049a-4915-956f-2e97de86d817",
   "metadata": {},
   "outputs": [],
   "source": [
    "import sys"
   ]
  },
  {
   "cell_type": "code",
   "execution_count": 119,
   "id": "e8ca6ba7-58f6-4fee-b2c4-6e8d0bec532c",
   "metadata": {},
   "outputs": [],
   "source": [
    "sys.path.append('/home/test/')"
   ]
  },
  {
   "cell_type": "code",
   "execution_count": null,
   "id": "d9919f00-144b-40c7-8d20-5cfe0ffd0ee0",
   "metadata": {},
   "outputs": [],
   "source": [
    "syntax error - due to syntax error\n",
    "type error - due to data types \n",
    "Name error - due to variable or function name is not found\n",
    "index error - index is out of range\n",
    "key error - key is not found in dictionary\n",
    "value error - called with an invalid argument or input\n",
    "attribute error - attribute or method is not found on an object\n",
    "IO error - reading or writing file fail dut to an input/output error\n",
    "ZeroDivision Error - divide a number by zero\n",
    "Import Error - fails to find or load a  module."
   ]
  },
  {
   "cell_type": "code",
   "execution_count": 124,
   "id": "90e086ce-570d-4574-ba95-43e58443ff55",
   "metadata": {},
   "outputs": [
    {
     "name": "stdout",
     "output_type": "stream",
     "text": [
      "an exception\n"
     ]
    },
    {
     "ename": "RuntimeError",
     "evalue": "No active exception to reraise",
     "output_type": "error",
     "traceback": [
      "\u001b[0;31m---------------------------------------------------------------------------\u001b[0m",
      "\u001b[0;31mRuntimeError\u001b[0m                              Traceback (most recent call last)",
      "Cell \u001b[0;32mIn[124], line 5\u001b[0m\n\u001b[1;32m      3\u001b[0m \u001b[38;5;28;01mexcept\u001b[39;00m \u001b[38;5;167;01mNameError\u001b[39;00m:\n\u001b[1;32m      4\u001b[0m     \u001b[38;5;28mprint\u001b[39m(\u001b[38;5;124m'\u001b[39m\u001b[38;5;124man exception\u001b[39m\u001b[38;5;124m'\u001b[39m)\n\u001b[0;32m----> 5\u001b[0m \u001b[38;5;28;01mraise\u001b[39;00m\n",
      "\u001b[0;31mRuntimeError\u001b[0m: No active exception to reraise"
     ]
    }
   ],
   "source": [
    "\n",
    "try:\n",
    "    raise NameError('hiiii there')\n",
    "except NameError:\n",
    "    print('an exception')\n",
    "raise"
   ]
  },
  {
   "cell_type": "code",
   "execution_count": 128,
   "id": "1268f55e-19e7-4dcd-bf5f-88dd95d2e65f",
   "metadata": {},
   "outputs": [
    {
     "name": "stdout",
     "output_type": "stream",
     "text": [
      "Error : denominator cannot be 0 .\n"
     ]
    }
   ],
   "source": [
    "try:\n",
    "    numerator=10\n",
    "    denominator=0\n",
    "    re=numerator/denominator\n",
    "    print(re)\n",
    "\n",
    "except:\n",
    "    print('Error : denominator cannot be 0 .')"
   ]
  },
  {
   "cell_type": "code",
   "execution_count": 129,
   "id": "3b4e808b-d49a-4f36-81a2-f705b1d6bf49",
   "metadata": {},
   "outputs": [
    {
     "name": "stdout",
     "output_type": "stream",
     "text": [
      "index out of bound\n"
     ]
    }
   ],
   "source": [
    "try:\n",
    "    even=[2,4,6,8]\n",
    "    print(even[5])\n",
    "\n",
    "except ZeroDivisionError:\n",
    "    print('denominator cannot be 0.')\n",
    "except IndexError:\n",
    "    print('index out of bound')"
   ]
  },
  {
   "cell_type": "code",
   "execution_count": 134,
   "id": "c0da560b-ec82-48f3-ab06-228c89fb88e4",
   "metadata": {},
   "outputs": [
    {
     "name": "stdout",
     "output_type": "stream",
     "text": [
      "os error [Errno 2] No such file or directory: 'myfile.txt'\n"
     ]
    },
    {
     "ename": "RuntimeError",
     "evalue": "No active exception to reraise",
     "output_type": "error",
     "traceback": [
      "\u001b[0;31m---------------------------------------------------------------------------\u001b[0m",
      "\u001b[0;31mRuntimeError\u001b[0m                              Traceback (most recent call last)",
      "Cell \u001b[0;32mIn[134], line 10\u001b[0m\n\u001b[1;32m      8\u001b[0m \u001b[38;5;28;01mexcept\u001b[39;00m \u001b[38;5;167;01mException\u001b[39;00m \u001b[38;5;28;01mas\u001b[39;00m err:\n\u001b[1;32m      9\u001b[0m     \u001b[38;5;28mprint\u001b[39m(\u001b[38;5;124mf\u001b[39m\u001b[38;5;124m'\u001b[39m\u001b[38;5;124m uneexpected \u001b[39m\u001b[38;5;132;01m{\u001b[39;00merr\u001b[38;5;132;01m=}\u001b[39;00m\u001b[38;5;124m , \u001b[39m\u001b[38;5;132;01m{\u001b[39;00m\u001b[38;5;28mtype\u001b[39m(err)\u001b[38;5;132;01m}\u001b[39;00m\u001b[38;5;124m'\u001b[39m)\n\u001b[0;32m---> 10\u001b[0m \u001b[38;5;28;01mraise\u001b[39;00m\n",
      "\u001b[0;31mRuntimeError\u001b[0m: No active exception to reraise"
     ]
    }
   ],
   "source": [
    "import sys\n",
    "try:\n",
    "    f= open('myfile.txt')\n",
    "except OSError as err:\n",
    "    print('os error' , err)\n",
    "except ValueError:\n",
    "    print('could not convert data to an integer')\n",
    "except Exception as err:\n",
    "    print(f' uneexpected {err=} , {type(err)}')\n",
    "raise"
   ]
  },
  {
   "cell_type": "code",
   "execution_count": null,
   "id": "21a82b6b-6ffb-4000-9e08-802425d2c007",
   "metadata": {},
   "outputs": [],
   "source": [
    "admin interface (CRUD )\n",
    "templating\n",
    "form handling\n",
    "internationalization\n",
    "ORM object relational mapping\n",
    "testing framework\n"
   ]
  },
  {
   "cell_type": "code",
   "execution_count": null,
   "id": "c8a4398d-f373-4b1f-b6b5-780b75b7ea2d",
   "metadata": {},
   "outputs": [],
   "source": [
    "MVT- model view Template architecture\n",
    "middleware- middleware are hook to modify django request or response object. it's a light,low-level\n",
    "pligin system for globally altering django's input or output."
   ]
  },
  {
   "cell_type": "code",
   "execution_count": null,
   "id": "4ddaa97a-dc6a-4d77-9f19-b2e62feb88c2",
   "metadata": {},
   "outputs": [],
   "source": [
    "decorators- modify a behaviour or change behaviour of function without permanatly \n",
    "changing it."
   ]
  },
  {
   "cell_type": "code",
   "execution_count": null,
   "id": "22ff3f55-6513-48b1-a6ba-6573e3c15291",
   "metadata": {},
   "outputs": [],
   "source": [
    "django project directory structure-\n",
    "\n",
    "    manage.py- command line utility that allows you to interact with your django project\n",
    "    __init__.py- current directory should be considered as python package\n",
    "    urls.py- all the URLs of the project are present here\n",
    "    seeting.py - configurations of the current project like DB connectiolns \n",
    "    wsgi.py- entry point for your application which is used by the web server to serve the project you have created."
   ]
  },
  {
   "cell_type": "code",
   "execution_count": null,
   "id": "c41852fe-5143-42eb-b415-68178c98a140",
   "metadata": {},
   "outputs": [],
   "source": [
    "jinja2 = set default template system in django"
   ]
  },
  {
   "cell_type": "code",
   "execution_count": null,
   "id": "17b47082-381e-474d-9cbe-f0f6cd6c5584",
   "metadata": {},
   "outputs": [],
   "source": [
    "models in django- class that mapts to database table or database collections."
   ]
  },
  {
   "cell_type": "code",
   "execution_count": null,
   "id": "4052fc87-f77f-46ea-aa1b-7ad0066e621f",
   "metadata": {},
   "outputs": [],
   "source": [
    "views- it takes web request and returns a web response."
   ]
  },
  {
   "cell_type": "code",
   "execution_count": null,
   "id": "6f7e479b-e33f-44eb-84d5-a20ebea3ff59",
   "metadata": {},
   "outputs": [],
   "source": [
    "ORM- object relational mapper enables us to interact witgh database is more pythonic way \n",
    "like we avoid writing a raw queries."
   ]
  },
  {
   "cell_type": "code",
   "execution_count": null,
   "id": "000d0e31-de61-4789-9c96-ed8942c15149",
   "metadata": {},
   "outputs": [],
   "source": [
    "static files - "
   ]
  },
  {
   "cell_type": "code",
   "execution_count": null,
   "id": "1517fc43-7574-4de7-b51e-3e1545d3dbf9",
   "metadata": {},
   "outputs": [],
   "source": [
    "project and app- project is the entire django application\n",
    "app- module inside the project"
   ]
  },
  {
   "cell_type": "code",
   "execution_count": null,
   "id": "8f721eba-a64e-48c6-a56b-a8fe6cd54782",
   "metadata": {},
   "outputs": [],
   "source": [
    "user authnetication- \n",
    "users, groups, user-permissions and few cokies-based user sessions."
   ]
  },
  {
   "cell_type": "code",
   "execution_count": null,
   "id": "e457b287-2dbf-41f4-8d6e-8c9c59197d74",
   "metadata": {},
   "outputs": [],
   "source": [
    "context- dictionary mapping template variable name given to python objects in django."
   ]
  },
  {
   "cell_type": "code",
   "execution_count": null,
   "id": "33088f61-814d-408d-9836-8bef115c7b57",
   "metadata": {},
   "outputs": [],
   "source": [
    "model.objects.all()\n",
    "model.objects.filter(field_name='jinal')"
   ]
  },
  {
   "cell_type": "code",
   "execution_count": null,
   "id": "5510d0c1-8763-4e30-9fb3-f0c87b92d0fe",
   "metadata": {},
   "outputs": [],
   "source": [
    "dbms- database relational management system\n",
    "rdbms- relational database management system\n",
    "sql- structured query language"
   ]
  },
  {
   "cell_type": "code",
   "execution_count": null,
   "id": "dd2b2af9-c3aa-45b8-a2c3-1dd309f17241",
   "metadata": {},
   "outputs": [],
   "source": [
    "sql-  primarily calledm relational database\n",
    "nosql- called no relational database\n",
    "\n",
    "\n",
    "sql - databases define and manipulate data-based strctured query langauge."
   ]
  },
  {
   "cell_type": "code",
   "execution_count": null,
   "id": "46249f50-29e7-4e42-9fbf-9f0a04ea77fd",
   "metadata": {},
   "outputs": [],
   "source": [
    "create, delete, and updatr4e tables in a database\n",
    "access, manipulate , and m modify data in a table\n",
    "retrive and summarize the necessary information froma table or several tables\n",
    "add or remove certailn rows or columns from a table."
   ]
  },
  {
   "cell_type": "code",
   "execution_count": null,
   "id": "28cc79ce-68c2-4f1b-adfa-64bd028db804",
   "metadata": {},
   "outputs": [],
   "source": [
    "DDL - create, alter drop, truncate amnd add column\n",
    "DML- update , delete and insert\n",
    "DCL - grant and revoke\n",
    "TCL- commit,set transaction, rollback, and savepoint\n",
    "DQL - select"
   ]
  },
  {
   "cell_type": "code",
   "execution_count": null,
   "id": "d4fc6da4-bfdc-4338-92c1-4c6a35c79c53",
   "metadata": {},
   "outputs": [],
   "source": [
    "default - provides a default value for a column\n",
    "unique - allowa only unique key\n",
    "not null- allows only non-null values\n",
    "primary key - allowa only uinque and strictly non-null values\n",
    "foreign key - provides shared keys  between two and more tables"
   ]
  },
  {
   "cell_type": "code",
   "execution_count": null,
   "id": "0f83f306-42c8-40ac-bc14-a1df9fabac4e",
   "metadata": {},
   "outputs": [],
   "source": [
    "join- combine and retrive records from two or more tables.sql tables can be joined based \n",
    "on the relationship the columns of those tables."
   ]
  },
  {
   "cell_type": "code",
   "execution_count": null,
   "id": "bd4a6e2d-4282-4198-a30e-6999bcddc629",
   "metadata": {},
   "outputs": [],
   "source": [
    "inner join\n",
    "left outer join\n",
    "right outer join\n",
    "full outer join\n"
   ]
  },
  {
   "cell_type": "code",
   "execution_count": null,
   "id": "24f89bdf-e246-4fbe-8b82-0651840439f8",
   "metadata": {},
   "outputs": [],
   "source": [
    "sub query- select, from, where, update"
   ]
  },
  {
   "cell_type": "code",
   "execution_count": null,
   "id": "9be7d378-3f07-4d0f-8047-293595061732",
   "metadata": {},
   "outputs": [],
   "source": [
    "constraints- rule"
   ]
  },
  {
   "cell_type": "code",
   "execution_count": null,
   "id": "816e596f-19f0-48d2-a5d1-8c5526a74a2c",
   "metadata": {},
   "outputs": [],
   "source": [
    "contra"
   ]
  },
  {
   "cell_type": "code",
   "execution_count": null,
   "id": "a7b0f90b-9528-4a95-87d9-fcd6d4c81ac4",
   "metadata": {},
   "outputs": [],
   "source": [
    "select * from tablename;"
   ]
  },
  {
   "cell_type": "code",
   "execution_count": null,
   "id": "acab5858-f7c7-4e88-8336-a367e5c662e3",
   "metadata": {},
   "outputs": [],
   "source": [
    "select name, city from tablename;"
   ]
  },
  {
   "cell_type": "code",
   "execution_count": null,
   "id": "69d40d08-d249-49e7-93a7-adf3174c7d4a",
   "metadata": {},
   "outputs": [],
   "source": [
    "select movie_title,year_released from movies where movie_title like '%godfather%';"
   ]
  },
  {
   "cell_type": "code",
   "execution_count": null,
   "id": "39784eeb-a41c-456f-8029-00d8d4be380e",
   "metadata": {},
   "outputs": [],
   "source": [
    "select city,name from tablename where name >500;"
   ]
  },
  {
   "cell_type": "code",
   "execution_count": null,
   "id": "55d5ec4c-3bc9-4caf-b5fc-1b7adb976bdc",
   "metadata": {},
   "outputs": [],
   "source": [
    "select moview_title, year released from movies where year_released < 2001 and \n",
    "imdb_rating > 9;"
   ]
  },
  {
   "cell_type": "code",
   "execution_count": null,
   "id": "7f8bd99b-7602-4f4a-8105-c036d65e68f0",
   "metadata": {},
   "outputs": [],
   "source": [
    "time complexity\n",
    "space complexity"
   ]
  },
  {
   "cell_type": "code",
   "execution_count": null,
   "id": "dc78e551-66ee-4324-b587-ebf574c4ff7b",
   "metadata": {},
   "outputs": [],
   "source": []
  },
  {
   "cell_type": "code",
   "execution_count": null,
   "id": "04c358ca-ac74-437e-afed-e2f150c903ea",
   "metadata": {},
   "outputs": [],
   "source": []
  },
  {
   "cell_type": "code",
   "execution_count": null,
   "id": "85794b3c-05b8-4302-90e7-af42bbb9e296",
   "metadata": {},
   "outputs": [],
   "source": []
  },
  {
   "cell_type": "code",
   "execution_count": null,
   "id": "6cd00509-f30e-4724-a60d-5f4b1c7376d1",
   "metadata": {},
   "outputs": [],
   "source": []
  },
  {
   "cell_type": "code",
   "execution_count": null,
   "id": "30b17d0f-3de9-44d5-982a-a33c25ff7043",
   "metadata": {},
   "outputs": [],
   "source": []
  },
  {
   "cell_type": "code",
   "execution_count": null,
   "id": "9765301b-511d-43e1-9c72-8316f41db301",
   "metadata": {},
   "outputs": [],
   "source": []
  },
  {
   "cell_type": "code",
   "execution_count": null,
   "id": "683e615f-49c5-43a2-9bd1-6463050c3ef5",
   "metadata": {},
   "outputs": [],
   "source": []
  },
  {
   "cell_type": "code",
   "execution_count": null,
   "id": "f01bd49c-59cf-4b96-bb7f-aff1412469bb",
   "metadata": {},
   "outputs": [],
   "source": []
  }
 ],
 "metadata": {
  "kernelspec": {
   "display_name": "Python 3 (ipykernel)",
   "language": "python",
   "name": "python3"
  },
  "language_info": {
   "codemirror_mode": {
    "name": "ipython",
    "version": 3
   },
   "file_extension": ".py",
   "mimetype": "text/x-python",
   "name": "python",
   "nbconvert_exporter": "python",
   "pygments_lexer": "ipython3",
   "version": "3.12.3"
  }
 },
 "nbformat": 4,
 "nbformat_minor": 5
}
